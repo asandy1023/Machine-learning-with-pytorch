{
  "nbformat": 4,
  "nbformat_minor": 0,
  "metadata": {
    "accelerator": "GPU",
    "colab": {
      "provenance": [],
      "collapsed_sections": [],
      "toc_visible": true,
      "include_colab_link": true
    },
    "kernelspec": {
      "display_name": "Python 3",
      "language": "python",
      "name": "python3"
    },
    "language_info": {
      "codemirror_mode": {
        "name": "ipython",
        "version": 3
      },
      "file_extension": ".py",
      "mimetype": "text/x-python",
      "name": "python",
      "nbconvert_exporter": "python",
      "pygments_lexer": "ipython3",
      "version": "3.6.6"
    }
  },
  "cells": [
    {
      "cell_type": "markdown",
      "metadata": {
        "id": "view-in-github",
        "colab_type": "text"
      },
      "source": [
        "<a href=\"https://colab.research.google.com/github/asandy1023/python-demo/blob/main/taiwan_aicup_Spring.ipynb\" target=\"_parent\"><img src=\"https://colab.research.google.com/assets/colab-badge.svg\" alt=\"Open In Colab\"/></a>"
      ]
    },
    {
      "cell_type": "markdown",
      "metadata": {
        "id": "umjMDLq9IibR"
      },
      "source": [
        "taiwan_aicup_Spring\n",
        "\n"
      ]
    },
    {
      "cell_type": "code",
      "metadata": {
        "id": "KxiYHF5WE43s"
      },
      "source": [
        "import torch\n",
        "import torch.nn as nn\n",
        "import torch.nn.functional as F\n",
        "import numpy as np\n",
        "import math\n",
        "\n",
        "\n",
        "class PositionalEncoding(nn.Module):\n",
        "    def __init__(self, d_emb: int, dropout: float = 0.1, max_len: int = 200):\n",
        "        super(PositionalEncoding, self).__init__()\n",
        "        self.dropout = nn.Dropout(p=dropout)\n",
        "\n",
        "        # Compute the positional encodings once in log space.\n",
        "        self.pe = torch.zeros(max_len, d_emb)\n",
        "        position = torch.arange(0, max_len).unsqueeze(1)\n",
        "        div_term = torch.exp(torch.arange(0, d_emb, 2) *\n",
        "                             -(math.log(10000.0) / d_emb))\n",
        "        self.pe[:, 0::2] = torch.sin(position * div_term)\n",
        "        self.pe[:, 1::2] = torch.cos(position * div_term)\n",
        "        self.pe = self.pe.unsqueeze(0)\n",
        "\n",
        "    def forward(self, src):\n",
        "        pe = self.pe.detach().to(src.device)\n",
        "        output = src + pe[:, :src.size(1)]\n",
        "        return self.dropout(output)\n",
        "\n",
        "\n",
        "class MultiHeadAttention(nn.Module):\n",
        "    def __init__(self, d_hid, n_head):\n",
        "        super(MultiHeadAttention, self).__init__()\n",
        "        self.n_head = n_head\n",
        "        self.d_k = d_hid // n_head\n",
        "        self.query = nn.Parameter(torch.randn(1, d_hid))\n",
        "        self.key = nn.Linear(d_hid, d_hid)\n",
        "        self.value = nn.Linear(d_hid, d_hid)\n",
        "        self.linear = nn.Linear(d_hid, d_hid)\n",
        "\n",
        "    def forward(self, x, batch_tk_mask):\n",
        "        B = x.size(0)\n",
        "\n",
        "        # Input  shape: `(1, Hid)`.\n",
        "        # Output shape: `(Head, 1, K)`.\n",
        "        q = self.query.view(-1, self.n_head, self.d_k).transpose(0, 1)\n",
        "\n",
        "        # Transform temporal features to query, key and value features.\n",
        "        # Input  shape: `(B, S, Hid)`.\n",
        "        # Output shape: `(B, Head, S, K)`.\n",
        "        k = self.key(x).view(B, -1, self.n_head, self.d_k).transpose(1, 2)\n",
        "        v = self.value(x).view(B, -1, self.n_head, self.d_k).transpose(1, 2)\n",
        "\n",
        "        # Calculate self attention scores with query and key features.\n",
        "        # Self attention scores are scaled down by hidden dimension square\n",
        "        # root to avoid overflow.\n",
        "        # `q` Input  shape: `(Head, 1, K)`.\n",
        "        # `k` Input  shape: `(B, Head, S, K)`.\n",
        "        # Output shape: `(B, Head, 1, S)`.\n",
        "        # print(q.shape)\n",
        "        # print(k.shape)\n",
        "        attn = q @ k.transpose(-1, -2) / math.sqrt(x.size(-1))\n",
        "\n",
        "        # Mask parts of attention scores by replacing with large negative\n",
        "        # values.\n",
        "        # Input  shape: `(B, Head, 1, S)`.\n",
        "        # Output shape: `(B, Head, 1, S)`.\n",
        "        batch_tk_mask = batch_tk_mask.repeat(self.n_head, 1, 1, 1)\n",
        "\n",
        "        batch_tk_mask = batch_tk_mask.transpose(0, 1)\n",
        "        batch_tk_mask = batch_tk_mask.transpose(-1, -2)\n",
        "        # print(attn.shape)\n",
        "        # print(batch_tk_mask.shape)\n",
        "        attn.masked_fill_(batch_tk_mask, -1e9)\n",
        "\n",
        "        # Softmax normalize on attention scores.\n",
        "        # Large negative values will be closed to zero after normalization.\n",
        "        # Input  shape: `(B, Head, 1, S)`.\n",
        "        # Output shape: `(B, Head, 1, S)`.\n",
        "        attn = F.softmax(attn, dim=-1)\n",
        "\n",
        "        # Use attention scores to calculate weighted sum on value features.\n",
        "        # Then perform one more linear tranformation on weighted sum.\n",
        "        # Finally dropout transformed features.\n",
        "        # `attn` Input  shape: `(B, Head, 1, S)`.\n",
        "        # `v` Input  shape: `(B, Head, S, k)`.\n",
        "        # Output shape: `(B, Head, 1, K)`.\n",
        "        output = attn @ v\n",
        "\n",
        "        # Input  shape: `(B, Head, 1, K)`.\n",
        "        # Output shape: `(B, 1, Hid)`.\n",
        "        output = output.transpose(1, 2).contiguous()\n",
        "        output = output.view(B, -1, self.n_head * self.d_k)\n",
        "\n",
        "        # Output shape: `(B, Hid)`.\n",
        "        return self.linear(output.squeeze(1))\n",
        "\n",
        "\n",
        "class Encoder(nn.Module):\n",
        "    def __init__(self, d_emb: int, p_hid: float):\n",
        "        super().__init__()\n",
        "        self.linear = nn.Linear(d_emb, d_emb)\n",
        "        self.pe = PositionalEncoding(d_emb, p_hid)\n",
        "        self.attn_emb = MultiHeadAttention(d_emb, 4)\n",
        "        self.layernorm1 = nn.LayerNorm(d_emb)\n",
        "        self.layernorm2 = nn.LayerNorm(d_emb)\n",
        "\n",
        "    def forward(self, x: torch.Tensor, mask: torch.Tensor) -> torch.Tensor:\n",
        "        # Shape: [B, S, H]\n",
        "        emb = self.layernorm1(self.linear(x))\n",
        "\n",
        "        # Shape: [B, S, H]\n",
        "        emb = self.pe(emb)\n",
        "\n",
        "        # Shape: [B, H]\n",
        "        emb = self.layernorm2(self.attn_emb(emb, mask))\n",
        "\n",
        "        return emb\n"
      ],
      "execution_count": null,
      "outputs": []
    },
    {
      "cell_type": "markdown",
      "metadata": {
        "id": "dJnPNRlMeGUO"
      },
      "source": [
        "# Risk Classificaion"
      ]
    },
    {
      "cell_type": "markdown",
      "metadata": {
        "id": "ShFUG_8JHcTx"
      },
      "source": [
        "## Take a look at the risk classification dataset"
      ]
    },
    {
      "cell_type": "code",
      "metadata": {
        "id": "N5Fair4mR9XQ"
      },
      "source": [
        "import numpy as np\n",
        "import csv\n",
        "import json\n",
        "import unicodedata\n",
        "import re\n",
        "from torch.utils.data import Dataset, DataLoader\n",
        "\n",
        "'''\n",
        "Here we will do preprocessing on the dataset.\n",
        "Something needs to be done here :\n",
        "1. Read the file in.\n",
        "2. Separate the article, question, answer.\n",
        "3. Used PAD to round each sentence into the same length\n",
        "'''\n",
        "\n",
        "\n",
        "def split_sent(sentence: str):\n",
        "    first_role_idx = re.search(':', sentence).end(0)\n",
        "    out = [sentence[:first_role_idx]]\n",
        "\n",
        "    tmp = sentence[first_role_idx:]\n",
        "    while tmp:\n",
        "        res = re.search(\n",
        "            r'(護理師[\\w*]\\s*:|醫師\\s*:|民眾\\s*:|家屬[\\w*]\\s*:|個管師\\s*:)', tmp)\n",
        "        if res is None:\n",
        "            break\n",
        "\n",
        "        idx = res.start(0)\n",
        "        idx_end = res.end(0)\n",
        "        out[-1] = list(out[-1] + tmp[:idx])\n",
        "        out.append(tmp[idx:idx_end])\n",
        "        tmp = tmp[idx_end:]\n",
        "\n",
        "    out[-1] = list(out[-1] + tmp)\n",
        "\n",
        "    return out\n",
        "\n",
        "def _read_risk(risk_file: str):\n",
        "    article = []\n",
        "    risk = []\n",
        "\n",
        "    # [[Sent_1], [Sent_2], ..., [Sent_n]]\n",
        "    for i, line in enumerate(csv.reader(open(risk_file, \"r\", encoding=\"utf-8\"))):\n",
        "        if i == 0:\n",
        "            continue\n",
        "        text = unicodedata.normalize(\"NFKC\", line[2]).replace(\" \", \"\")\n",
        "        article.append(split_sent(text))\n",
        "        #risk.append(int(line[3]))\n",
        "        risk.append(line[3])\n",
        "\n",
        "    return article, risk\n",
        "\n",
        "def _read_qa(qa_file: str):\n",
        "    qa = {}\n",
        "    # [Question, [[Choice_1, Answer_1], [Choice_2, Answer_2], [Choice_3, Answer_3]]]\n",
        "    for data in json.loads(unicodedata.normalize(\"NFKC\", open(qa_file, \"r\", encoding=\"utf-8\").read())):\n",
        "        question = data[\"question\"]\n",
        "        choice_ans = [(\n",
        "                list(choice[\"text\"]),\n",
        "                int(choice[\"label\"].strip() == data[\"answer\"].strip())\n",
        "            ) for choice in question[\"choices\"]]\n",
        "        question_text = list(question[\"stem\"])\n",
        "        aid = data[\"article_id\"]\n",
        "        if aid in qa:\n",
        "            qa[aid][1].append((question_text, choice_ans))\n",
        "        else:\n",
        "            qa[aid] = (split_sent(data['text'].replace(\" \", \"\")), [(question_text, choice_ans)])\n",
        "\n",
        "    return zip(*[v for _,v in sorted(qa.items(),key=lambda x:x[0])])\n",
        "\n",
        "\n",
        "def _read_qa1(qa_file: str):\n",
        "    qa = {}\n",
        "    # [Question, [[Choice_1, Answer_1], [Choice_2, Answer_2], [Choice_3, Answer_3]]]\n",
        "    for data in json.loads(unicodedata.normalize(\"NFKC\", open(qa_file, \"r\", encoding=\"utf-8\").read())):\n",
        "        question = data[\"question\"]\n",
        "        choice_ans = [(\n",
        "                list(choice[\"text\"]),\n",
        "                int(choice[\"label\"].strip() == \"A\")\n",
        "            ) for choice in question[\"choices\"]]\n",
        "        question_text = list(question[\"stem\"])\n",
        "        aid = data[\"article_id\"]\n",
        "        if aid in qa:\n",
        "            qa[aid][1].append((question_text, choice_ans))\n",
        "        else:\n",
        "            qa[aid] = (split_sent(data['text'].replace(\" \", \"\")), [(question_text, choice_ans)])\n",
        "\n",
        "    return zip(*[v for _,v in sorted(qa.items(),key=lambda x:x[0])])\n",
        "\n",
        "\n",
        "def encode_sent(w2id: dict, sentence: list, max_length: int):\n",
        "    output = []\n",
        "    for i, token in enumerate(sentence):\n",
        "        if i >= max_length:\n",
        "            break\n",
        "        if token in w2id:\n",
        "            output.append(w2id[token])\n",
        "        else:\n",
        "            output.append(0)\n",
        "    padding_word = [0]\n",
        "    sent_padding_size = max_length - len(output)\n",
        "    output = output + padding_word*sent_padding_size\n",
        "\n",
        "    return output\n",
        "\n",
        "\n",
        "def encode_articles(article_text, max_doc_len, w2id, max_sent_len):\n",
        "    article = []\n",
        "    for document in article_text:\n",
        "        article.append([])\n",
        "        for i, sentence in enumerate(document):\n",
        "            if i >= max_doc_len:\n",
        "                break\n",
        "            article[-1].append([])\n",
        "            article[-1][-1] = encode_sent(w2id, sentence, max_sent_len)\n",
        "        padding_sent = [[0]*max_sent_len]\n",
        "        doc_padding_size = max_doc_len - len(article[-1])\n",
        "        article[-1] = article[-1] + padding_sent*doc_padding_size\n",
        "    return np.array(article)\n",
        "\n",
        "\n",
        "\n",
        "class dataset_qa1(Dataset):\n",
        "    def __init__(\n",
        "        self,\n",
        "        vocab_path: str,\n",
        "        qa_file: str,\n",
        "        max_sent_len: int = 52,\n",
        "        max_doc_len: int = 170,\n",
        "        max_q_len: int = 20,\n",
        "        max_c_len: int = 18\n",
        "    ):\n",
        "        super().__init__()\n",
        "        with open(vocab_path, 'r', encoding='utf-8') as f_w2id:\n",
        "            w2id = json.load(f_w2id)\n",
        "\n",
        "        article_text, qa_pairs = _read_qa1(qa_file)\n",
        "\n",
        "        # `article` shape: [N, `max_doc_len`, `max_sent_len`]\n",
        "        self.article = encode_articles(\n",
        "            article_text, max_doc_len, w2id, max_sent_len)\n",
        "\n",
        "        self.QA = []\n",
        "        for idx, qa_pair in enumerate(qa_pairs):\n",
        "            for question, choice_ans in qa_pair:\n",
        "                choice, ans = zip(*choice_ans)\n",
        "                self.QA.append({\n",
        "                    \"article\": self.article[idx],\n",
        "                    \"question\": np.array(encode_sent(w2id, question, max_q_len)),\n",
        "                    \"choice\": np.array([encode_sent(w2id, x, max_c_len) for x in choice]),\n",
        "                    \"qa_answer\": np.array(ans),\n",
        "                })\n",
        "\n",
        "    def __len__(self):\n",
        "        return len(self.QA)\n",
        "\n",
        "    def __getitem__(self, idx: int):\n",
        "        return self.QA[idx]\n",
        "\n",
        "class dataset_qa(Dataset):\n",
        "    def __init__(\n",
        "        self,\n",
        "        vocab_path: str,\n",
        "        qa_file: str,\n",
        "        max_sent_len: int = 52,\n",
        "        max_doc_len: int = 170,\n",
        "        max_q_len: int = 20,\n",
        "        max_c_len: int = 18\n",
        "    ):\n",
        "        super().__init__()\n",
        "        with open(vocab_path, 'r', encoding='utf-8') as f_w2id:\n",
        "            w2id = json.load(f_w2id)\n",
        "\n",
        "        article_text, qa_pairs = _read_qa(qa_file)\n",
        "\n",
        "        # `article` shape: [N, `max_doc_len`, `max_sent_len`]\n",
        "        self.article = encode_articles(\n",
        "            article_text, max_doc_len, w2id, max_sent_len)\n",
        "\n",
        "        self.QA = []\n",
        "        for idx, qa_pair in enumerate(qa_pairs):\n",
        "            for question, choice_ans in qa_pair:\n",
        "                choice, ans = zip(*choice_ans)\n",
        "                self.QA.append({\n",
        "                    \"article\": self.article[idx],\n",
        "                    \"question\": np.array(encode_sent(w2id, question, max_q_len)),\n",
        "                    \"choice\": np.array([encode_sent(w2id, x, max_c_len) for x in choice]),\n",
        "                    \"qa_answer\": np.array(ans),\n",
        "                })\n",
        "\n",
        "    def __len__(self):\n",
        "        return len(self.QA)\n",
        "\n",
        "    def __getitem__(self, idx: int):\n",
        "        return self.QA[idx]\n",
        "\n",
        "\n",
        "class dataset_risk(Dataset):\n",
        "    def __init__(\n",
        "        self,\n",
        "        vocab_path: str,\n",
        "        risk_file: str,\n",
        "        max_sent_len: int = 52,\n",
        "        max_doc_len: int = 170,\n",
        "    ):\n",
        "        super().__init__()\n",
        "        with open(vocab_path, 'r', encoding='utf-8') as f_w2id:\n",
        "            w2id = json.load(f_w2id)\n",
        "        # w2id = {\"[PAD]\": 0}\n",
        "        article_text, risk = _read_risk(risk_file)\n",
        "\n",
        "        # `risk` shape: [N]\n",
        "        #self.risk = np.array(risk, dtype=np.float32)\n",
        "        self.risk = np.array(risk)\n",
        "\n",
        "        # `article` shape: [N, `max_doc_len`, `max_sent_len`]\n",
        "        self.article = encode_articles(\n",
        "            article_text, max_doc_len, w2id, max_sent_len)\n",
        "\n",
        "    def __len__(self):\n",
        "        return len(self.risk)\n",
        "\n",
        "    def __getitem__(self, idx: int):\n",
        "        return {\"article\": self.article[idx], \"risk_answer\": self.risk[idx]}\n"
      ],
      "execution_count": null,
      "outputs": []
    },
    {
      "cell_type": "code",
      "metadata": {
        "colab": {
          "base_uri": "https://localhost:8080/"
        },
        "id": "e_dbcLoRBuIx",
        "outputId": "af261029-f95f-499f-d680-f8ef927f2922"
      },
      "source": [
        "import os\n",
        "import pandas as pd\n",
        "import json\n",
        "#from dataset import dataset_risk\n",
        "\n",
        "risk_file=os.path.join(\"data\", \"Train_risk_classification_ans.csv\")\n",
        "#risk_file=os.path.join(\"data\", \"Develop_risk_classification.csv\")\n",
        "print('risk data:')\n",
        "print(pd.read_csv(risk_file,encoding='utf-8',usecols=['article_id','text','label']))\n",
        "print('\\n---------------------------------')\n",
        "print('vocab:')\n",
        "print(list(json.load(open(os.path.join(\"data\", \"vocab.json\"),encoding='utf-8')).items())[:10])\n",
        "\n",
        "dataset = dataset_risk(\n",
        "    vocab_path=os.path.join(\"data\", \"vocab.json\"),\n",
        "    risk_file=risk_file,\n",
        ")\n",
        "d = next(iter(dataset))\n",
        "print('\\n---------------------------------')\n",
        "print('text\\n', d['article'])\n",
        "print(d['article'].shape)\n",
        "r = {v: k for k, v in json.load(open(os.path.join(\"data\", \"vocab.json\"),encoding='utf-8')).items()}\n",
        "print(*[''.join(map(lambda x:r[x], i))[:40] for i in d['article'][:4,:] ], sep='\\n')\n",
        "print('\\n---------------------------------')\n",
        "print('answer:\\n', d['risk_answer'])"
      ],
      "execution_count": null,
      "outputs": [
        {
          "output_type": "stream",
          "text": [
            "risk data:\n",
            "     article_id                                               text label\n",
            "0             1  個管師：這個月還好嗎？民眾：蛤？個管師：這個月還好嗎？民眾：這個月還好。個管師：還好，還可以...     1\n",
            "1             2  個管師：所以你這個月還OK？民眾：還OK啊。個管師：那有固定伴侶嗎？民眾：沒有。個管師：你一...     1\n",
            "2             3  民眾：啊就在忙裝潢啊～幹嘛的。個管師：嗯。民眾：對。個管師：所以都在熬夜？民眾：對，都一直熬...     1\n",
            "3             4  個管師：對啊，你是說你要幫，我幫你給這個？你說小花跟你。民眾：現在是狀況是還好。個管師：嗯。...     1\n",
            "4             5  個管師：好喔，過去這一個月還好嗎？民眾：恩，還可以。個管師：那今天是請假？民眾：沒有，晚上上...     0\n",
            "..          ...                                                ...   ...\n",
            "341         342  醫師：好，謝謝。等一下結束後，科技部會給你兩百五十塊的車馬費。民眾：車馬費？醫師：對啦，就是...     1\n",
            "342         343  醫師：就照舊這樣子。阿這一定要跟你講一下。家屬：沒關係啊。醫師：阿最近好嗎？民眾：都正常。醫...     0\n",
            "343         344  醫師：好。你這次的抽血都還不錯喔。民眾：嗯。醫師：看一下，應該是年度的檢查，我們下次就，就一...     0\n",
            "344         345  民眾：我還要問……醫師：是。民眾：問醫師一個問題，我的肝藥喔。醫師：誒。民眾：你給我開兩個月...     0\n",
            "345         346  醫師：阿現在是在哪，在，也是在念碩班？民眾：對阿。醫師：要畢業了嗎？民眾：希望是快了。醫師：...     0\n",
            "\n",
            "[346 rows x 3 columns]\n",
            "\n",
            "---------------------------------\n",
            "vocab:\n",
            "[('[PAD]', 0), ('，', 1), ('的', 2), ('。', 3), ('、', 4), ('是', 5), ('一', 6), ('在', 7), ('：', 8), ('了', 9)]\n",
            "\n",
            "---------------------------------\n",
            "text\n",
            " [[ 72 320 479 ...   0   0   0]\n",
            " [420 666   0 ...   0   0   0]\n",
            " [ 72 320 479 ...   0   0   0]\n",
            " ...\n",
            " [  0   0   0 ...   0   0   0]\n",
            " [  0   0   0 ...   0   0   0]\n",
            " [  0   0   0 ...   0   0   0]]\n",
            "(170, 52)\n",
            "個管師[PAD]這個月還好嗎?[PAD][PAD][PAD][PAD][PAD]\n",
            "民眾[PAD]蛤?[PAD][PAD][PAD][PAD][PAD][PAD][\n",
            "個管師[PAD]這個月還好嗎?[PAD][PAD][PAD][PAD][PAD]\n",
            "民眾[PAD]這個月還好。[PAD][PAD][PAD][PAD][PAD][P\n",
            "\n",
            "---------------------------------\n",
            "answer:\n",
            " 1\n"
          ],
          "name": "stdout"
        }
      ]
    },
    {
      "cell_type": "code",
      "metadata": {
        "id": "dhVOt64wRLJN",
        "colab": {
          "base_uri": "https://localhost:8080/"
        },
        "outputId": "e2b3ce45-d7f8-4f32-deea-d7a07958a8df"
      },
      "source": [
        "import sys\n",
        "np.load('data/embeddings.npy')"
      ],
      "execution_count": null,
      "outputs": [
        {
          "output_type": "execute_result",
          "data": {
            "text/plain": [
              "array([[ 0.    ,  0.    ,  0.    , ...,  0.    ,  0.    ,  0.    ],\n",
              "       [ 0.008 ,  0.0336,  0.572 , ..., -0.0106,  0.0009, -0.0085],\n",
              "       [-0.0119,  0.051 ,  0.4397, ..., -0.0585,  0.0369, -0.027 ],\n",
              "       ...,\n",
              "       [ 0.0895, -0.1197, -0.0107, ..., -0.0607,  0.0213,  0.0018],\n",
              "       [ 0.1285,  0.0442,  0.1356, ...,  0.0439,  0.0114, -0.1839],\n",
              "       [-0.0441, -0.0893,  0.0644, ..., -0.0484, -0.0489, -0.0562]])"
            ]
          },
          "metadata": {
            "tags": []
          },
          "execution_count": 18
        }
      ]
    },
    {
      "cell_type": "code",
      "metadata": {
        "colab": {
          "base_uri": "https://localhost:8080/"
        },
        "id": "DJn452-qOU3E",
        "outputId": "de289b59-eed3-4fef-e0b4-20a1276ce322"
      },
      "source": [
        "print(len(tt[1051]))"
      ],
      "execution_count": null,
      "outputs": [
        {
          "output_type": "stream",
          "text": [
            "300\n"
          ],
          "name": "stdout"
        }
      ]
    },
    {
      "cell_type": "code",
      "metadata": {
        "colab": {
          "base_uri": "https://localhost:8080/"
        },
        "id": "ooEGm5IWq2cx",
        "outputId": "faf2ac29-6d25-4ce8-9ec7-37beec9164a9"
      },
      "source": [
        "from google.colab import drive\n",
        "drive.mount('/content/drive')"
      ],
      "execution_count": null,
      "outputs": [
        {
          "output_type": "stream",
          "text": [
            "Drive already mounted at /content/drive; to attempt to forcibly remount, call drive.mount(\"/content/drive\", force_remount=True).\n"
          ],
          "name": "stdout"
        }
      ]
    },
    {
      "cell_type": "code",
      "metadata": {
        "id": "iuqLIbyuv2Ff",
        "colab": {
          "base_uri": "https://localhost:8080/"
        },
        "outputId": "cef7baed-5a34-42e8-9391-26b4608d276a"
      },
      "source": [
        "!wget https://dl.fbaipublicfiles.com/fasttext/vectors-crawl/cc.zh.300.vec.gz"
      ],
      "execution_count": null,
      "outputs": [
        {
          "output_type": "stream",
          "text": [
            "--2021-06-13 11:05:13--  https://dl.fbaipublicfiles.com/fasttext/vectors-crawl/cc.zh.300.vec.gz\n",
            "Resolving dl.fbaipublicfiles.com (dl.fbaipublicfiles.com)... 172.67.9.4, 104.22.74.142, 104.22.75.142, ...\n",
            "Connecting to dl.fbaipublicfiles.com (dl.fbaipublicfiles.com)|172.67.9.4|:443... connected.\n",
            "HTTP request sent, awaiting response... 200 OK\n",
            "Length: 1358817100 (1.3G) [binary/octet-stream]\n",
            "Saving to: ‘cc.zh.300.vec.gz’\n",
            "\n",
            "cc.zh.300.vec.gz    100%[===================>]   1.26G  39.6MB/s    in 34s     \n",
            "\n",
            "2021-06-13 11:05:47 (38.5 MB/s) - ‘cc.zh.300.vec.gz’ saved [1358817100/1358817100]\n",
            "\n"
          ],
          "name": "stdout"
        }
      ]
    },
    {
      "cell_type": "code",
      "metadata": {
        "id": "uBuX7Zblv33S"
      },
      "source": [
        "!gunzip cc.zh.300.vec.gz"
      ],
      "execution_count": null,
      "outputs": []
    },
    {
      "cell_type": "code",
      "metadata": {
        "id": "CduD56u7EC3M"
      },
      "source": [
        "import json\n",
        "tt=open('data/vocab.json')"
      ],
      "execution_count": null,
      "outputs": []
    },
    {
      "cell_type": "code",
      "metadata": {
        "id": "S64UKuygvsTC"
      },
      "source": [
        "import numpy as np\n",
        "import csv\n",
        "import json\n",
        "import unicodedata\n",
        "import re\n",
        "import time\n",
        "import random\n",
        "import os\n",
        "from tqdm import tqdm\n",
        "\n",
        "\n",
        "'''\n",
        "Here we will convert the word vector into a readable form, and generate two file and a path: \n",
        "1. vocab.json     : Used to record the index of each text\n",
        "2. embeddings.npy : Used to record the word vector in npy form\n",
        "3. ./data         : Used to store the generated data, and our dataset in here\n",
        "'''\n",
        "\n",
        "def load_vectors(fname):\n",
        "\n",
        "\n",
        "    if os.path.isdir(\"./data\"):\n",
        "        pass\n",
        "    else:\n",
        "        os.makedirs(\"./data\")\n",
        "\n",
        "    with open(fname, 'r', encoding='utf-8', newline='\\n', errors='ignore') as WordEmbeddings,\\\n",
        "            open(\"data/vocab.json\", 'w', encoding='utf-8') as vocab_write:\n",
        "        wv = []\n",
        "        vocab = {}\n",
        "        vocab[\"[PAD]\"] = 0\n",
        "        wv.append(np.zeros(300))\n",
        "        for i, line in enumerate(WordEmbeddings):\n",
        "            word, vec = line.split(' ', 1)\n",
        "            if i == 0:\n",
        "                continue\n",
        "            vocab[word] = i\n",
        "            wv.append(np.fromstring(vec, sep=' '))\n",
        "        json.dump(vocab, vocab_write, ensure_ascii=False)\n",
        "\n",
        "    np.save(\"data/embeddings.npy\", np.array(wv))\n",
        "\n",
        "'''\n",
        "Put your word vector path here.\n",
        "In this baseline, our word vector is to use fasttext.\n",
        "You can find it in here. (https://fasttext.cc/docs/en/crawl-vectors.html)\n",
        "'''\n",
        "\n",
        "if __name__ == \"__main__\":\n",
        "    load_vectors(\"cc.zh.300.vec\")"
      ],
      "execution_count": null,
      "outputs": []
    },
    {
      "cell_type": "markdown",
      "metadata": {
        "id": "gpdz2o_2IlJL"
      },
      "source": [
        "## Risk Classification model"
      ]
    },
    {
      "cell_type": "code",
      "metadata": {
        "id": "44rSfBEZHnGQ"
      },
      "source": [
        "class Risk_Classifier(nn.Module):\n",
        "    def __init__(self, d_emb: int, p_drop: float, n_layers: int):\n",
        "        super().__init__()\n",
        "        hid = []\n",
        "        self.l0 = nn.Linear(d_emb, d_emb)\n",
        "        for _ in range(n_layers):\n",
        "            hid.append(nn.Linear(in_features=d_emb, out_features=d_emb))\n",
        "            hid.append(nn.ReLU())\n",
        "            hid.append(nn.Dropout(p=p_drop))\n",
        "        self.hid = nn.Sequential(*hid)\n",
        "        self.l1 = nn.Linear(d_emb, d_emb//2)\n",
        "        self.dropout = nn.Dropout(p_drop)\n",
        "        self.l2 = nn.Linear(d_emb//2, 1)\n",
        "\n",
        "    def forward(self, document: torch.Tensor) -> torch.Tensor:\n",
        "        output = document\n",
        "        output = self.l0(output)\n",
        "\n",
        "        output = self.hid(output)\n",
        "        # Linear layer\n",
        "        # Input shape: `(B, E)`\n",
        "        # Ouput shape: `(B, E//2)`\n",
        "        # output = F.relu(self.l1(document))\n",
        "        output = F.relu(self.l1(output))\n",
        "\n",
        "        # Dropout\n",
        "        # Input shape: `(B, E//2)`\n",
        "        # Ouput shape: `(B, E//2)`\n",
        "        # output = self.dropout(output)\n",
        "\n",
        "        # Linear layer\n",
        "        # Input shape: `(B, E//2)`\n",
        "        # Ouput shape: `(B, 1)`\n",
        "        output = torch.sigmoid(self.l2(output))\n",
        "\n",
        "        return output.squeeze(-1)\n",
        "\n",
        "\n",
        "class risk_model(nn.Module):\n",
        "    def __init__(self, embedding_path: str, d_emb: int, n_cls_layers: int, p_drop: float):\n",
        "        super().__init__()\n",
        "        self.embedding = nn.Embedding.from_pretrained(torch.cuda.FloatTensor(\n",
        "            np.load(embedding_path)), freeze=True, padding_idx=0)\n",
        "        self.word_encoder = Encoder(d_emb, p_drop)\n",
        "        self.encoder = Encoder(d_emb, p_drop)\n",
        "        self.risk = Risk_Classifier(d_emb, p_drop, n_cls_layers)\n",
        "\n",
        "    def forward(self, document):\n",
        "        # Embedding layer\n",
        "        # Shape: [B, `max_doc_len`, `max_sent_len`, E]\n",
        "        doc = self.embedding(document)\n",
        "        w_mask, s_mask = self.create_mask(document)\n",
        "\n",
        "        # Sentence embedding\n",
        "        # Input shape: [B, `max_doc_len`, `max_sent_len`, E]\n",
        "        # Output shape: [B, `max_doc_len`, E]\n",
        "        doc = torch.stack([ self.word_encoder(d,w) for d,w in zip(doc, w_mask)])\n",
        "\n",
        "        # Document embedding\n",
        "        # Input shape: [B, `max_doc_len`, E]\n",
        "        # Output shape: [B, E]\n",
        "        doc = self.encoder(doc, s_mask)\n",
        "\n",
        "        risk_output = self.risk(doc)\n",
        "\n",
        "        return risk_output\n",
        "\n",
        "    @staticmethod\n",
        "    def create_mask(batch_prev_tkids: torch.Tensor) -> torch.Tensor:\n",
        "        # Create padding self attention masks.\n",
        "        # Shape: [B, `max_doc_len`, `max_sent_len`, 1]\n",
        "        # Output dtype: `torch.bool`.\n",
        "        w_pad_mask = batch_prev_tkids == 0\n",
        "        w_pad_mask = w_pad_mask.unsqueeze(-1)\n",
        "\n",
        "        s_pad_mask = batch_prev_tkids.sum(dim=-1)\n",
        "        s_pad_mask = s_pad_mask == 0\n",
        "        s_pad_mask = s_pad_mask.unsqueeze(-1)\n",
        "\n",
        "        return w_pad_mask, s_pad_mask\n",
        "\n",
        "    def loss_fn(self, document, risk):\n",
        "        pred_risk = self(document)\n",
        "        pred_risk = pred_risk.reshape(-1)\n",
        "        risk = risk.reshape(-1)\n",
        "        return F.binary_cross_entropy(pred_risk, risk)\n"
      ],
      "execution_count": null,
      "outputs": []
    },
    {
      "cell_type": "markdown",
      "metadata": {
        "id": "yMCVkOY4IzRi"
      },
      "source": [
        "## Training Risk Classifier"
      ]
    },
    {
      "cell_type": "code",
      "metadata": {
        "id": "JKqNXRyEH1o9",
        "scrolled": true
      },
      "source": [
        "import csv\n",
        "import os\n",
        "import pathlib\n",
        "import random\n",
        "import re\n",
        "import numpy as np\n",
        "from tqdm import tqdm\n",
        "import torch\n",
        "from torch.utils.data import DataLoader\n",
        "from sklearn.metrics import roc_auc_score\n",
        "\n",
        "def risk_train(model_cfg, dataset, device,  # model and datasets\n",
        "               p_drop, n_epoch, batch_size, learning_rate,  # training hyper parameter\n",
        "               save_step, model_path):  # saving model\n",
        "\n",
        "    model = risk_model(**model_cfg, p_drop=p_drop).train().to(device)\n",
        "\n",
        "    optimizer = torch.optim.Adam(model.parameters(), lr=learning_rate)\n",
        "\n",
        "    dataldr = DataLoader(dataset, batch_size=batch_size, shuffle=True)\n",
        "\n",
        "    def save_model(md, step):\n",
        "        torch.save(md.state_dict(), os.path.join(\n",
        "            model_path, f\"model-{step}.pt\"))\n",
        "\n",
        "    # Train loop\n",
        "    step = 0\n",
        "    for epoch in range(n_epoch):\n",
        "        tqdm_dldr = tqdm(dataldr)\n",
        "\n",
        "        avg_loss = 0\n",
        "        for epoch_step, batch_data in enumerate(tqdm_dldr):\n",
        "            optimizer.zero_grad()\n",
        "\n",
        "            batch_document = torch.Tensor(np.array(batch_data[\"article\"], dtype='float32')).to(device)\n",
        "            batch_document = batch_document.to(torch.int64)\n",
        "            batch_risk = torch.Tensor(np.array(batch_data[\"risk_answer\"], dtype='float32')).to(device)\n",
        "            batch_risk = batch_risk.float()\n",
        "            \n",
        "            loss = model.loss_fn(batch_document, batch_risk)\n",
        "            loss.backward()\n",
        "            optimizer.step()\n",
        "\n",
        "            step += 1\n",
        "            avg_loss += loss\n",
        "            tqdm_dldr.set_description(\n",
        "                f\"epoch:{epoch}, loss:{avg_loss / (epoch_step+1):.04f}\")\n",
        "\n",
        "            if step % save_step == 0:\n",
        "                save_model(model, step)\n",
        "\n",
        "    save_model(model, step)\n",
        "\n",
        "\n",
        "\n",
        "\n",
        "\n",
        "random_seed = 42\n",
        "# Set random states for reproducibility\n",
        "random.seed(random_seed)\n",
        "np.random.seed(random_seed)\n",
        "torch.manual_seed(random_seed)\n",
        "if torch.cuda.is_available():\n",
        "    torch.cuda.manual_seed_all(random_seed)\n",
        "# Use cuda when possible\n",
        "device = torch.device('cuda' if torch.cuda.is_available() else 'cpu')\n",
        "\n",
        "# Save training configuration\n",
        "risk_model_path = os.path.join(\"exp\", \"risk\")\n",
        "pathlib.Path(risk_model_path).mkdir(parents=True, exist_ok=True)\n",
        "\n",
        "\n",
        "model_cfg = {\n",
        "    \"embedding_path\": os.path.join(\"data\", \"embeddings.npy\"),\n",
        "    \"d_emb\": 300,\n",
        "    \"n_cls_layers\": 2,\n",
        "}\n",
        "\n",
        "dataset = dataset_risk(\n",
        "    vocab_path=os.path.join(\"data\", \"vocab.json\"),\n",
        "    risk_file=os.path.join(\"data\", \"Train_risk_classification_ans.csv\"),\n",
        ")\n",
        "\n",
        "risk_train(\n",
        "    model_cfg=model_cfg,\n",
        "    dataset=dataset,\n",
        "    model_path=risk_model_path,\n",
        "    device=device,\n",
        "    # Hyperparameters\n",
        "    batch_size=2,\n",
        "    learning_rate=1e-4,\n",
        "    n_epoch=120,\n",
        "    save_step=80,\n",
        "    p_drop=0.1,\n",
        ")\n",
        "\n"
      ],
      "execution_count": null,
      "outputs": []
    },
    {
      "cell_type": "markdown",
      "metadata": {
        "id": "Z-m10B49d3tN"
      },
      "source": [
        "## Test on trained model"
      ]
    },
    {
      "cell_type": "code",
      "metadata": {
        "id": "OwdzhytjdDxg",
        "scrolled": true,
        "colab": {
          "base_uri": "https://localhost:8080/"
        },
        "outputId": "9c074db9-9eaa-488b-bc60-1dcde3d0b31c"
      },
      "source": [
        "def save_result(output_path: str, data: list, ckpt: int):\n",
        "    output = [[\"id\", \"label\"]] + \\\n",
        "        [[i+1, label] for i, label in enumerate(data)]\n",
        "    csv.writer(open(os.path.join(\n",
        "        output_path, f\"decision_{ckpt}.csv\"), 'w', newline='')).writerows(output)\n",
        "        \n",
        "@torch.no_grad()\n",
        "def risk_test(model_cfg, dataset, device, batch_size,\n",
        "              model_path, output_path):\n",
        "    dataldr = torch.utils.data.DataLoader(\n",
        "        dataset, batch_size=batch_size, shuffle=False)\n",
        "\n",
        "    # Load all checkpoints\n",
        "    ckpts = sorted([\n",
        "        (int(ckpt.group(1)), os.path.join(risk_model_path, ckpt.group(0)))\n",
        "        for ckpt in map(lambda f:re.match(r'model-(\\d+).pt', f), os.listdir(model_path))\n",
        "        if ckpt is not None\n",
        "    ], key=lambda x: x[0])\n",
        "\n",
        "    for step, ckpt in ckpts:\n",
        "        # Model\n",
        "        model = risk_model(**model_cfg, p_drop=0.0)\n",
        "        model.load_state_dict(torch.load(ckpt))\n",
        "        model = model.eval().to(device)\n",
        "\n",
        "        preds = []\n",
        "\n",
        "        for batch_data in tqdm(dataldr):\n",
        "            batch_document = batch_data[\"article\"].to(device)\n",
        "            batch_document = batch_document.to(torch.int64)\n",
        "            preds += model(batch_document).tolist()\n",
        "#         print(f\"\\nroc_auc {step} : {roc_auc_score(dataset.risk, preds):.04f}\", flush=True)\n",
        "        \n",
        "        save_result(output_path, preds, step)\n",
        "\n",
        "risk_output_path = os.path.join(\"output\", \"risk\")\n",
        "pathlib.Path(risk_output_path).mkdir(parents=True, exist_ok=True)\n",
        "\n",
        "print(\"\\nevaluate on training set...\", flush=True)\n",
        "risk_test(\n",
        "    model_cfg=model_cfg,\n",
        "    dataset=dataset,\n",
        "    model_path=risk_model_path,\n",
        "    device=device,\n",
        "    batch_size=4,\n",
        "    output_path=risk_output_path,\n",
        ")\n"
      ],
      "execution_count": null,
      "outputs": [
        {
          "output_type": "stream",
          "text": [
            "\n",
            "evaluate on training set...\n"
          ],
          "name": "stdout"
        },
        {
          "output_type": "stream",
          "text": [
            "100%|██████████| 87/87 [00:01<00:00, 83.24it/s]\n",
            "100%|██████████| 87/87 [00:00<00:00, 88.78it/s]\n",
            "100%|██████████| 87/87 [00:00<00:00, 89.37it/s]\n",
            "100%|██████████| 87/87 [00:00<00:00, 88.89it/s]\n",
            "100%|██████████| 87/87 [00:00<00:00, 88.52it/s]\n",
            "100%|██████████| 87/87 [00:00<00:00, 88.29it/s]\n",
            "100%|██████████| 87/87 [00:00<00:00, 88.48it/s]\n",
            "100%|██████████| 87/87 [00:00<00:00, 88.98it/s]\n",
            "100%|██████████| 87/87 [00:00<00:00, 88.58it/s]\n",
            "100%|██████████| 87/87 [00:00<00:00, 88.41it/s]\n",
            "100%|██████████| 87/87 [00:00<00:00, 88.41it/s]\n",
            "100%|██████████| 87/87 [00:00<00:00, 88.02it/s]\n",
            "100%|██████████| 87/87 [00:00<00:00, 88.21it/s]\n",
            "100%|██████████| 87/87 [00:00<00:00, 88.60it/s]\n",
            "100%|██████████| 87/87 [00:00<00:00, 88.28it/s]\n",
            "100%|██████████| 87/87 [00:00<00:00, 88.26it/s]\n",
            "100%|██████████| 87/87 [00:00<00:00, 88.29it/s]\n",
            "100%|██████████| 87/87 [00:00<00:00, 87.94it/s]\n",
            "100%|██████████| 87/87 [00:00<00:00, 87.60it/s]\n",
            "100%|██████████| 87/87 [00:00<00:00, 87.77it/s]\n",
            "100%|██████████| 87/87 [00:00<00:00, 87.92it/s]\n",
            "100%|██████████| 87/87 [00:00<00:00, 87.78it/s]\n",
            "100%|██████████| 87/87 [00:00<00:00, 87.72it/s]\n",
            "100%|██████████| 87/87 [00:00<00:00, 87.87it/s]\n",
            "100%|██████████| 87/87 [00:00<00:00, 87.79it/s]\n",
            "100%|██████████| 87/87 [00:00<00:00, 87.66it/s]\n",
            "100%|██████████| 87/87 [00:00<00:00, 87.19it/s]\n",
            "100%|██████████| 87/87 [00:00<00:00, 87.79it/s]\n",
            "100%|██████████| 87/87 [00:00<00:00, 87.19it/s]\n",
            "100%|██████████| 87/87 [00:00<00:00, 87.78it/s]\n",
            "100%|██████████| 87/87 [00:00<00:00, 87.13it/s]\n",
            "100%|██████████| 87/87 [00:01<00:00, 86.95it/s]\n",
            "100%|██████████| 87/87 [00:00<00:00, 87.39it/s]\n",
            "100%|██████████| 87/87 [00:01<00:00, 86.71it/s]\n",
            "100%|██████████| 87/87 [00:01<00:00, 86.99it/s]\n",
            "100%|██████████| 87/87 [00:01<00:00, 86.97it/s]\n",
            "100%|██████████| 87/87 [00:01<00:00, 86.46it/s]\n",
            "100%|██████████| 87/87 [00:00<00:00, 87.51it/s]\n",
            "100%|██████████| 87/87 [00:00<00:00, 87.05it/s]\n",
            "100%|██████████| 87/87 [00:00<00:00, 87.12it/s]\n",
            "100%|██████████| 87/87 [00:01<00:00, 86.38it/s]\n",
            "100%|██████████| 87/87 [00:01<00:00, 86.45it/s]\n",
            "100%|██████████| 87/87 [00:00<00:00, 87.06it/s]\n",
            "100%|██████████| 87/87 [00:01<00:00, 86.69it/s]\n",
            "100%|██████████| 87/87 [00:01<00:00, 86.42it/s]\n",
            "100%|██████████| 87/87 [00:01<00:00, 86.94it/s]\n",
            "100%|██████████| 87/87 [00:01<00:00, 86.37it/s]\n",
            "100%|██████████| 87/87 [00:01<00:00, 86.60it/s]\n",
            "100%|██████████| 87/87 [00:01<00:00, 86.73it/s]\n",
            "100%|██████████| 87/87 [00:01<00:00, 86.35it/s]\n",
            "100%|██████████| 87/87 [00:01<00:00, 86.13it/s]\n",
            "100%|██████████| 87/87 [00:01<00:00, 86.53it/s]\n",
            "100%|██████████| 87/87 [00:01<00:00, 86.09it/s]\n",
            "100%|██████████| 87/87 [00:01<00:00, 86.45it/s]\n",
            "100%|██████████| 87/87 [00:01<00:00, 86.33it/s]\n",
            "100%|██████████| 87/87 [00:01<00:00, 86.20it/s]\n",
            "100%|██████████| 87/87 [00:01<00:00, 86.59it/s]\n",
            "100%|██████████| 87/87 [00:01<00:00, 86.58it/s]\n",
            "100%|██████████| 87/87 [00:01<00:00, 86.32it/s]\n",
            "100%|██████████| 87/87 [00:01<00:00, 86.05it/s]\n",
            "100%|██████████| 87/87 [00:01<00:00, 86.30it/s]\n",
            "100%|██████████| 87/87 [00:01<00:00, 86.41it/s]\n",
            "100%|██████████| 87/87 [00:01<00:00, 86.33it/s]\n",
            "100%|██████████| 87/87 [00:01<00:00, 85.86it/s]\n",
            "100%|██████████| 87/87 [00:01<00:00, 86.59it/s]\n",
            "100%|██████████| 87/87 [00:01<00:00, 86.30it/s]\n",
            "100%|██████████| 87/87 [00:01<00:00, 86.18it/s]\n",
            "100%|██████████| 87/87 [00:01<00:00, 86.25it/s]\n",
            "100%|██████████| 87/87 [00:01<00:00, 86.60it/s]\n",
            "100%|██████████| 87/87 [00:01<00:00, 85.80it/s]\n",
            "100%|██████████| 87/87 [00:01<00:00, 86.40it/s]\n",
            "100%|██████████| 87/87 [00:01<00:00, 86.11it/s]\n",
            "100%|██████████| 87/87 [00:01<00:00, 85.92it/s]\n",
            "100%|██████████| 87/87 [00:01<00:00, 85.84it/s]\n",
            "100%|██████████| 87/87 [00:01<00:00, 85.78it/s]\n",
            "100%|██████████| 87/87 [00:01<00:00, 85.90it/s]\n",
            "100%|██████████| 87/87 [00:01<00:00, 85.67it/s]\n",
            "100%|██████████| 87/87 [00:01<00:00, 86.94it/s]\n",
            "100%|██████████| 87/87 [00:01<00:00, 85.99it/s]\n",
            "100%|██████████| 87/87 [00:01<00:00, 86.28it/s]\n",
            "100%|██████████| 87/87 [00:01<00:00, 85.73it/s]\n",
            "100%|██████████| 87/87 [00:01<00:00, 86.08it/s]\n",
            "100%|██████████| 87/87 [00:01<00:00, 85.84it/s]\n",
            "100%|██████████| 87/87 [00:01<00:00, 86.04it/s]\n",
            "100%|██████████| 87/87 [00:01<00:00, 86.10it/s]\n",
            "100%|██████████| 87/87 [00:01<00:00, 85.66it/s]\n",
            "100%|██████████| 87/87 [00:01<00:00, 85.83it/s]\n",
            "100%|██████████| 87/87 [00:01<00:00, 86.39it/s]\n",
            "100%|██████████| 87/87 [00:01<00:00, 85.80it/s]\n",
            "100%|██████████| 87/87 [00:01<00:00, 85.75it/s]\n",
            "100%|██████████| 87/87 [00:01<00:00, 86.15it/s]\n",
            "100%|██████████| 87/87 [00:01<00:00, 85.75it/s]\n",
            "100%|██████████| 87/87 [00:01<00:00, 84.91it/s]\n",
            "100%|██████████| 87/87 [00:01<00:00, 85.42it/s]\n",
            "100%|██████████| 87/87 [00:01<00:00, 84.94it/s]\n",
            "100%|██████████| 87/87 [00:01<00:00, 86.17it/s]\n",
            "100%|██████████| 87/87 [00:01<00:00, 85.27it/s]\n",
            "100%|██████████| 87/87 [00:01<00:00, 85.66it/s]\n",
            "100%|██████████| 87/87 [00:01<00:00, 86.00it/s]\n",
            "100%|██████████| 87/87 [00:01<00:00, 85.15it/s]\n",
            "100%|██████████| 87/87 [00:01<00:00, 85.78it/s]\n",
            "100%|██████████| 87/87 [00:01<00:00, 85.36it/s]\n",
            "100%|██████████| 87/87 [00:01<00:00, 85.71it/s]\n",
            "100%|██████████| 87/87 [00:01<00:00, 85.50it/s]\n",
            "100%|██████████| 87/87 [00:01<00:00, 85.25it/s]\n"
          ],
          "name": "stderr"
        }
      ]
    },
    {
      "cell_type": "markdown",
      "metadata": {
        "id": "sgbiDPOHqdYQ"
      },
      "source": [
        "## Preditions"
      ]
    },
    {
      "cell_type": "code",
      "metadata": {
        "id": "NBiKSanWqgED",
        "colab": {
          "base_uri": "https://localhost:8080/",
          "height": 402
        },
        "outputId": "61352da9-4294-407b-f883-78300c98a04b"
      },
      "source": [
        "import pandas as pd\n",
        "risk_latest_result = sorted([\n",
        "    (int(ckpt.group(1)), os.path.join(risk_output_path, ckpt.group(0)))\n",
        "    for ckpt in map(lambda f:re.match(r'decision_(\\d+).csv', f), os.listdir(risk_output_path))\n",
        "    if ckpt is not None\n",
        "], key=lambda x: x[0])[-1]\n",
        "\n",
        "pd.read_csv(open(risk_latest_result[1]))"
      ],
      "execution_count": null,
      "outputs": [
        {
          "output_type": "execute_result",
          "data": {
            "text/html": [
              "<div>\n",
              "<style scoped>\n",
              "    .dataframe tbody tr th:only-of-type {\n",
              "        vertical-align: middle;\n",
              "    }\n",
              "\n",
              "    .dataframe tbody tr th {\n",
              "        vertical-align: top;\n",
              "    }\n",
              "\n",
              "    .dataframe thead th {\n",
              "        text-align: right;\n",
              "    }\n",
              "</style>\n",
              "<table border=\"1\" class=\"dataframe\">\n",
              "  <thead>\n",
              "    <tr style=\"text-align: right;\">\n",
              "      <th></th>\n",
              "      <th>id</th>\n",
              "      <th>label</th>\n",
              "    </tr>\n",
              "  </thead>\n",
              "  <tbody>\n",
              "    <tr>\n",
              "      <th>0</th>\n",
              "      <td>1</td>\n",
              "      <td>0.999851</td>\n",
              "    </tr>\n",
              "    <tr>\n",
              "      <th>1</th>\n",
              "      <td>2</td>\n",
              "      <td>0.999819</td>\n",
              "    </tr>\n",
              "    <tr>\n",
              "      <th>2</th>\n",
              "      <td>3</td>\n",
              "      <td>0.999871</td>\n",
              "    </tr>\n",
              "    <tr>\n",
              "      <th>3</th>\n",
              "      <td>4</td>\n",
              "      <td>0.999906</td>\n",
              "    </tr>\n",
              "    <tr>\n",
              "      <th>4</th>\n",
              "      <td>5</td>\n",
              "      <td>0.001771</td>\n",
              "    </tr>\n",
              "    <tr>\n",
              "      <th>...</th>\n",
              "      <td>...</td>\n",
              "      <td>...</td>\n",
              "    </tr>\n",
              "    <tr>\n",
              "      <th>341</th>\n",
              "      <td>342</td>\n",
              "      <td>0.999381</td>\n",
              "    </tr>\n",
              "    <tr>\n",
              "      <th>342</th>\n",
              "      <td>343</td>\n",
              "      <td>0.000144</td>\n",
              "    </tr>\n",
              "    <tr>\n",
              "      <th>343</th>\n",
              "      <td>344</td>\n",
              "      <td>0.000209</td>\n",
              "    </tr>\n",
              "    <tr>\n",
              "      <th>344</th>\n",
              "      <td>345</td>\n",
              "      <td>0.002352</td>\n",
              "    </tr>\n",
              "    <tr>\n",
              "      <th>345</th>\n",
              "      <td>346</td>\n",
              "      <td>0.021119</td>\n",
              "    </tr>\n",
              "  </tbody>\n",
              "</table>\n",
              "<p>346 rows × 2 columns</p>\n",
              "</div>"
            ],
            "text/plain": [
              "      id     label\n",
              "0      1  0.999851\n",
              "1      2  0.999819\n",
              "2      3  0.999871\n",
              "3      4  0.999906\n",
              "4      5  0.001771\n",
              "..   ...       ...\n",
              "341  342  0.999381\n",
              "342  343  0.000144\n",
              "343  344  0.000209\n",
              "344  345  0.002352\n",
              "345  346  0.021119\n",
              "\n",
              "[346 rows x 2 columns]"
            ]
          },
          "metadata": {
            "tags": []
          },
          "execution_count": 8
        }
      ]
    },
    {
      "cell_type": "code",
      "metadata": {
        "id": "JtSFPSe4mEGq",
        "colab": {
          "base_uri": "https://localhost:8080/"
        },
        "outputId": "d779cb5a-a068-4e71-a433-5c41599bafdb"
      },
      "source": [
        "import csv\n",
        "ans_file = open('data/Train_risk_classification_ans.csv')\n",
        "decision_file = open('output/decision_8400.csv')\n",
        "rows1 = csv.reader(ans_file)\n",
        "rows2 = csv.reader(decision_file)\n",
        "i1=0\n",
        "i2=0\n",
        "row2_e=\"\"\n",
        "row1_e=\"\"\n",
        "row2_i=0\n",
        "row1_i=0\n",
        "gate=False\n",
        "for row1,row2 in zip(rows1,rows2):\n",
        "  if gate==False:\n",
        "    gate=True\n",
        "    continue\n",
        "  else:\n",
        "    row2_e=row2[1].strip()\n",
        "    if int(row2_e[0])>0:\n",
        "      row2_i=0\n",
        "    else:\n",
        "      if int(row2_e[2])>5:\n",
        "        row2_i=1\n",
        "      else:\n",
        "        row2_i=0\n",
        "    row1_e=row1[3].strip()\n",
        "    row1_i=int(row1_e[0])\n",
        "    print(\"正解:\",row1_e,\"int(正解:):\",row1_i,\"int(算出的:\",row2_i,\"算出的:\",row2_e,sep=' ')\n",
        "    if row1_i==row2_i:\n",
        "      i2=i2+1\n",
        "    else:\n",
        "      print(\"============Error item============\",sep='')\n",
        "    i1=i1+1\n",
        "print(\"完成機率:\",i2/i1)"
      ],
      "execution_count": null,
      "outputs": [
        {
          "output_type": "stream",
          "text": [
            "正解: 1 int(正解:): 1 int(算出的: 1 算出的: 0.9998506307601929\n",
            "正解: 1 int(正解:): 1 int(算出的: 1 算出的: 0.9998193383216858\n",
            "正解: 1 int(正解:): 1 int(算出的: 1 算出的: 0.9998712539672852\n",
            "正解: 1 int(正解:): 1 int(算出的: 1 算出的: 0.9999055862426758\n",
            "正解: 0 int(正解:): 0 int(算出的: 0 算出的: 0.0017706301296129823\n",
            "正解: 0 int(正解:): 0 int(算出的: 1 算出的: 0.8109180331230164\n",
            "============Error item============\n",
            "正解: 1 int(正解:): 1 int(算出的: 1 算出的: 0.9998190999031067\n",
            "正解: 0 int(正解:): 0 int(算出的: 0 算出的: 0.11472171545028687\n",
            "正解: 0 int(正解:): 0 int(算出的: 0 算出的: 0.02365202084183693\n",
            "正解: 0 int(正解:): 0 int(算出的: 0 算出的: 0.0030509098432958126\n",
            "正解: 1 int(正解:): 1 int(算出的: 1 算出的: 0.9997724890708923\n",
            "正解: 1 int(正解:): 1 int(算出的: 1 算出的: 0.9998962879180908\n",
            "正解: １ int(正解:): 1 int(算出的: 1 算出的: 0.9997734427452087\n",
            "正解: 1 int(正解:): 1 int(算出的: 1 算出的: 0.9998459815979004\n",
            "正解: 1 int(正解:): 1 int(算出的: 1 算出的: 0.9998270869255066\n",
            "正解: １ int(正解:): 1 int(算出的: 1 算出的: 0.9999028444290161\n",
            "正解: 1 int(正解:): 1 int(算出的: 1 算出的: 0.9998565912246704\n",
            "正解: 0 int(正解:): 0 int(算出的: 0 算出的: 0.0006542004412040114\n",
            "正解: １ int(正解:): 1 int(算出的: 1 算出的: 0.9999048709869385\n",
            "正解: 0 int(正解:): 0 int(算出的: 0 算出的: 0.0016222763806581497\n",
            "正解: 1 int(正解:): 1 int(算出的: 1 算出的: 0.9996763467788696\n",
            "正解: 0 int(正解:): 0 int(算出的: 0 算出的: 0.05153104290366173\n",
            "正解: １ int(正解:): 1 int(算出的: 1 算出的: 0.9989713430404663\n",
            "正解: 0 int(正解:): 0 int(算出的: 0 算出的: 0.0002919567923527211\n",
            "正解: 0 int(正解:): 0 int(算出的: 0 算出的: 0.0004501872754190117\n",
            "正解: 1 int(正解:): 1 int(算出的: 1 算出的: 0.9980497360229492\n",
            "正解: 1 int(正解:): 1 int(算出的: 1 算出的: 0.9999196529388428\n",
            "正解: 0 int(正解:): 0 int(算出的: 0 算出的: 0.00018815317889675498\n",
            "正解: 0 int(正解:): 0 int(算出的: 0 算出的: 0.0005080804694443941\n",
            "正解: 1 int(正解:): 1 int(算出的: 1 算出的: 0.9990484118461609\n",
            "正解: 0 int(正解:): 0 int(算出的: 0 算出的: 0.00355099537409842\n",
            "正解: 1 int(正解:): 1 int(算出的: 1 算出的: 0.9998708963394165\n",
            "正解: 1 int(正解:): 1 int(算出的: 1 算出的: 0.9998868703842163\n",
            "正解: 0 int(正解:): 0 int(算出的: 0 算出的: 0.00020594827947206795\n",
            "正解: 1 int(正解:): 1 int(算出的: 1 算出的: 0.9998371601104736\n",
            "正解: 1 int(正解:): 1 int(算出的: 1 算出的: 0.9963472485542297\n",
            "正解: 0 int(正解:): 0 int(算出的: 0 算出的: 0.0015796534717082977\n",
            "正解: １ int(正解:): 1 int(算出的: 1 算出的: 0.9999281167984009\n",
            "正解: 1 int(正解:): 1 int(算出的: 1 算出的: 0.9995797276496887\n",
            "正解: 1 int(正解:): 1 int(算出的: 1 算出的: 0.9997221827507019\n",
            "正解: 1 int(正解:): 1 int(算出的: 1 算出的: 0.9998754262924194\n",
            "正解: 0 int(正解:): 0 int(算出的: 0 算出的: 0.1302528977394104\n",
            "正解: 1 int(正解:): 1 int(算出的: 1 算出的: 0.9998513460159302\n",
            "正解: 0 int(正解:): 0 int(算出的: 0 算出的: 0.0015710785519331694\n",
            "正解: 1 int(正解:): 1 int(算出的: 1 算出的: 0.9996505975723267\n",
            "正解: 1 int(正解:): 1 int(算出的: 1 算出的: 0.9996961355209351\n",
            "正解: 1 int(正解:): 1 int(算出的: 1 算出的: 0.9998606443405151\n",
            "正解: １ int(正解:): 1 int(算出的: 1 算出的: 0.9998849630355835\n",
            "正解: 0 int(正解:): 0 int(算出的: 0 算出的: 0.0010765868937596679\n",
            "正解: 1 int(正解:): 1 int(算出的: 1 算出的: 0.9999171495437622\n",
            "正解: １ int(正解:): 1 int(算出的: 1 算出的: 0.9998890161514282\n",
            "正解: 1 int(正解:): 1 int(算出的: 1 算出的: 0.999835729598999\n",
            "正解: 1 int(正解:): 1 int(算出的: 1 算出的: 0.9997286200523376\n",
            "正解: ０ int(正解:): 0 int(算出的: 0 算出的: 0.10720036923885345\n",
            "正解: 1 int(正解:): 1 int(算出的: 1 算出的: 0.999876856803894\n",
            "正解: 0 int(正解:): 0 int(算出的: 0 算出的: 0.00031044561183080077\n",
            "正解: 0 int(正解:): 0 int(算出的: 0 算出的: 0.11619779467582703\n",
            "正解: 1 int(正解:): 1 int(算出的: 1 算出的: 0.999504566192627\n",
            "正解: 0 int(正解:): 0 int(算出的: 0 算出的: 0.001182942884042859\n",
            "正解: 0 int(正解:): 0 int(算出的: 0 算出的: 0.007385591976344585\n",
            "正解: 1 int(正解:): 1 int(算出的: 1 算出的: 0.9998942613601685\n",
            "正解: 0 int(正解:): 0 int(算出的: 0 算出的: 0.2999998927116394\n",
            "正解: 0 int(正解:): 0 int(算出的: 0 算出的: 0.001069135032594204\n",
            "正解: 0 int(正解:): 0 int(算出的: 0 算出的: 0.007256268989294767\n",
            "正解: 1 int(正解:): 1 int(算出的: 1 算出的: 0.9999215602874756\n",
            "正解: 0 int(正解:): 0 int(算出的: 0 算出的: 0.16289527714252472\n",
            "正解: 0 int(正解:): 0 int(算出的: 0 算出的: 0.0031922084745019674\n",
            "正解: 0 int(正解:): 0 int(算出的: 0 算出的: 0.05623007193207741\n",
            "正解: 1 int(正解:): 1 int(算出的: 1 算出的: 0.9997318387031555\n",
            "正解: 0 int(正解:): 0 int(算出的: 0 算出的: 0.004750718362629414\n",
            "正解: 0 int(正解:): 0 int(算出的: 1 算出的: 0.7699190378189087\n",
            "============Error item============\n",
            "正解: 1 int(正解:): 1 int(算出的: 1 算出的: 0.9998924732208252\n",
            "正解: 1 int(正解:): 1 int(算出的: 1 算出的: 0.999671459197998\n",
            "正解: 1 int(正解:): 1 int(算出的: 1 算出的: 0.9998519420623779\n",
            "正解: 1 int(正解:): 1 int(算出的: 1 算出的: 0.9998470544815063\n",
            "正解: 1 int(正解:): 1 int(算出的: 1 算出的: 0.9999046325683594\n",
            "正解: 1 int(正解:): 1 int(算出的: 1 算出的: 0.9999130964279175\n",
            "正解: 1 int(正解:): 1 int(算出的: 1 算出的: 0.9998218417167664\n",
            "正解: 1 int(正解:): 1 int(算出的: 1 算出的: 0.9997739195823669\n",
            "正解: 0 int(正解:): 0 int(算出的: 1 算出的: 0.6566479802131653\n",
            "============Error item============\n",
            "正解: 1 int(正解:): 1 int(算出的: 1 算出的: 0.9998633861541748\n",
            "正解: 1 int(正解:): 1 int(算出的: 1 算出的: 0.9998583793640137\n",
            "正解: 0 int(正解:): 0 int(算出的: 0 算出的: 0.0007083601667545736\n",
            "正解: 0 int(正解:): 0 int(算出的: 0 算出的: 0.00015182775678113103\n",
            "正解: 1 int(正解:): 1 int(算出的: 1 算出的: 0.9949519634246826\n",
            "正解: 0 int(正解:): 0 int(算出的: 0 算出的: 8.807208359939978e-05\n",
            "正解: 0 int(正解:): 0 int(算出的: 0 算出的: 0.0003694552287925035\n",
            "正解: 1 int(正解:): 1 int(算出的: 1 算出的: 0.9987984895706177\n",
            "正解: 0 int(正解:): 0 int(算出的: 0 算出的: 0.0005672426777891815\n",
            "正解: 1 int(正解:): 1 int(算出的: 1 算出的: 0.986312210559845\n",
            "正解: 0 int(正解:): 0 int(算出的: 0 算出的: 0.0002544670132920146\n",
            "正解: 1 int(正解:): 1 int(算出的: 1 算出的: 0.9999035596847534\n",
            "正解: 1 int(正解:): 1 int(算出的: 1 算出的: 0.9989560842514038\n",
            "正解: 0 int(正解:): 0 int(算出的: 0 算出的: 0.00011980517592746764\n",
            "正解: 1 int(正解:): 1 int(算出的: 1 算出的: 0.9977082014083862\n",
            "正解: 0 int(正解:): 0 int(算出的: 0 算出的: 0.00016572291497141123\n",
            "正解: 1 int(正解:): 1 int(算出的: 1 算出的: 0.9457372426986694\n",
            "正解: 1 int(正解:): 1 int(算出的: 1 算出的: 0.9997624754905701\n",
            "正解: １ int(正解:): 1 int(算出的: 1 算出的: 0.9968595504760742\n",
            "正解: 1 int(正解:): 1 int(算出的: 1 算出的: 0.9996498823165894\n",
            "正解: 0 int(正解:): 0 int(算出的: 0 算出的: 4.560784509521909e-05\n",
            "正解: 0 int(正解:): 0 int(算出的: 0 算出的: 0.003657635534182191\n",
            "正解: 1 int(正解:): 1 int(算出的: 1 算出的: 0.9952405691146851\n",
            "正解: 1 int(正解:): 1 int(算出的: 1 算出的: 0.9997363686561584\n",
            "正解: 0 int(正解:): 0 int(算出的: 0 算出的: 8.334711310453713e-05\n",
            "正解: 0 int(正解:): 0 int(算出的: 0 算出的: 0.0001405124057782814\n",
            "正解: 1 int(正解:): 1 int(算出的: 1 算出的: 0.9999195337295532\n",
            "正解: 0 int(正解:): 0 int(算出的: 0 算出的: 7.516329787904397e-05\n",
            "正解: 0 int(正解:): 0 int(算出的: 0 算出的: 0.00010132000170415267\n",
            "正解: 0 int(正解:): 0 int(算出的: 0 算出的: 5.9528701967792585e-05\n",
            "正解: 0 int(正解:): 0 int(算出的: 0 算出的: 6.243113602977246e-05\n",
            "正解: 1 int(正解:): 1 int(算出的: 1 算出的: 0.9990131855010986\n",
            "正解: 1 int(正解:): 1 int(算出的: 1 算出的: 0.999916672706604\n",
            "正解: 0 int(正解:): 0 int(算出的: 0 算出的: 0.00027211985434405506\n",
            "正解: 1 int(正解:): 1 int(算出的: 1 算出的: 0.9998014569282532\n",
            "正解: 1 int(正解:): 1 int(算出的: 1 算出的: 0.9997846484184265\n",
            "正解: 0 int(正解:): 0 int(算出的: 0 算出的: 0.00015167234232649207\n",
            "正解: 1 int(正解:): 1 int(算出的: 1 算出的: 0.9977993369102478\n",
            "正解: 1 int(正解:): 1 int(算出的: 1 算出的: 0.9905964136123657\n",
            "正解: 1 int(正解:): 1 int(算出的: 1 算出的: 0.9828246831893921\n",
            "正解: 1 int(正解:): 1 int(算出的: 1 算出的: 0.9895033836364746\n",
            "正解: 0 int(正解:): 0 int(算出的: 0 算出的: 0.0061550866812467575\n",
            "正解: 1 int(正解:): 1 int(算出的: 1 算出的: 0.9997312426567078\n",
            "正解: 1 int(正解:): 1 int(算出的: 1 算出的: 0.9828842878341675\n",
            "正解: 0 int(正解:): 0 int(算出的: 0 算出的: 0.0002525905438233167\n",
            "正解: 0 int(正解:): 0 int(算出的: 0 算出的: 0.0003971824480686337\n",
            "正解: 0 int(正解:): 0 int(算出的: 0 算出的: 0.0007986443233676255\n",
            "正解: 1 int(正解:): 1 int(算出的: 1 算出的: 0.9994340538978577\n",
            "正解: １ int(正解:): 1 int(算出的: 1 算出的: 0.9988802075386047\n",
            "正解: 0 int(正解:): 0 int(算出的: 0 算出的: 0.0005482513224706054\n",
            "正解: 1 int(正解:): 1 int(算出的: 1 算出的: 0.9992780089378357\n",
            "正解: 1 int(正解:): 1 int(算出的: 1 算出的: 0.9996424913406372\n",
            "正解: 1 int(正解:): 1 int(算出的: 1 算出的: 0.9997989535331726\n",
            "正解: 1 int(正解:): 1 int(算出的: 1 算出的: 0.9995657801628113\n",
            "正解: 0 int(正解:): 0 int(算出的: 0 算出的: 9.364930883748457e-05\n",
            "正解: 1 int(正解:): 1 int(算出的: 1 算出的: 0.9980770349502563\n",
            "正解: 0 int(正解:): 0 int(算出的: 0 算出的: 0.0002529908379074186\n",
            "正解: 0 int(正解:): 0 int(算出的: 0 算出的: 0.014537273906171322\n",
            "正解: 1 int(正解:): 1 int(算出的: 1 算出的: 0.9998154044151306\n",
            "正解: 0 int(正解:): 0 int(算出的: 0 算出的: 7.786264905007556e-05\n",
            "正解: 0 int(正解:): 0 int(算出的: 0 算出的: 0.00028309793560765684\n",
            "正解: 1 int(正解:): 1 int(算出的: 1 算出的: 0.974741518497467\n",
            "正解: ０ int(正解:): 0 int(算出的: 0 算出的: 0.0010085448157042265\n",
            "正解: 1 int(正解:): 1 int(算出的: 1 算出的: 0.999046266078949\n",
            "正解: 1 int(正解:): 1 int(算出的: 1 算出的: 0.9996914863586426\n",
            "正解: 1 int(正解:): 1 int(算出的: 1 算出的: 0.9979816675186157\n",
            "正解: 0 int(正解:): 0 int(算出的: 0 算出的: 8.282499038614333e-05\n",
            "正解: 1 int(正解:): 1 int(算出的: 1 算出的: 0.9998140931129456\n",
            "正解: 1 int(正解:): 1 int(算出的: 1 算出的: 0.999934196472168\n",
            "正解: 0 int(正解:): 0 int(算出的: 0 算出的: 0.007366488222032785\n",
            "正解: 1 int(正解:): 1 int(算出的: 1 算出的: 0.9989761114120483\n",
            "正解: 1 int(正解:): 1 int(算出的: 1 算出的: 0.999636173248291\n",
            "正解: 1 int(正解:): 1 int(算出的: 1 算出的: 0.9652585983276367\n",
            "正解: 0 int(正解:): 0 int(算出的: 0 算出的: 5.648727164953016e-05\n",
            "正解: 1 int(正解:): 1 int(算出的: 1 算出的: 0.9998264908790588\n",
            "正解: 0 int(正解:): 0 int(算出的: 0 算出的: 0.0004943171516060829\n",
            "正解: 0 int(正解:): 0 int(算出的: 0 算出的: 5.113812949275598e-05\n",
            "正解: 0 int(正解:): 0 int(算出的: 0 算出的: 0.00012636958854272962\n",
            "正解: 1 int(正解:): 1 int(算出的: 1 算出的: 0.9973927736282349\n",
            "正解: 1 int(正解:): 1 int(算出的: 1 算出的: 0.9984599351882935\n",
            "正解: 0 int(正解:): 0 int(算出的: 0 算出的: 0.00041390376281924546\n",
            "正解: 0 int(正解:): 0 int(算出的: 0 算出的: 0.0010784370824694633\n",
            "正解: 0 int(正解:): 0 int(算出的: 0 算出的: 0.0003072309191338718\n",
            "正解: ０ int(正解:): 0 int(算出的: 0 算出的: 6.825212767580524e-05\n",
            "正解: 1 int(正解:): 1 int(算出的: 1 算出的: 0.9991961121559143\n",
            "正解: １ int(正解:): 1 int(算出的: 1 算出的: 0.9995332956314087\n",
            "正解: 0 int(正解:): 0 int(算出的: 0 算出的: 6.262098031584173e-05\n",
            "正解: 1 int(正解:): 1 int(算出的: 1 算出的: 0.9996581077575684\n",
            "正解: 0 int(正解:): 0 int(算出的: 0 算出的: 0.010371274314820766\n",
            "正解: 0 int(正解:): 0 int(算出的: 0 算出的: 0.00047589646419510245\n",
            "正解: ０ int(正解:): 0 int(算出的: 0 算出的: 0.0005457318620756269\n",
            "正解: 0 int(正解:): 0 int(算出的: 0 算出的: 0.0010559713700786233\n",
            "正解: 0 int(正解:): 0 int(算出的: 0 算出的: 0.00012724428961519152\n",
            "正解: ０ int(正解:): 0 int(算出的: 0 算出的: 9.266141569241881e-05\n",
            "正解: 0 int(正解:): 0 int(算出的: 0 算出的: 6.159524491522461e-05\n",
            "正解: 0 int(正解:): 0 int(算出的: 0 算出的: 0.00030573780531995\n",
            "正解: 0 int(正解:): 0 int(算出的: 0 算出的: 5.3404277423396707e-05\n",
            "正解: 1 int(正解:): 1 int(算出的: 1 算出的: 0.9974989295005798\n",
            "正解: 0 int(正解:): 0 int(算出的: 0 算出的: 0.00011907931911991909\n",
            "正解: 0 int(正解:): 0 int(算出的: 0 算出的: 0.00010249034676235169\n",
            "正解: 0 int(正解:): 0 int(算出的: 0 算出的: 7.34554705559276e-05\n",
            "正解: １ int(正解:): 1 int(算出的: 1 算出的: 0.9961318969726562\n",
            "正解: 0 int(正解:): 0 int(算出的: 0 算出的: 0.00043948565144091845\n",
            "正解: 0 int(正解:): 0 int(算出的: 0 算出的: 0.00013278757978696376\n",
            "正解: 0 int(正解:): 0 int(算出的: 0 算出的: 0.0013679906260222197\n",
            "正解: 0 int(正解:): 0 int(算出的: 0 算出的: 0.0011945877922698855\n",
            "正解: 0 int(正解:): 0 int(算出的: 0 算出的: 9.695485641714185e-05\n",
            "正解: 1 int(正解:): 1 int(算出的: 1 算出的: 0.7964816093444824\n",
            "正解: 1 int(正解:): 1 int(算出的: 1 算出的: 0.9909013509750366\n",
            "正解: 0 int(正解:): 0 int(算出的: 0 算出的: 0.000211556107387878\n",
            "正解: 0 int(正解:): 0 int(算出的: 0 算出的: 0.0008702893974259496\n",
            "正解: ０ int(正解:): 0 int(算出的: 0 算出的: 9.180294000543654e-05\n",
            "正解: 0 int(正解:): 0 int(算出的: 0 算出的: 0.0030935173854231834\n",
            "正解: 0 int(正解:): 0 int(算出的: 0 算出的: 0.005858208518475294\n",
            "正解: 0 int(正解:): 0 int(算出的: 0 算出的: 0.00020031463645864278\n",
            "正解: 0 int(正解:): 0 int(算出的: 0 算出的: 0.0003265917475800961\n",
            "正解: 0 int(正解:): 0 int(算出的: 0 算出的: 0.00015054056711960584\n",
            "正解: 0 int(正解:): 0 int(算出的: 0 算出的: 4.946682747686282e-05\n",
            "正解: 0 int(正解:): 0 int(算出的: 0 算出的: 0.00016776083793956786\n",
            "正解: 0 int(正解:): 0 int(算出的: 0 算出的: 0.00045156304258853197\n",
            "正解: 0 int(正解:): 0 int(算出的: 0 算出的: 0.00015084001643117517\n",
            "正解: 1 int(正解:): 1 int(算出的: 1 算出的: 0.9998262524604797\n",
            "正解: 0 int(正解:): 0 int(算出的: 0 算出的: 0.00048412333126179874\n",
            "正解: 0 int(正解:): 0 int(算出的: 0 算出的: 0.00042108166962862015\n",
            "正解: 0 int(正解:): 0 int(算出的: 0 算出的: 6.078208389226347e-05\n",
            "正解: 1 int(正解:): 1 int(算出的: 1 算出的: 0.9996446371078491\n",
            "正解: 1 int(正解:): 1 int(算出的: 1 算出的: 0.9987278580665588\n",
            "正解: 1 int(正解:): 1 int(算出的: 1 算出的: 0.9986477494239807\n",
            "正解: 0 int(正解:): 0 int(算出的: 0 算出的: 0.0008630072697997093\n",
            "正解: 0 int(正解:): 0 int(算出的: 0 算出的: 9.553846757626161e-05\n",
            "正解: 0 int(正解:): 0 int(算出的: 0 算出的: 4.268078555469401e-05\n",
            "正解: 0 int(正解:): 0 int(算出的: 0 算出的: 4.452301800483838e-05\n",
            "正解: 0 int(正解:): 0 int(算出的: 0 算出的: 0.00011190547229489312\n",
            "正解: 1 int(正解:): 1 int(算出的: 1 算出的: 0.9993675351142883\n",
            "正解: 0 int(正解:): 0 int(算出的: 0 算出的: 0.0042798216454684734\n",
            "正解: １ int(正解:): 1 int(算出的: 1 算出的: 0.9982442855834961\n",
            "正解: 1 int(正解:): 1 int(算出的: 1 算出的: 0.9954344630241394\n",
            "正解: １ int(正解:): 1 int(算出的: 1 算出的: 0.9999072551727295\n",
            "正解: ０ int(正解:): 0 int(算出的: 0 算出的: 0.000325284170685336\n",
            "正解: 0 int(正解:): 0 int(算出的: 0 算出的: 0.0001263104350073263\n",
            "正解: 0 int(正解:): 0 int(算出的: 0 算出的: 4.645410444936715e-05\n",
            "正解: 1 int(正解:): 1 int(算出的: 1 算出的: 0.6521645188331604\n",
            "正解: 0 int(正解:): 0 int(算出的: 0 算出的: 0.00037623022217303514\n",
            "正解: 0 int(正解:): 0 int(算出的: 0 算出的: 0.00015173859719652683\n",
            "正解: 0 int(正解:): 0 int(算出的: 0 算出的: 0.002307296497747302\n",
            "正解: 0 int(正解:): 0 int(算出的: 0 算出的: 8.400894148508087e-05\n",
            "正解: 0 int(正解:): 0 int(算出的: 0 算出的: 0.0004540615773294121\n",
            "正解: 0 int(正解:): 0 int(算出的: 0 算出的: 0.00015140978212002665\n",
            "正解: 0 int(正解:): 0 int(算出的: 0 算出的: 0.0009648830746300519\n",
            "正解: 1 int(正解:): 1 int(算出的: 1 算出的: 0.9978471994400024\n",
            "正解: 0 int(正解:): 0 int(算出的: 0 算出的: 0.00022263234131969512\n",
            "正解: 1 int(正解:): 1 int(算出的: 1 算出的: 0.9982831478118896\n",
            "正解: 0 int(正解:): 0 int(算出的: 0 算出的: 0.001451600925065577\n",
            "正解: 0 int(正解:): 0 int(算出的: 0 算出的: 7.81165508669801e-05\n",
            "正解: 0 int(正解:): 0 int(算出的: 0 算出的: 7.78238900238648e-05\n",
            "正解: 0 int(正解:): 0 int(算出的: 0 算出的: 4.675640957430005e-05\n",
            "正解: 0 int(正解:): 0 int(算出的: 0 算出的: 0.0003592129796743393\n",
            "正解: 1 int(正解:): 1 int(算出的: 1 算出的: 0.9954676628112793\n",
            "正解: 0 int(正解:): 0 int(算出的: 0 算出的: 6.302705151028931e-05\n",
            "正解: 0 int(正解:): 0 int(算出的: 0 算出的: 0.005859133321791887\n",
            "正解: 0 int(正解:): 0 int(算出的: 0 算出的: 4.354697011876851e-05\n",
            "正解: 1 int(正解:): 1 int(算出的: 1 算出的: 0.9999221563339233\n",
            "正解: 0 int(正解:): 0 int(算出的: 0 算出的: 0.00012004921882180497\n",
            "正解: 1 int(正解:): 1 int(算出的: 1 算出的: 0.9977668523788452\n",
            "正解: 0 int(正解:): 0 int(算出的: 0 算出的: 0.00010039260087069124\n",
            "正解: 0 int(正解:): 0 int(算出的: 0 算出的: 6.933724944246933e-05\n",
            "正解: 1 int(正解:): 1 int(算出的: 1 算出的: 0.9982765913009644\n",
            "正解: 0 int(正解:): 0 int(算出的: 0 算出的: 0.0002441892575006932\n",
            "正解: 1 int(正解:): 1 int(算出的: 1 算出的: 0.9978366494178772\n",
            "正解: 1 int(正解:): 1 int(算出的: 1 算出的: 0.9792653322219849\n",
            "正解: 0 int(正解:): 0 int(算出的: 0 算出的: 3.9959108107723296e-05\n",
            "正解: ０ int(正解:): 0 int(算出的: 0 算出的: 7.79816837166436e-05\n",
            "正解: 0 int(正解:): 0 int(算出的: 0 算出的: 7.370434468612075e-05\n",
            "正解: 0 int(正解:): 0 int(算出的: 0 算出的: 9.396239329362288e-05\n",
            "正解: 0 int(正解:): 0 int(算出的: 0 算出的: 0.0001025349265546538\n",
            "正解: 1 int(正解:): 1 int(算出的: 1 算出的: 0.9979857206344604\n",
            "正解: 1 int(正解:): 1 int(算出的: 1 算出的: 0.9979122281074524\n",
            "正解: 0 int(正解:): 0 int(算出的: 0 算出的: 0.00010056400060420856\n",
            "正解: 0 int(正解:): 0 int(算出的: 0 算出的: 0.00012040587898809463\n",
            "正解: １ int(正解:): 1 int(算出的: 1 算出的: 0.9955927729606628\n",
            "正解: ０ int(正解:): 0 int(算出的: 0 算出的: 0.0185578353703022\n",
            "正解: 0 int(正解:): 0 int(算出的: 0 算出的: 5.807244451716542e-05\n",
            "正解: 0 int(正解:): 0 int(算出的: 0 算出的: 0.0035553290508687496\n",
            "正解: ０ int(正解:): 0 int(算出的: 0 算出的: 0.00019618657825049013\n",
            "正解: 1 int(正解:): 1 int(算出的: 1 算出的: 0.9977753758430481\n",
            "正解: 1 int(正解:): 1 int(算出的: 1 算出的: 0.8918443918228149\n",
            "正解: 1 int(正解:): 1 int(算出的: 1 算出的: 0.9999314546585083\n",
            "正解: 0 int(正解:): 0 int(算出的: 0 算出的: 9.917136776493862e-05\n",
            "正解: 1 int(正解:): 1 int(算出的: 1 算出的: 0.9043816328048706\n",
            "正解: 0 int(正解:): 0 int(算出的: 0 算出的: 0.0001514750620117411\n",
            "正解: 1 int(正解:): 1 int(算出的: 1 算出的: 0.9989885687828064\n",
            "正解: 0 int(正解:): 0 int(算出的: 0 算出的: 7.895803719293326e-05\n",
            "正解: 0 int(正解:): 0 int(算出的: 0 算出的: 0.00015321765386033803\n",
            "正解: 0 int(正解:): 0 int(算出的: 0 算出的: 0.0002652335970196873\n",
            "正解: 0 int(正解:): 0 int(算出的: 0 算出的: 0.0006808803300373256\n",
            "正解: 0 int(正解:): 0 int(算出的: 0 算出的: 0.00019733267254196107\n",
            "正解: 0 int(正解:): 0 int(算出的: 0 算出的: 0.00024712400045245886\n",
            "正解: 1 int(正解:): 1 int(算出的: 1 算出的: 0.9996249675750732\n",
            "正解: 1 int(正解:): 1 int(算出的: 1 算出的: 0.9974029660224915\n",
            "正解: ０ int(正解:): 0 int(算出的: 0 算出的: 0.006166674662381411\n",
            "正解: 0 int(正解:): 0 int(算出的: 0 算出的: 5.557179974857718e-05\n",
            "正解: 0 int(正解:): 0 int(算出的: 0 算出的: 4.657617682823911e-05\n",
            "正解: ０ int(正解:): 0 int(算出的: 0 算出的: 0.00023034546757116914\n",
            "正解: 0 int(正解:): 0 int(算出的: 0 算出的: 0.00011758381151594222\n",
            "正解: 0 int(正解:): 0 int(算出的: 0 算出的: 0.003590885316953063\n",
            "正解: 0 int(正解:): 0 int(算出的: 0 算出的: 0.0003317739174235612\n",
            "正解: 0 int(正解:): 0 int(算出的: 0 算出的: 0.00040762461139820516\n",
            "正解: 0 int(正解:): 0 int(算出的: 0 算出的: 0.00010841729090316221\n",
            "正解: 0 int(正解:): 0 int(算出的: 0 算出的: 6.566872616531327e-05\n",
            "正解: ０ int(正解:): 0 int(算出的: 0 算出的: 0.00023882501409389079\n",
            "正解: 0 int(正解:): 0 int(算出的: 0 算出的: 8.6090418335516e-05\n",
            "正解: 0 int(正解:): 0 int(算出的: 0 算出的: 7.686903700232506e-05\n",
            "正解: 0 int(正解:): 0 int(算出的: 0 算出的: 0.0010592846665531397\n",
            "正解: 0 int(正解:): 0 int(算出的: 0 算出的: 0.00021389813628047705\n",
            "正解: 0 int(正解:): 0 int(算出的: 0 算出的: 0.003117553424090147\n",
            "正解: ０ int(正解:): 0 int(算出的: 0 算出的: 0.001075727748684585\n",
            "正解: 0 int(正解:): 0 int(算出的: 0 算出的: 0.00010262648720527068\n",
            "正解: 0 int(正解:): 0 int(算出的: 0 算出的: 0.0027417526580393314\n",
            "正解: ０ int(正解:): 0 int(算出的: 0 算出的: 0.01833709515631199\n",
            "正解: 0 int(正解:): 0 int(算出的: 0 算出的: 0.00034536575549282134\n",
            "正解: 0 int(正解:): 0 int(算出的: 0 算出的: 0.0005370759172365069\n",
            "正解: 0 int(正解:): 0 int(算出的: 0 算出的: 0.0003474287805147469\n",
            "正解: 0 int(正解:): 0 int(算出的: 0 算出的: 9.625209349906072e-05\n",
            "正解: 0 int(正解:): 0 int(算出的: 0 算出的: 6.528963422169909e-05\n",
            "正解: 0 int(正解:): 0 int(算出的: 0 算出的: 7.708059274591506e-05\n",
            "正解: 0 int(正解:): 0 int(算出的: 0 算出的: 5.879550371901132e-05\n",
            "正解: 1 int(正解:): 1 int(算出的: 1 算出的: 0.993249773979187\n",
            "正解: 1 int(正解:): 1 int(算出的: 1 算出的: 0.999913215637207\n",
            "正解: 0 int(正解:): 0 int(算出的: 0 算出的: 0.0003171016287524253\n",
            "正解: 1 int(正解:): 1 int(算出的: 1 算出的: 0.9988413453102112\n",
            "正解: １ int(正解:): 1 int(算出的: 1 算出的: 0.8619130253791809\n",
            "正解: 0 int(正解:): 0 int(算出的: 0 算出的: 0.0002031569747487083\n",
            "正解: 1 int(正解:): 1 int(算出的: 1 算出的: 0.9962759017944336\n",
            "正解: 1 int(正解:): 1 int(算出的: 1 算出的: 0.9988767504692078\n",
            "正解: 0 int(正解:): 0 int(算出的: 0 算出的: 4.658679245039821e-05\n",
            "正解: 1 int(正解:): 1 int(算出的: 1 算出的: 0.9986974596977234\n",
            "正解: 0 int(正解:): 0 int(算出的: 0 算出的: 5.250135654932819e-05\n",
            "正解: ０ int(正解:): 0 int(算出的: 0 算出的: 7.325994374696165e-05\n",
            "正解: 0 int(正解:): 0 int(算出的: 0 算出的: 6.940307503100485e-05\n",
            "正解: ０ int(正解:): 0 int(算出的: 0 算出的: 0.000201298767933622\n",
            "正解: 0 int(正解:): 0 int(算出的: 0 算出的: 0.00024231690622400492\n",
            "正解: 0 int(正解:): 0 int(算出的: 0 算出的: 0.0004620251711457968\n",
            "正解: 0 int(正解:): 0 int(算出的: 0 算出的: 0.00010973887401632965\n",
            "正解: 0 int(正解:): 0 int(算出的: 0 算出的: 0.0004589633899740875\n",
            "正解: 1 int(正解:): 1 int(算出的: 1 算出的: 0.9225436449050903\n",
            "正解: ０ int(正解:): 0 int(算出的: 0 算出的: 0.00015618224279023707\n",
            "正解: 1 int(正解:): 1 int(算出的: 1 算出的: 0.9996362924575806\n",
            "正解: ０ int(正解:): 0 int(算出的: 0 算出的: 0.00012498401338234544\n",
            "正解: 1 int(正解:): 1 int(算出的: 1 算出的: 0.9995583891868591\n",
            "正解: 0 int(正解:): 0 int(算出的: 0 算出的: 8.983699808595702e-05\n",
            "正解: 0 int(正解:): 0 int(算出的: 0 算出的: 0.0011070220498368144\n",
            "正解: ０ int(正解:): 0 int(算出的: 0 算出的: 0.0001283000165130943\n",
            "正解: 0 int(正解:): 0 int(算出的: 0 算出的: 0.0008242366602644324\n",
            "正解: 1 int(正解:): 1 int(算出的: 1 算出的: 0.9968585968017578\n",
            "正解: 1 int(正解:): 1 int(算出的: 1 算出的: 0.9855608344078064\n",
            "正解: 0 int(正解:): 0 int(算出的: 0 算出的: 4.308543793740682e-05\n",
            "正解: 0 int(正解:): 0 int(算出的: 0 算出的: 0.0003357292152941227\n",
            "正解: 0 int(正解:): 0 int(算出的: 0 算出的: 0.0007762826862744987\n",
            "正解: 0 int(正解:): 0 int(算出的: 0 算出的: 0.0001950696314452216\n",
            "正解: 1 int(正解:): 1 int(算出的: 1 算出的: 0.9995216131210327\n",
            "正解: 1 int(正解:): 1 int(算出的: 1 算出的: 0.9890194535255432\n",
            "正解: 1 int(正解:): 1 int(算出的: 1 算出的: 0.9993813037872314\n",
            "正解: 0 int(正解:): 0 int(算出的: 0 算出的: 0.00014350104902405292\n",
            "正解: 0 int(正解:): 0 int(算出的: 0 算出的: 0.0002093484508804977\n",
            "正解: 0 int(正解:): 0 int(算出的: 0 算出的: 0.0023521697148680687\n",
            "正解: 0 int(正解:): 0 int(算出的: 0 算出的: 0.02111927792429924\n",
            "完成機率: 0.9913294797687862\n"
          ],
          "name": "stdout"
        }
      ]
    },
    {
      "cell_type": "markdown",
      "metadata": {
        "id": "HAoi91QjetnA"
      },
      "source": [
        "# Question Answer"
      ]
    },
    {
      "cell_type": "markdown",
      "metadata": {
        "id": "oXGZzsDobi_4"
      },
      "source": [
        "## About Question Answer dataset"
      ]
    },
    {
      "cell_type": "code",
      "metadata": {
        "id": "CABvjFZjRLJR",
        "colab": {
          "base_uri": "https://localhost:8080/"
        },
        "outputId": "7cf4edbc-03fa-41a1-854c-84eff259f1a7"
      },
      "source": [
        "from pprint import pprint\n",
        "#from dataset import dataset_qa,dataset_qa1\n",
        "import os\n",
        "import pandas as pd\n",
        "import json\n",
        "\n",
        "#qa_file=os.path.join(\"data\", \"SampleData_QA.json\")\n",
        "qa_file=os.path.join(\"data\", \"Develop_QA.json\")\n",
        "\n",
        "print('qa data:')\n",
        "print(json.load(open(qa_file,encoding='utf-8'))[0])\n",
        "\n",
        "dataset = dataset_qa(\n",
        "    vocab_path=os.path.join(\"data\", \"vocab.json\"),\n",
        "    qa_file=os.path.join(\"data\", \"Train_qa_ans.json\"),\n",
        ")\n",
        "#dataset = dataset_qa1(\n",
        "#    vocab_path=os.path.join(\"data\", \"vocab.json\"),\n",
        "#    qa_file=os.path.join(\"data\", \"Train_qa_ans.json\"),\n",
        "#)\n",
        "\n",
        "d = next(iter(dataset))\n",
        "print('\\n---------------------------------')\n",
        "print('encoded article')\n",
        "print(d['article'])\n",
        "print(d['article'].shape)\n",
        "print('\\n---------------------------------')\n",
        "print('encoded question')\n",
        "print(d['question'])\n",
        "print(d['question'].shape)\n",
        "print('\\n---------------------------------')\n",
        "print('encoded choice')\n",
        "print(d['choice'])\n",
        "print(d['choice'].shape)\n",
        "print('\\n---------------------------------')\n",
        "print('answer')\n",
        "print(d['qa_answer'])"
      ],
      "execution_count": null,
      "outputs": [
        {
          "output_type": "stream",
          "text": [
            "qa data:\n",
            "{'id': 1, 'article_id': 1, 'text': '個管師：好喔，我剛剛後來確認了一下你抽血的狀況，哈哈～對，你下一次抽血就10月20到11月1號。民眾：好。個管師：然後廖醫師有幫你排回診2月17號。民眾：好。個管師：這樣ok嗎？民眾：好。個管師：然後你現階段……民眾：是。個管師：你跟你男朋友都沒有約嗎？民眾：沒有啊。個管師：然後這一個月沒有性行為？民眾：也沒有阿。個管師：你們沒有住在一起對不對？民眾：有。個管師：你們有住在一起，你們有住在一起，但是性行為可以預期嗎？民眾：蛤，可以啊。個管師：呵～真的喔？民眾：一個，因為我看，我是看著一個就是現實社會的狀況比那個更重的人，所以……個管師：什麼意思？民眾：就是，因為他現在都是工讀阿，所以他現在打了兩份工，所以那個時間，然後所以時間到我一定逼他去工作，呵呵～個管師：喔他現在在，誒他現在在工作了？民眾：他現在是在工作啦。個管師：他剛畢業嗎？民眾：沒有阿。個管師：畢業兩年？民眾：一段時間了。個管師：一年？民眾：已經超過了，對然後……個管師：那位什麼還在考license？民眾：阿之前都沒過啊。個管師：那他還這麼堅持，還要考license喔？民眾：是，我後來他遇到我之後有跟我講到這件事情，然後我就想說好，你要……個管師：那他有興趣在臨床嗎？民眾：不知道誒，但是他有想要說先考過再說，那我就說好，那你就先去看說，我現在就是讓他自己，不打擾，然後你就工作看書，就是對。個管師：喔，所以你們的性行為是可以被預期的？民眾：可以啊。個管師：好，因為通常……民眾：而且有加上這件事情就是他現在應該很會，很怕看到我這件事情～個管師：為什麼？民眾：看書。個管師：誒你這樣給他壓力太大了好不好。民眾：呵呵～個管師：你這樣給他壓力太大了啦。民眾：誒，你也要想想看你已經，就是對一般人來講你如果已經出來社會之後你會多少，記住多少學校教的事情？個管師：然後呢？民眾：對阿所以你要就是想辦法要重新再預習，而且你出社會經過兩三年過後我相信教的東西一定會比原本的……個管師：差很多？民眾：差很多啊。個管師：現在差很多？民眾：對，所以我還去補，跟認識的朋友那邊就是，他那邊之前有……個管師：拿書？民眾：補習，對，就是跟他借教材。個管師：恩，你對他真的蠻用心的，好啦，因為通常住在一起的話我們通常都會建議每天吃啦。民眾：恩。個管師：那如果假設，那當然現在原則條件是，就是能夠吃任務型的一個很重要的因素是你的性行為可以被計劃。民眾：喔，可以啊。個管師：如果不能被計劃的話還是建議會每天吃。民眾：恩。個管師：好，那我還是會幫你寫這一張，就確認吃法是對的，因為要具保護力的話是要吃法正確才具保護力。個管師：所以我們會更確認的是吃法這件事情，因為就像很多時候有一些個案會問說啊我看到什麼ppt阿，或者是bbs阿，現在還有bbs嗎？就是可能會有一些，然後他就說，可能就會說誒某某某他有吃prep阿，可是為什麼還是感染了？有時候其實我們可能當下只知道這個人有吃，可是他吃法正不正確，我們後來去追查的，基本上就是，都是錯誤的。民眾：對，我倒不如直接傳LINE問你會比較快～個管師：對對對對對，所以吃法正確這件事很重要。民眾：對阿。個管師：我們，我們還是得要小考一下啦，來，今天晚上十點如果假設就是已經預約好，真的很久，一個月沒有性行為了。民眾：恩。個管師：突然就是講好要性行為這件事情。民眾：當然還是講說……個管師：什麼時候吃藥？民眾：當然還是講說二十四小時之前或者是前兩個小時。個管師：二到二十四小時。民眾：對對對對對。個管師：所以是不是最晚，最晚喔。民眾：對。個管師：八點要吃兩顆。民眾：然後結束後一顆嘛。個管師：沒有NONONO。民眾：誒當，當天。個管師：不是，第一次服藥時間的第一個二十四小時。民眾：二十四小時。個管師：所以是八點吃一顆，然後……民眾：再隔天。個管師：四十八小時……民眾：再一顆。個管師：對，八點再一顆，這樣子吃喔，好，那另外一個就是如果假設我在這一天好了，這一天我又有一次性行為，在十一點要睡的時候，那我要怎麼吃藥？民眾：十一點？個管師：我為什麼會問你十一點，因為十一點有時候不會有人回你訊息，呵呵呵呵呵～來。民眾：他算是，喔就只有……個管師：五號的十一點你已經吃完藥了，你十一點還有性行為。民眾：恩。個管師：阿怎麼吃藥？民眾：一樣二十四小時嗎？個管師：然後勒？民眾：一顆。個管師：對。民眾：然後之後還再後面還再一顆。個管師：再一個？民眾：對，二十四小時一顆。個管師：二十四小時，也是八點再一顆？民眾：對。個管師：好，然後呢，就結束了？好，不過你只要記得最後一次性行為一定要吃兩次的……民眾：兩次，對阿。個管師：藥，OK嗎？民眾：恩。個管師：好，那如果假設我到這裡，阿這舉例啦，你平常可能不會到那麼頻繁，哈哈哈～十點。民眾：那一樣阿，就一樣兩顆阿。個管師：然後，對，然後就是吃到十一月……民眾：對阿。個管師：九號的八點。民眾：反正你不管多少就是往後就是二十四小時一顆。個管師：對。民眾：二十四小時一顆阿。個管師：對，就是你最後一次性行為一定要後面吃到兩顆。民眾：對阿。個管師：好，這張送給你。民眾：好。個管師：如果不清楚的話，半夜突然想說……民眾：沒阿，哈哈～個管師：哈哈哈～好，可預期的話就會，會建議吃任務型啦。民眾：好。個管師：然後不能預期的話，如果住在一起不能預期的話就是要吃……民眾：我應該，我應該，應該說就是如果貸款那邊結束，快結束沒多少的話。個管師：你每個月要付多少貸款啊？民眾：喔已經快薪水的一半了。個管師：你……你……你付什麼貸款這麼高？民眾：家裡面的貸款阿，然後另外一個部分是因為幾年前我曾經車禍。個管師：恩。民眾：然後賠款，對。個管師：喔，好啦。民眾：可是雖然，我很多理賠的朋友都覺得說那不應該是我的錯。個管師：喔很多車禍都這樣子。民眾：對。個管師：對，好。民眾：因……因為主要是一開始警察的判斷。個管師：認定？民眾：判斷就不對了，他……他們說只看對方是長輩。個管師：喔OK。民眾：就認為我不對了。個管師：喔對阿，就是很多主觀判定啦。民眾：對阿。個管師：好，那原則上是這樣，因為你五月三號已經有抽血了嘛？民眾：對。個管師：五月三號已經抽血了，所以你接下來我給你寫的那個時間的間距去抽……抽一次血。民眾：好好。個管師：OK嗎？民眾：好。個管師：好，然後抽完血之後如果，比如說你十二月份想要買藥的話。民眾：恩。個管師：那你就，就來買。民眾：好。個管師：你就上網去買。民眾：好，然後再跟妳講？個管師：對對，跟我們講你買哪一家這樣子OK嗎？民眾：好。個管師：好，然後一樣就是如果真的真的手邊沒有藥，那就是要戴套。民眾：好。個管師：好，OK嗎？民眾：好。個管師：好的喔，有問題的話一樣傳訊息給我，ID是PREPEAT，OK嗎？民眾：好喔，謝謝。', 'question': {'stem': '請問任務型吃法很重要的因素是什麼？', 'choices': [{'text': '性行為可以被計劃', 'label': 'A'}, {'text': '不能被計劃', 'label': 'B'}, {'text': '有住在一起', 'label': 'C'}]}}\n",
            "\n",
            "---------------------------------\n",
            "encoded article\n",
            "[[ 72 320 479 ...   0   0   0]\n",
            " [420 666   0 ...   0   0   0]\n",
            " [ 72 320 479 ...   0   0   0]\n",
            " ...\n",
            " [  0   0   0 ...   0   0   0]\n",
            " [  0   0   0 ...   0   0   0]\n",
            " [  0   0   0 ...   0   0   0]]\n",
            "(170, 52)\n",
            "\n",
            "---------------------------------\n",
            "encoded question\n",
            "[ 56 416 445  70 420 666   2 975 987   0 348 144  12 879  59   0   0   0\n",
            "   0   0]\n",
            "(20,)\n",
            "\n",
            "---------------------------------\n",
            "encoded choice\n",
            "[[ 12 708 650   0   0   0   0   0   0   0   0   0   0   0   0   0   0   0]\n",
            " [420 666   2 708 906  11   6 251 126 423 199   0   0   0   0   0   0   0]\n",
            " [407  76 584 788 545 584 189 771   0   0   0   0   0   0   0   0   0   0]]\n",
            "(3, 18)\n",
            "\n",
            "---------------------------------\n",
            "answer\n",
            "[0 0 1]\n"
          ],
          "name": "stdout"
        }
      ]
    },
    {
      "cell_type": "markdown",
      "metadata": {
        "id": "uqqbc03fJf0N"
      },
      "source": [
        "## Question Answer Model"
      ]
    },
    {
      "cell_type": "code",
      "metadata": {
        "id": "5HeAcN6DJbjb"
      },
      "source": [
        "class QA_Classifier(nn.Module):\n",
        "    def __init__(self, d_emb: int, p_hid: float, n_layers: int):\n",
        "        super().__init__()\n",
        "        self.l1 = nn.Linear(3*d_emb, d_emb)\n",
        "        self.dropout = nn.Dropout(p_hid)\n",
        "\n",
        "        hid = []\n",
        "        for _ in range(n_layers):\n",
        "            hid.append(nn.Linear(in_features=d_emb, out_features=d_emb))\n",
        "            hid.append(nn.ReLU())\n",
        "            hid.append(nn.Dropout(p=p_hid))\n",
        "        self.hid = nn.Sequential(*hid)\n",
        "        self.l2 = nn.Linear(d_emb, 1)\n",
        "\n",
        "    def forward(\n",
        "        self,\n",
        "        document: torch.Tensor,\n",
        "        question: torch.Tensor,\n",
        "        choice: torch.Tensor\n",
        "    ) -> torch.Tensor:\n",
        "        # Concatenates `document embedding`, `question embedding`\n",
        "        # and `choice embeding`\n",
        "        # Input shape: `(B, E)`, `(B, E)`, `(B, E)`\n",
        "        # Ouput shape: `(B, 3*E)`\n",
        "        output = torch.cat((document, question, choice), -1)\n",
        "\n",
        "        # Linear layer\n",
        "        # Input shape: `(B, 3*E)`\n",
        "        # Ouput shape: `(B, E)`\n",
        "        output = F.relu(self.l1(output))\n",
        "\n",
        "        # Dropout\n",
        "        # Input shape: `(B, E)`\n",
        "        # Ouput shape: `(B, E)`\n",
        "        output = self.dropout(output)\n",
        "\n",
        "        # Hidden layer\n",
        "        output = self.hid(output)\n",
        "\n",
        "        # Linear layer\n",
        "        # Input shape: `(B, E)`\n",
        "        # Ouput shape: `(B, 1)`\n",
        "        output = torch.sigmoid(self.l2(output))\n",
        "\n",
        "        return output\n",
        "\n",
        "\n",
        "class qa_model(nn.Module):\n",
        "    def __init__(self, embedding_path: str, d_emb: int, n_cls_layers: int, p_drop: float):\n",
        "        super().__init__()\n",
        "        self.embedding = nn.Embedding.from_pretrained(torch.FloatTensor(\n",
        "            np.load(embedding_path)), freeze=True, padding_idx=0)\n",
        "        self.word_encoder = Encoder(d_emb, p_drop)\n",
        "        self.encoder = Encoder(d_emb, p_drop)\n",
        "        self.qa = QA_Classifier(d_emb, p_drop, n_cls_layers)\n",
        "\n",
        "    def forward(self, document, question, choice):\n",
        "        # Embedding layer\n",
        "        # Shape: [B, `max_doc_len`, `max_sent_len`, E]\n",
        "        doc = self.embedding(document)\n",
        "        # Shape: [B, `max_q_len`, E]\n",
        "        qst = self.embedding(question)\n",
        "        # Shape: [B, 3, `max_c_len`, E]\n",
        "        chs = self.embedding(choice)\n",
        "\n",
        "        # Sentence embedding\n",
        "        # Shape: [B, `max_doc_len`, E]\n",
        "        w_mask, s_mask = self.create_mask(document)\n",
        "        \n",
        "        doc = torch.stack([self.word_encoder(d, m) for d, m in zip(doc, w_mask)])\n",
        "\n",
        "        # Shape: [B, E]\n",
        "        w_mask, _ = self.create_mask(question)\n",
        "        qst = self.word_encoder(qst, w_mask)\n",
        "\n",
        "        # Document embedding\n",
        "        # Input shape: [B, `max_doc_len`, E]\n",
        "        # Output shape: [B, E]\n",
        "        doc = self.encoder(doc, s_mask)\n",
        "\n",
        "        # Input Shape: [3, B, E]\n",
        "        # Output Shape: [[B],[B],[B]]\n",
        "        chs = chs.transpose(0, 1)\n",
        "        w_mask, _ = self.create_mask(choice.transpose(0, 1))\n",
        "        qa_output = [self.qa(doc, qst, self.word_encoder(ci, wmi)) for ci, wmi in zip(chs, w_mask)]\n",
        "        qa_output = torch.cat(qa_output, dim=-1)\n",
        "        return qa_output\n",
        "\n",
        "    def create_mask(self, batch_prev_tkids: torch.Tensor) -> torch.Tensor:\n",
        "        # Create padding self attention masks.\n",
        "        # Shape: [B, `max_doc_len`, `max_sent_len`, 1]\n",
        "        # Output dtype: `torch.bool`.\n",
        "        w_pad_mask = batch_prev_tkids == 0\n",
        "        w_pad_mask = w_pad_mask.unsqueeze(-1)\n",
        "\n",
        "        s_pad_mask = batch_prev_tkids.sum(dim=-1)\n",
        "        s_pad_mask = s_pad_mask == 0\n",
        "        s_pad_mask = s_pad_mask.unsqueeze(-1)\n",
        "\n",
        "        return w_pad_mask, s_pad_mask\n",
        "\n",
        "    def loss_fn(self, document, question, choice, qa):\n",
        "        question = torch.tensor(question).to(device).long()\n",
        "        choice = torch.tensor(choice).to(device).long()\n",
        "        pred_qa = self(document, question, choice)\n",
        "        pred_qa = pred_qa.reshape(-1)\n",
        "        qa = qa.reshape(-1)\n",
        "        return F.binary_cross_entropy(pred_qa, qa)\n"
      ],
      "execution_count": null,
      "outputs": []
    },
    {
      "cell_type": "markdown",
      "metadata": {
        "id": "1UcRLKNnTieQ"
      },
      "source": [
        "## Training Question Answer Model"
      ]
    },
    {
      "cell_type": "code",
      "metadata": {
        "colab": {
          "base_uri": "https://localhost:8080/"
        },
        "id": "ltrPn9GCToB6",
        "outputId": "039ae08f-d57c-4801-a587-ba1a950b1cba"
      },
      "source": [
        "import csv\n",
        "import os\n",
        "import pathlib\n",
        "import random\n",
        "import re\n",
        "\n",
        "import numpy as np\n",
        "from tqdm import tqdm\n",
        "import torch\n",
        "from torch.utils.data import DataLoader\n",
        "from sklearn.metrics import roc_auc_score\n",
        "def qa_train(model_cfg, dataset, device,  # model and datasets\n",
        "             p_drop, n_epoch, batch_size, learning_rate,  # training hyper parameter\n",
        "             save_step, model_path):  # saving model\n",
        "\n",
        "    model = qa_model(**model_cfg, p_drop=p_drop).train().to(device)\n",
        "\n",
        "    optimizer = torch.optim.Adam(model.parameters(), lr=learning_rate)\n",
        "\n",
        "    dataldr = DataLoader(dataset, batch_size=batch_size, shuffle=True)\n",
        "\n",
        "    def save_model(md, step):\n",
        "        torch.save(md.state_dict(), os.path.join(\n",
        "            model_path, f\"model-{step}.pt\"))\n",
        "\n",
        "    # Train loop\n",
        "    step = 0\n",
        "    for epoch in range(n_epoch):\n",
        "        tqdm_dldr = tqdm(dataldr)\n",
        "        \n",
        "        avg_loss = 0\n",
        "        for epoch_step, batch_data in enumerate(tqdm_dldr):\n",
        "            optimizer.zero_grad()\n",
        "            batch_data['article'] = batch_data['article'].numpy()\n",
        "            batch_data[\"qa_answer\"] = batch_data[\"qa_answer\"].float()\n",
        "            loss = model.loss_fn(\n",
        "                document=torch.LongTensor(batch_data['article']).to(device),\n",
        "                question=batch_data[\"question\"].to(device),\n",
        "                choice=batch_data[\"choice\"].to(device),\n",
        "                qa=batch_data[\"qa_answer\"].to(device))\n",
        "            loss.backward()\n",
        "            optimizer.step()\n",
        "\n",
        "            step += 1\n",
        "            avg_loss += loss\n",
        "            tqdm_dldr.set_description(\n",
        "                f\"epoch:{epoch}, loss:{avg_loss / (epoch_step+1):.04f}\")\n",
        "\n",
        "            if step % save_step == 0:\n",
        "                save_model(model, step)\n",
        "\n",
        "    save_model(model, step)\n",
        "\n",
        "\n",
        "random_seed = 42\n",
        "# Set random states for reproducibility\n",
        "random.seed(random_seed)\n",
        "np.random.seed(random_seed)\n",
        "torch.manual_seed(random_seed)\n",
        "if torch.cuda.is_available():\n",
        "    torch.cuda.manual_seed_all(random_seed)\n",
        "# Use cuda when possible\n",
        "device = torch.device('cuda' if torch.cuda.is_available() else 'cpu')\n",
        "\n",
        "# Save training configuration\n",
        "qa_model_path = os.path.join(\"exp\", \"qa\")\n",
        "pathlib.Path(qa_model_path).mkdir(parents=True, exist_ok=True)\n",
        "\n",
        "#dataset = dataset_qa(\n",
        "#    vocab_path=os.path.join(\"data\", \"vocab.json\"),\n",
        "#    qa_file=os.path.join(\"data\", \"SampleData_QA.json\"),\n",
        "#)\n",
        "\n",
        "model_cfg = {\n",
        "    \"embedding_path\": os.path.join(\"data\", \"embeddings.npy\"),\n",
        "    \"d_emb\": 300,\n",
        "    \"n_cls_layers\": 2,\n",
        "}\n",
        "\n",
        "qa_train(\n",
        "    model_cfg=model_cfg,\n",
        "    dataset=dataset,\n",
        "    model_path=qa_model_path,\n",
        "    device=device,\n",
        "    # Hyperparameters\n",
        "    batch_size=3,\n",
        "    learning_rate=1e-4,\n",
        "    n_epoch=45,\n",
        "    save_step=18,\n",
        "    p_drop=0.0,\n",
        ")\n",
        "\n"
      ],
      "execution_count": null,
      "outputs": [
        {
          "output_type": "stream",
          "text": [
            "\r  0%|          | 0/232 [00:00<?, ?it/s]/usr/local/lib/python3.7/dist-packages/ipykernel_launcher.py:103: UserWarning: To copy construct from a tensor, it is recommended to use sourceTensor.clone().detach() or sourceTensor.clone().detach().requires_grad_(True), rather than torch.tensor(sourceTensor).\n",
            "/usr/local/lib/python3.7/dist-packages/ipykernel_launcher.py:104: UserWarning: To copy construct from a tensor, it is recommended to use sourceTensor.clone().detach() or sourceTensor.clone().detach().requires_grad_(True), rather than torch.tensor(sourceTensor).\n",
            "epoch:0, loss:0.6366: 100%|██████████| 232/232 [00:07<00:00, 31.05it/s]\n",
            "epoch:1, loss:0.6291: 100%|██████████| 232/232 [00:07<00:00, 32.28it/s]\n",
            "epoch:2, loss:0.6210: 100%|██████████| 232/232 [00:07<00:00, 32.35it/s]\n",
            "epoch:3, loss:0.6107: 100%|██████████| 232/232 [00:07<00:00, 32.27it/s]\n",
            "epoch:4, loss:0.5974: 100%|██████████| 232/232 [00:07<00:00, 32.29it/s]\n",
            "epoch:5, loss:0.5841: 100%|██████████| 232/232 [00:07<00:00, 32.05it/s]\n",
            "epoch:6, loss:0.5663: 100%|██████████| 232/232 [00:07<00:00, 32.07it/s]\n",
            "epoch:7, loss:0.5590: 100%|██████████| 232/232 [00:07<00:00, 32.15it/s]\n",
            "epoch:8, loss:0.5356: 100%|██████████| 232/232 [00:07<00:00, 32.16it/s]\n",
            "epoch:9, loss:0.5142: 100%|██████████| 232/232 [00:07<00:00, 32.12it/s]\n",
            "epoch:10, loss:0.4906: 100%|██████████| 232/232 [00:07<00:00, 31.76it/s]\n",
            "epoch:11, loss:0.4603: 100%|██████████| 232/232 [00:07<00:00, 31.83it/s]\n",
            "epoch:12, loss:0.4452: 100%|██████████| 232/232 [00:07<00:00, 31.80it/s]\n",
            "epoch:13, loss:0.4137: 100%|██████████| 232/232 [00:07<00:00, 31.83it/s]\n",
            "epoch:14, loss:0.3908: 100%|██████████| 232/232 [00:07<00:00, 31.79it/s]\n",
            "epoch:15, loss:0.3698: 100%|██████████| 232/232 [00:07<00:00, 31.58it/s]\n",
            "epoch:16, loss:0.3429: 100%|██████████| 232/232 [00:07<00:00, 32.01it/s]\n",
            "epoch:17, loss:0.3176: 100%|██████████| 232/232 [00:07<00:00, 31.76it/s]\n",
            "epoch:18, loss:0.2853: 100%|██████████| 232/232 [00:07<00:00, 31.93it/s]\n",
            "epoch:19, loss:0.2705: 100%|██████████| 232/232 [00:07<00:00, 31.45it/s]\n",
            "epoch:20, loss:0.2098: 100%|██████████| 232/232 [00:07<00:00, 31.55it/s]\n",
            "epoch:21, loss:0.2225: 100%|██████████| 232/232 [00:07<00:00, 31.26it/s]\n",
            "epoch:22, loss:0.2101: 100%|██████████| 232/232 [00:07<00:00, 31.56it/s]\n",
            "epoch:23, loss:0.1705: 100%|██████████| 232/232 [00:07<00:00, 31.19it/s]\n",
            "epoch:24, loss:0.1464: 100%|██████████| 232/232 [00:07<00:00, 31.26it/s]\n",
            "epoch:25, loss:0.1433: 100%|██████████| 232/232 [00:07<00:00, 31.27it/s]\n",
            "epoch:26, loss:0.1399: 100%|██████████| 232/232 [00:07<00:00, 31.61it/s]\n",
            "epoch:27, loss:0.1247: 100%|██████████| 232/232 [00:07<00:00, 31.36it/s]\n",
            "epoch:28, loss:0.1038: 100%|██████████| 232/232 [00:07<00:00, 31.33it/s]\n",
            "epoch:29, loss:0.1055: 100%|██████████| 232/232 [00:07<00:00, 31.30it/s]\n",
            "epoch:30, loss:0.0973: 100%|██████████| 232/232 [00:07<00:00, 31.07it/s]\n",
            "epoch:31, loss:0.1022: 100%|██████████| 232/232 [00:07<00:00, 31.18it/s]\n",
            "epoch:32, loss:0.0914: 100%|██████████| 232/232 [00:07<00:00, 31.20it/s]\n",
            "epoch:33, loss:0.0733: 100%|██████████| 232/232 [00:07<00:00, 31.18it/s]\n",
            "epoch:34, loss:0.0739: 100%|██████████| 232/232 [00:07<00:00, 31.17it/s]\n",
            "epoch:35, loss:0.1025: 100%|██████████| 232/232 [00:07<00:00, 31.19it/s]\n",
            "epoch:36, loss:0.0926: 100%|██████████| 232/232 [00:07<00:00, 31.49it/s]\n",
            "epoch:37, loss:0.1152: 100%|██████████| 232/232 [00:07<00:00, 30.98it/s]\n",
            "epoch:38, loss:0.0619: 100%|██████████| 232/232 [00:07<00:00, 31.50it/s]\n",
            "epoch:39, loss:0.0612: 100%|██████████| 232/232 [00:07<00:00, 31.10it/s]\n",
            "epoch:40, loss:0.0532: 100%|██████████| 232/232 [00:07<00:00, 31.22it/s]\n",
            "epoch:41, loss:0.0369: 100%|██████████| 232/232 [00:07<00:00, 30.98it/s]\n",
            "epoch:42, loss:0.0804: 100%|██████████| 232/232 [00:07<00:00, 31.29it/s]\n",
            "epoch:43, loss:0.0708: 100%|██████████| 232/232 [00:07<00:00, 30.86it/s]\n",
            "epoch:44, loss:0.0472: 100%|██████████| 232/232 [00:07<00:00, 31.04it/s]\n"
          ],
          "name": "stderr"
        }
      ]
    },
    {
      "cell_type": "markdown",
      "metadata": {
        "id": "KtXqtaFtfJ5_"
      },
      "source": [
        "## Test on trained QA model"
      ]
    },
    {
      "cell_type": "code",
      "metadata": {
        "colab": {
          "base_uri": "https://localhost:8080/"
        },
        "id": "GwmxjtuXfACX",
        "scrolled": true,
        "outputId": "9e840ad5-f0a2-4581-fe0b-887894b011c9"
      },
      "source": [
        "from sklearn.metrics import accuracy_score\n",
        "import csv\n",
        "import os\n",
        "import pathlib\n",
        "import random\n",
        "import re\n",
        "import numpy as np\n",
        "from tqdm import tqdm\n",
        "import torch\n",
        "from torch.utils.data import DataLoader\n",
        "from sklearn.metrics import roc_auc_score\n",
        "def save_result(output_path: str, data: list, ckpt: int):\n",
        "    output = [[\"id\", \"label\"]] + \\\n",
        "        [[i+1, label] for i, label in enumerate(data)]\n",
        "    csv.writer(open(os.path.join(\n",
        "        output_path, f\"decision_{ckpt}.csv\"), 'w', newline='')).writerows(output)\n",
        "def qa_test(model_cfg, dataset, device, batch_size,\n",
        "            model_path, output_path):\n",
        "    dataldr = torch.utils.data.DataLoader(\n",
        "        dataset, batch_size=batch_size, shuffle=False)\n",
        "\n",
        "    # Load all checkpoints\n",
        "    ckpts = sorted([\n",
        "        (int(ckpt.group(1)), os.path.join(model_path, ckpt.group(0)))\n",
        "        for ckpt in map(lambda f:re.match(r'model-(\\d+).pt', f), os.listdir(model_path))\n",
        "        if ckpt is not None\n",
        "    ], key=lambda x: x[0])\n",
        "\n",
        "    sttep=0\n",
        "\n",
        "    for step, ckpt in ckpts:\n",
        "        model = qa_model(**model_cfg, p_drop=0.0)\n",
        "        model.load_state_dict(torch.load(ckpt))\n",
        "        model = model.eval().to(device)\n",
        "        sttep=sttep+1\n",
        "        print(sttep,end=' ')\n",
        "        answer = []\n",
        "        preds = []\n",
        "        for batch_data in tqdm(dataldr):\n",
        "            answer += batch_data[\"qa_answer\"].argmax(dim=-1).tolist()\n",
        "            batch_data['article'] = batch_data['article'].numpy()\n",
        "            batch_data[\"question\"] = torch.tensor(batch_data[\"question\"]).to(device).long()\n",
        "            batch_data[\"choice\"] = torch.tensor(batch_data[\"choice\"]).to(device).long()\n",
        "            pred_qa = model(\n",
        "                document=torch.LongTensor(batch_data['article']).to(device),\n",
        "                question=batch_data[\"question\"].to(device),\n",
        "                choice=batch_data[\"choice\"].to(device))\n",
        "            #print(pred_qa.argmax(dim=-1).tolist())\n",
        "            #preds += pred_qa.argmax(dim=-1).tolist()\n",
        "            preds.append(dic[int(pred_qa.argmax(dim=-1))])\n",
        "            #print(f\"\\nstep {step} accuracy: {accuracy_score(answer, preds):.04f}\", flush=True)\n",
        "        save_result(output_path, preds, step)\n",
        "\n",
        "dic = {0: 'A', 1: 'B', 2: 'C'}\n",
        "qa_output_path = os.path.join(\"output\", \"qa\")\n",
        "pathlib.Path(qa_output_path).mkdir(parents=True, exist_ok=True)\n",
        "\n",
        "print(\"\\nevaluate on training set...\", flush=True)\n",
        "\n",
        "qa_test(\n",
        "    model_cfg=model_cfg,\n",
        "    dataset=dataset,\n",
        "    model_path=qa_model_path,\n",
        "    device=device,\n",
        "    batch_size=1,\n",
        "    output_path=qa_output_path,\n",
        ")"
      ],
      "execution_count": null,
      "outputs": [
        {
          "output_type": "stream",
          "text": [
            "\n",
            "evaluate on training set...\n"
          ],
          "name": "stdout"
        },
        {
          "output_type": "stream",
          "text": [
            "  0%|          | 0/695 [00:00<?, ?it/s]/usr/local/lib/python3.7/dist-packages/ipykernel_launcher.py:41: UserWarning: To copy construct from a tensor, it is recommended to use sourceTensor.clone().detach() or sourceTensor.clone().detach().requires_grad_(True), rather than torch.tensor(sourceTensor).\n",
            "/usr/local/lib/python3.7/dist-packages/ipykernel_launcher.py:42: UserWarning: To copy construct from a tensor, it is recommended to use sourceTensor.clone().detach() or sourceTensor.clone().detach().requires_grad_(True), rather than torch.tensor(sourceTensor).\n",
            "  2%|▏         | 14/695 [00:00<00:05, 133.64it/s]"
          ],
          "name": "stderr"
        },
        {
          "output_type": "stream",
          "text": [
            "1 "
          ],
          "name": "stdout"
        },
        {
          "output_type": "stream",
          "text": [
            "100%|██████████| 695/695 [00:05<00:00, 136.52it/s]\n",
            "  2%|▏         | 14/695 [00:00<00:05, 134.56it/s]"
          ],
          "name": "stderr"
        },
        {
          "output_type": "stream",
          "text": [
            "2 "
          ],
          "name": "stdout"
        },
        {
          "output_type": "stream",
          "text": [
            "100%|██████████| 695/695 [00:05<00:00, 135.84it/s]\n",
            "  2%|▏         | 14/695 [00:00<00:04, 138.83it/s]"
          ],
          "name": "stderr"
        },
        {
          "output_type": "stream",
          "text": [
            "3 "
          ],
          "name": "stdout"
        },
        {
          "output_type": "stream",
          "text": [
            "100%|██████████| 695/695 [00:05<00:00, 135.76it/s]\n",
            "  2%|▏         | 14/695 [00:00<00:05, 135.08it/s]"
          ],
          "name": "stderr"
        },
        {
          "output_type": "stream",
          "text": [
            "4 "
          ],
          "name": "stdout"
        },
        {
          "output_type": "stream",
          "text": [
            "100%|██████████| 695/695 [00:05<00:00, 137.02it/s]\n",
            "  2%|▏         | 14/695 [00:00<00:04, 138.13it/s]"
          ],
          "name": "stderr"
        },
        {
          "output_type": "stream",
          "text": [
            "5 "
          ],
          "name": "stdout"
        },
        {
          "output_type": "stream",
          "text": [
            "100%|██████████| 695/695 [00:05<00:00, 135.77it/s]\n",
            "  2%|▏         | 14/695 [00:00<00:04, 139.69it/s]"
          ],
          "name": "stderr"
        },
        {
          "output_type": "stream",
          "text": [
            "6 "
          ],
          "name": "stdout"
        },
        {
          "output_type": "stream",
          "text": [
            "100%|██████████| 695/695 [00:05<00:00, 136.67it/s]\n",
            "  2%|▏         | 14/695 [00:00<00:05, 133.39it/s]"
          ],
          "name": "stderr"
        },
        {
          "output_type": "stream",
          "text": [
            "7 "
          ],
          "name": "stdout"
        },
        {
          "output_type": "stream",
          "text": [
            "100%|██████████| 695/695 [00:05<00:00, 137.28it/s]\n",
            "  2%|▏         | 15/695 [00:00<00:04, 141.97it/s]"
          ],
          "name": "stderr"
        },
        {
          "output_type": "stream",
          "text": [
            "8 "
          ],
          "name": "stdout"
        },
        {
          "output_type": "stream",
          "text": [
            "100%|██████████| 695/695 [00:05<00:00, 136.49it/s]\n",
            "  2%|▏         | 14/695 [00:00<00:05, 135.66it/s]"
          ],
          "name": "stderr"
        },
        {
          "output_type": "stream",
          "text": [
            "9 "
          ],
          "name": "stdout"
        },
        {
          "output_type": "stream",
          "text": [
            "100%|██████████| 695/695 [00:05<00:00, 135.75it/s]\n",
            "  2%|▏         | 15/695 [00:00<00:04, 140.29it/s]"
          ],
          "name": "stderr"
        },
        {
          "output_type": "stream",
          "text": [
            "10 "
          ],
          "name": "stdout"
        },
        {
          "output_type": "stream",
          "text": [
            "100%|██████████| 695/695 [00:05<00:00, 135.33it/s]\n",
            "  2%|▏         | 14/695 [00:00<00:04, 139.95it/s]"
          ],
          "name": "stderr"
        },
        {
          "output_type": "stream",
          "text": [
            "11 "
          ],
          "name": "stdout"
        },
        {
          "output_type": "stream",
          "text": [
            "100%|██████████| 695/695 [00:05<00:00, 134.99it/s]\n",
            "  2%|▏         | 14/695 [00:00<00:05, 135.31it/s]"
          ],
          "name": "stderr"
        },
        {
          "output_type": "stream",
          "text": [
            "12 "
          ],
          "name": "stdout"
        },
        {
          "output_type": "stream",
          "text": [
            "100%|██████████| 695/695 [00:05<00:00, 137.34it/s]\n",
            "  2%|▏         | 14/695 [00:00<00:05, 133.44it/s]"
          ],
          "name": "stderr"
        },
        {
          "output_type": "stream",
          "text": [
            "13 "
          ],
          "name": "stdout"
        },
        {
          "output_type": "stream",
          "text": [
            "100%|██████████| 695/695 [00:05<00:00, 136.06it/s]\n",
            "  2%|▏         | 13/695 [00:00<00:05, 128.93it/s]"
          ],
          "name": "stderr"
        },
        {
          "output_type": "stream",
          "text": [
            "14 "
          ],
          "name": "stdout"
        },
        {
          "output_type": "stream",
          "text": [
            "100%|██████████| 695/695 [00:05<00:00, 135.09it/s]\n",
            "  2%|▏         | 14/695 [00:00<00:05, 134.38it/s]"
          ],
          "name": "stderr"
        },
        {
          "output_type": "stream",
          "text": [
            "15 "
          ],
          "name": "stdout"
        },
        {
          "output_type": "stream",
          "text": [
            "100%|██████████| 695/695 [00:05<00:00, 133.83it/s]\n",
            "  2%|▏         | 14/695 [00:00<00:05, 135.25it/s]"
          ],
          "name": "stderr"
        },
        {
          "output_type": "stream",
          "text": [
            "16 "
          ],
          "name": "stdout"
        },
        {
          "output_type": "stream",
          "text": [
            "100%|██████████| 695/695 [00:05<00:00, 135.04it/s]\n",
            "  2%|▏         | 14/695 [00:00<00:05, 135.72it/s]"
          ],
          "name": "stderr"
        },
        {
          "output_type": "stream",
          "text": [
            "17 "
          ],
          "name": "stdout"
        },
        {
          "output_type": "stream",
          "text": [
            "100%|██████████| 695/695 [00:05<00:00, 137.19it/s]\n",
            "  2%|▏         | 14/695 [00:00<00:04, 137.28it/s]"
          ],
          "name": "stderr"
        },
        {
          "output_type": "stream",
          "text": [
            "18 "
          ],
          "name": "stdout"
        },
        {
          "output_type": "stream",
          "text": [
            "100%|██████████| 695/695 [00:05<00:00, 135.34it/s]\n",
            "  2%|▏         | 13/695 [00:00<00:05, 129.56it/s]"
          ],
          "name": "stderr"
        },
        {
          "output_type": "stream",
          "text": [
            "19 "
          ],
          "name": "stdout"
        },
        {
          "output_type": "stream",
          "text": [
            "100%|██████████| 695/695 [00:05<00:00, 136.39it/s]\n",
            "  2%|▏         | 15/695 [00:00<00:04, 141.38it/s]"
          ],
          "name": "stderr"
        },
        {
          "output_type": "stream",
          "text": [
            "20 "
          ],
          "name": "stdout"
        },
        {
          "output_type": "stream",
          "text": [
            "100%|██████████| 695/695 [00:05<00:00, 137.31it/s]\n",
            "  2%|▏         | 14/695 [00:00<00:04, 139.37it/s]"
          ],
          "name": "stderr"
        },
        {
          "output_type": "stream",
          "text": [
            "21 "
          ],
          "name": "stdout"
        },
        {
          "output_type": "stream",
          "text": [
            "100%|██████████| 695/695 [00:05<00:00, 134.92it/s]\n",
            "  2%|▏         | 14/695 [00:00<00:04, 136.88it/s]"
          ],
          "name": "stderr"
        },
        {
          "output_type": "stream",
          "text": [
            "22 "
          ],
          "name": "stdout"
        },
        {
          "output_type": "stream",
          "text": [
            "100%|██████████| 695/695 [00:05<00:00, 135.30it/s]\n",
            "  2%|▏         | 15/695 [00:00<00:04, 141.92it/s]"
          ],
          "name": "stderr"
        },
        {
          "output_type": "stream",
          "text": [
            "23 "
          ],
          "name": "stdout"
        },
        {
          "output_type": "stream",
          "text": [
            "100%|██████████| 695/695 [00:05<00:00, 134.62it/s]\n",
            "  2%|▏         | 13/695 [00:00<00:05, 126.54it/s]"
          ],
          "name": "stderr"
        },
        {
          "output_type": "stream",
          "text": [
            "24 "
          ],
          "name": "stdout"
        },
        {
          "output_type": "stream",
          "text": [
            "100%|██████████| 695/695 [00:05<00:00, 135.79it/s]\n",
            "  2%|▏         | 15/695 [00:00<00:04, 141.47it/s]"
          ],
          "name": "stderr"
        },
        {
          "output_type": "stream",
          "text": [
            "25 "
          ],
          "name": "stdout"
        },
        {
          "output_type": "stream",
          "text": [
            "100%|██████████| 695/695 [00:05<00:00, 136.54it/s]\n",
            "  2%|▏         | 14/695 [00:00<00:04, 139.82it/s]"
          ],
          "name": "stderr"
        },
        {
          "output_type": "stream",
          "text": [
            "26 "
          ],
          "name": "stdout"
        },
        {
          "output_type": "stream",
          "text": [
            "100%|██████████| 695/695 [00:05<00:00, 135.79it/s]\n",
            "  2%|▏         | 14/695 [00:00<00:04, 137.79it/s]"
          ],
          "name": "stderr"
        },
        {
          "output_type": "stream",
          "text": [
            "27 "
          ],
          "name": "stdout"
        },
        {
          "output_type": "stream",
          "text": [
            "100%|██████████| 695/695 [00:05<00:00, 134.74it/s]\n",
            "  2%|▏         | 14/695 [00:00<00:05, 135.30it/s]"
          ],
          "name": "stderr"
        },
        {
          "output_type": "stream",
          "text": [
            "28 "
          ],
          "name": "stdout"
        },
        {
          "output_type": "stream",
          "text": [
            "100%|██████████| 695/695 [00:05<00:00, 134.59it/s]\n",
            "  2%|▏         | 15/695 [00:00<00:04, 140.30it/s]"
          ],
          "name": "stderr"
        },
        {
          "output_type": "stream",
          "text": [
            "29 "
          ],
          "name": "stdout"
        },
        {
          "output_type": "stream",
          "text": [
            "100%|██████████| 695/695 [00:05<00:00, 133.98it/s]\n",
            "  2%|▏         | 14/695 [00:00<00:04, 139.39it/s]"
          ],
          "name": "stderr"
        },
        {
          "output_type": "stream",
          "text": [
            "30 "
          ],
          "name": "stdout"
        },
        {
          "output_type": "stream",
          "text": [
            "100%|██████████| 695/695 [00:05<00:00, 134.35it/s]\n",
            "  2%|▏         | 14/695 [00:00<00:05, 132.33it/s]"
          ],
          "name": "stderr"
        },
        {
          "output_type": "stream",
          "text": [
            "31 "
          ],
          "name": "stdout"
        },
        {
          "output_type": "stream",
          "text": [
            "100%|██████████| 695/695 [00:05<00:00, 132.88it/s]\n",
            "  2%|▏         | 13/695 [00:00<00:05, 123.59it/s]"
          ],
          "name": "stderr"
        },
        {
          "output_type": "stream",
          "text": [
            "32 "
          ],
          "name": "stdout"
        },
        {
          "output_type": "stream",
          "text": [
            "100%|██████████| 695/695 [00:05<00:00, 135.01it/s]\n",
            "  2%|▏         | 14/695 [00:00<00:05, 136.05it/s]"
          ],
          "name": "stderr"
        },
        {
          "output_type": "stream",
          "text": [
            "33 "
          ],
          "name": "stdout"
        },
        {
          "output_type": "stream",
          "text": [
            "100%|██████████| 695/695 [00:05<00:00, 135.87it/s]\n",
            "  2%|▏         | 14/695 [00:00<00:04, 137.36it/s]"
          ],
          "name": "stderr"
        },
        {
          "output_type": "stream",
          "text": [
            "34 "
          ],
          "name": "stdout"
        },
        {
          "output_type": "stream",
          "text": [
            "100%|██████████| 695/695 [00:05<00:00, 132.80it/s]\n",
            "  2%|▏         | 14/695 [00:00<00:04, 138.80it/s]"
          ],
          "name": "stderr"
        },
        {
          "output_type": "stream",
          "text": [
            "35 "
          ],
          "name": "stdout"
        },
        {
          "output_type": "stream",
          "text": [
            "100%|██████████| 695/695 [00:05<00:00, 133.96it/s]\n",
            "  2%|▏         | 14/695 [00:00<00:05, 134.04it/s]"
          ],
          "name": "stderr"
        },
        {
          "output_type": "stream",
          "text": [
            "36 "
          ],
          "name": "stdout"
        },
        {
          "output_type": "stream",
          "text": [
            "100%|██████████| 695/695 [00:05<00:00, 136.27it/s]\n",
            "  2%|▏         | 14/695 [00:00<00:04, 139.84it/s]"
          ],
          "name": "stderr"
        },
        {
          "output_type": "stream",
          "text": [
            "37 "
          ],
          "name": "stdout"
        },
        {
          "output_type": "stream",
          "text": [
            "100%|██████████| 695/695 [00:05<00:00, 134.98it/s]\n",
            "  2%|▏         | 13/695 [00:00<00:05, 129.61it/s]"
          ],
          "name": "stderr"
        },
        {
          "output_type": "stream",
          "text": [
            "38 "
          ],
          "name": "stdout"
        },
        {
          "output_type": "stream",
          "text": [
            "100%|██████████| 695/695 [00:05<00:00, 134.42it/s]\n",
            "  2%|▏         | 14/695 [00:00<00:04, 137.10it/s]"
          ],
          "name": "stderr"
        },
        {
          "output_type": "stream",
          "text": [
            "39 "
          ],
          "name": "stdout"
        },
        {
          "output_type": "stream",
          "text": [
            "100%|██████████| 695/695 [00:05<00:00, 134.06it/s]\n",
            "  2%|▏         | 14/695 [00:00<00:05, 131.76it/s]"
          ],
          "name": "stderr"
        },
        {
          "output_type": "stream",
          "text": [
            "40 "
          ],
          "name": "stdout"
        },
        {
          "output_type": "stream",
          "text": [
            "100%|██████████| 695/695 [00:05<00:00, 132.77it/s]\n",
            "  2%|▏         | 14/695 [00:00<00:05, 133.81it/s]"
          ],
          "name": "stderr"
        },
        {
          "output_type": "stream",
          "text": [
            "41 "
          ],
          "name": "stdout"
        },
        {
          "output_type": "stream",
          "text": [
            "100%|██████████| 695/695 [00:05<00:00, 135.22it/s]\n",
            "  2%|▏         | 14/695 [00:00<00:04, 139.09it/s]"
          ],
          "name": "stderr"
        },
        {
          "output_type": "stream",
          "text": [
            "42 "
          ],
          "name": "stdout"
        },
        {
          "output_type": "stream",
          "text": [
            "100%|██████████| 695/695 [00:05<00:00, 134.98it/s]\n",
            "  2%|▏         | 15/695 [00:00<00:04, 139.91it/s]"
          ],
          "name": "stderr"
        },
        {
          "output_type": "stream",
          "text": [
            "43 "
          ],
          "name": "stdout"
        },
        {
          "output_type": "stream",
          "text": [
            "100%|██████████| 695/695 [00:05<00:00, 134.13it/s]\n",
            "  2%|▏         | 14/695 [00:00<00:05, 133.49it/s]"
          ],
          "name": "stderr"
        },
        {
          "output_type": "stream",
          "text": [
            "44 "
          ],
          "name": "stdout"
        },
        {
          "output_type": "stream",
          "text": [
            "100%|██████████| 695/695 [00:05<00:00, 134.61it/s]\n",
            "  2%|▏         | 14/695 [00:00<00:05, 132.31it/s]"
          ],
          "name": "stderr"
        },
        {
          "output_type": "stream",
          "text": [
            "45 "
          ],
          "name": "stdout"
        },
        {
          "output_type": "stream",
          "text": [
            "100%|██████████| 695/695 [00:05<00:00, 133.91it/s]\n",
            "  2%|▏         | 14/695 [00:00<00:05, 129.89it/s]"
          ],
          "name": "stderr"
        },
        {
          "output_type": "stream",
          "text": [
            "46 "
          ],
          "name": "stdout"
        },
        {
          "output_type": "stream",
          "text": [
            "100%|██████████| 695/695 [00:05<00:00, 133.14it/s]\n",
            "  2%|▏         | 13/695 [00:00<00:05, 129.72it/s]"
          ],
          "name": "stderr"
        },
        {
          "output_type": "stream",
          "text": [
            "47 "
          ],
          "name": "stdout"
        },
        {
          "output_type": "stream",
          "text": [
            "100%|██████████| 695/695 [00:05<00:00, 133.61it/s]\n",
            "  2%|▏         | 14/695 [00:00<00:04, 137.74it/s]"
          ],
          "name": "stderr"
        },
        {
          "output_type": "stream",
          "text": [
            "48 "
          ],
          "name": "stdout"
        },
        {
          "output_type": "stream",
          "text": [
            "100%|██████████| 695/695 [00:05<00:00, 134.47it/s]\n",
            "  2%|▏         | 14/695 [00:00<00:05, 133.43it/s]"
          ],
          "name": "stderr"
        },
        {
          "output_type": "stream",
          "text": [
            "49 "
          ],
          "name": "stdout"
        },
        {
          "output_type": "stream",
          "text": [
            "100%|██████████| 695/695 [00:05<00:00, 134.58it/s]\n",
            "  2%|▏         | 13/695 [00:00<00:05, 129.60it/s]"
          ],
          "name": "stderr"
        },
        {
          "output_type": "stream",
          "text": [
            "50 "
          ],
          "name": "stdout"
        },
        {
          "output_type": "stream",
          "text": [
            "100%|██████████| 695/695 [00:05<00:00, 134.68it/s]\n",
            "  2%|▏         | 14/695 [00:00<00:05, 135.62it/s]"
          ],
          "name": "stderr"
        },
        {
          "output_type": "stream",
          "text": [
            "51 "
          ],
          "name": "stdout"
        },
        {
          "output_type": "stream",
          "text": [
            "100%|██████████| 695/695 [00:05<00:00, 134.58it/s]\n",
            "  2%|▏         | 14/695 [00:00<00:04, 139.50it/s]"
          ],
          "name": "stderr"
        },
        {
          "output_type": "stream",
          "text": [
            "52 "
          ],
          "name": "stdout"
        },
        {
          "output_type": "stream",
          "text": [
            "100%|██████████| 695/695 [00:05<00:00, 135.41it/s]\n",
            "  2%|▏         | 14/695 [00:00<00:05, 131.72it/s]"
          ],
          "name": "stderr"
        },
        {
          "output_type": "stream",
          "text": [
            "53 "
          ],
          "name": "stdout"
        },
        {
          "output_type": "stream",
          "text": [
            "100%|██████████| 695/695 [00:05<00:00, 134.19it/s]\n",
            "  2%|▏         | 14/695 [00:00<00:05, 133.28it/s]"
          ],
          "name": "stderr"
        },
        {
          "output_type": "stream",
          "text": [
            "54 "
          ],
          "name": "stdout"
        },
        {
          "output_type": "stream",
          "text": [
            "100%|██████████| 695/695 [00:05<00:00, 133.93it/s]\n",
            "  2%|▏         | 14/695 [00:00<00:04, 137.55it/s]"
          ],
          "name": "stderr"
        },
        {
          "output_type": "stream",
          "text": [
            "55 "
          ],
          "name": "stdout"
        },
        {
          "output_type": "stream",
          "text": [
            "100%|██████████| 695/695 [00:05<00:00, 134.59it/s]\n",
            "  2%|▏         | 14/695 [00:00<00:05, 132.51it/s]"
          ],
          "name": "stderr"
        },
        {
          "output_type": "stream",
          "text": [
            "56 "
          ],
          "name": "stdout"
        },
        {
          "output_type": "stream",
          "text": [
            "100%|██████████| 695/695 [00:05<00:00, 132.74it/s]\n",
            "  2%|▏         | 14/695 [00:00<00:05, 132.80it/s]"
          ],
          "name": "stderr"
        },
        {
          "output_type": "stream",
          "text": [
            "57 "
          ],
          "name": "stdout"
        },
        {
          "output_type": "stream",
          "text": [
            "100%|██████████| 695/695 [00:05<00:00, 132.84it/s]\n",
            "  2%|▏         | 14/695 [00:00<00:04, 136.34it/s]"
          ],
          "name": "stderr"
        },
        {
          "output_type": "stream",
          "text": [
            "58 "
          ],
          "name": "stdout"
        },
        {
          "output_type": "stream",
          "text": [
            "100%|██████████| 695/695 [00:05<00:00, 133.10it/s]\n",
            "  2%|▏         | 13/695 [00:00<00:05, 129.58it/s]"
          ],
          "name": "stderr"
        },
        {
          "output_type": "stream",
          "text": [
            "59 "
          ],
          "name": "stdout"
        },
        {
          "output_type": "stream",
          "text": [
            "100%|██████████| 695/695 [00:05<00:00, 133.29it/s]\n",
            "  2%|▏         | 14/695 [00:00<00:05, 131.07it/s]"
          ],
          "name": "stderr"
        },
        {
          "output_type": "stream",
          "text": [
            "60 "
          ],
          "name": "stdout"
        },
        {
          "output_type": "stream",
          "text": [
            "100%|██████████| 695/695 [00:05<00:00, 131.34it/s]\n",
            "  2%|▏         | 14/695 [00:00<00:05, 134.67it/s]"
          ],
          "name": "stderr"
        },
        {
          "output_type": "stream",
          "text": [
            "61 "
          ],
          "name": "stdout"
        },
        {
          "output_type": "stream",
          "text": [
            "100%|██████████| 695/695 [00:05<00:00, 131.55it/s]\n",
            "  2%|▏         | 14/695 [00:00<00:05, 135.83it/s]"
          ],
          "name": "stderr"
        },
        {
          "output_type": "stream",
          "text": [
            "62 "
          ],
          "name": "stdout"
        },
        {
          "output_type": "stream",
          "text": [
            "100%|██████████| 695/695 [00:05<00:00, 132.31it/s]\n",
            "  2%|▏         | 14/695 [00:00<00:05, 133.37it/s]"
          ],
          "name": "stderr"
        },
        {
          "output_type": "stream",
          "text": [
            "63 "
          ],
          "name": "stdout"
        },
        {
          "output_type": "stream",
          "text": [
            "100%|██████████| 695/695 [00:05<00:00, 133.49it/s]\n",
            "  2%|▏         | 14/695 [00:00<00:05, 128.94it/s]"
          ],
          "name": "stderr"
        },
        {
          "output_type": "stream",
          "text": [
            "64 "
          ],
          "name": "stdout"
        },
        {
          "output_type": "stream",
          "text": [
            "100%|██████████| 695/695 [00:05<00:00, 133.47it/s]\n",
            "  2%|▏         | 14/695 [00:00<00:04, 137.71it/s]"
          ],
          "name": "stderr"
        },
        {
          "output_type": "stream",
          "text": [
            "65 "
          ],
          "name": "stdout"
        },
        {
          "output_type": "stream",
          "text": [
            "100%|██████████| 695/695 [00:05<00:00, 133.58it/s]\n",
            "  2%|▏         | 13/695 [00:00<00:05, 126.92it/s]"
          ],
          "name": "stderr"
        },
        {
          "output_type": "stream",
          "text": [
            "66 "
          ],
          "name": "stdout"
        },
        {
          "output_type": "stream",
          "text": [
            "100%|██████████| 695/695 [00:05<00:00, 133.14it/s]\n",
            "  2%|▏         | 15/695 [00:00<00:04, 142.68it/s]"
          ],
          "name": "stderr"
        },
        {
          "output_type": "stream",
          "text": [
            "67 "
          ],
          "name": "stdout"
        },
        {
          "output_type": "stream",
          "text": [
            "100%|██████████| 695/695 [00:05<00:00, 130.83it/s]\n",
            "  2%|▏         | 13/695 [00:00<00:05, 129.98it/s]"
          ],
          "name": "stderr"
        },
        {
          "output_type": "stream",
          "text": [
            "68 "
          ],
          "name": "stdout"
        },
        {
          "output_type": "stream",
          "text": [
            "100%|██████████| 695/695 [00:05<00:00, 131.64it/s]\n",
            "  2%|▏         | 14/695 [00:00<00:05, 133.64it/s]"
          ],
          "name": "stderr"
        },
        {
          "output_type": "stream",
          "text": [
            "69 "
          ],
          "name": "stdout"
        },
        {
          "output_type": "stream",
          "text": [
            "100%|██████████| 695/695 [00:05<00:00, 133.63it/s]\n",
            "  2%|▏         | 14/695 [00:00<00:05, 134.89it/s]"
          ],
          "name": "stderr"
        },
        {
          "output_type": "stream",
          "text": [
            "70 "
          ],
          "name": "stdout"
        },
        {
          "output_type": "stream",
          "text": [
            "100%|██████████| 695/695 [00:05<00:00, 135.47it/s]\n",
            "  2%|▏         | 14/695 [00:00<00:04, 137.51it/s]"
          ],
          "name": "stderr"
        },
        {
          "output_type": "stream",
          "text": [
            "71 "
          ],
          "name": "stdout"
        },
        {
          "output_type": "stream",
          "text": [
            "100%|██████████| 695/695 [00:05<00:00, 136.38it/s]\n",
            "  2%|▏         | 14/695 [00:00<00:04, 139.62it/s]"
          ],
          "name": "stderr"
        },
        {
          "output_type": "stream",
          "text": [
            "72 "
          ],
          "name": "stdout"
        },
        {
          "output_type": "stream",
          "text": [
            "100%|██████████| 695/695 [00:05<00:00, 134.30it/s]\n",
            "  2%|▏         | 14/695 [00:00<00:05, 132.86it/s]"
          ],
          "name": "stderr"
        },
        {
          "output_type": "stream",
          "text": [
            "73 "
          ],
          "name": "stdout"
        },
        {
          "output_type": "stream",
          "text": [
            "100%|██████████| 695/695 [00:05<00:00, 133.97it/s]\n",
            "  2%|▏         | 13/695 [00:00<00:05, 128.10it/s]"
          ],
          "name": "stderr"
        },
        {
          "output_type": "stream",
          "text": [
            "74 "
          ],
          "name": "stdout"
        },
        {
          "output_type": "stream",
          "text": [
            "100%|██████████| 695/695 [00:05<00:00, 134.45it/s]\n",
            "  2%|▏         | 15/695 [00:00<00:04, 138.95it/s]"
          ],
          "name": "stderr"
        },
        {
          "output_type": "stream",
          "text": [
            "75 "
          ],
          "name": "stdout"
        },
        {
          "output_type": "stream",
          "text": [
            "100%|██████████| 695/695 [00:05<00:00, 135.26it/s]\n",
            "  2%|▏         | 14/695 [00:00<00:04, 136.30it/s]"
          ],
          "name": "stderr"
        },
        {
          "output_type": "stream",
          "text": [
            "76 "
          ],
          "name": "stdout"
        },
        {
          "output_type": "stream",
          "text": [
            "100%|██████████| 695/695 [00:05<00:00, 133.44it/s]\n",
            "  2%|▏         | 13/695 [00:00<00:05, 128.20it/s]"
          ],
          "name": "stderr"
        },
        {
          "output_type": "stream",
          "text": [
            "77 "
          ],
          "name": "stdout"
        },
        {
          "output_type": "stream",
          "text": [
            "100%|██████████| 695/695 [00:05<00:00, 133.88it/s]\n",
            "  2%|▏         | 14/695 [00:00<00:05, 136.10it/s]"
          ],
          "name": "stderr"
        },
        {
          "output_type": "stream",
          "text": [
            "78 "
          ],
          "name": "stdout"
        },
        {
          "output_type": "stream",
          "text": [
            "100%|██████████| 695/695 [00:05<00:00, 133.35it/s]\n",
            "  2%|▏         | 14/695 [00:00<00:05, 131.64it/s]"
          ],
          "name": "stderr"
        },
        {
          "output_type": "stream",
          "text": [
            "79 "
          ],
          "name": "stdout"
        },
        {
          "output_type": "stream",
          "text": [
            "100%|██████████| 695/695 [00:05<00:00, 132.89it/s]\n",
            "  2%|▏         | 14/695 [00:00<00:05, 135.00it/s]"
          ],
          "name": "stderr"
        },
        {
          "output_type": "stream",
          "text": [
            "80 "
          ],
          "name": "stdout"
        },
        {
          "output_type": "stream",
          "text": [
            "100%|██████████| 695/695 [00:05<00:00, 134.19it/s]\n",
            "  2%|▏         | 14/695 [00:00<00:05, 132.19it/s]"
          ],
          "name": "stderr"
        },
        {
          "output_type": "stream",
          "text": [
            "81 "
          ],
          "name": "stdout"
        },
        {
          "output_type": "stream",
          "text": [
            "100%|██████████| 695/695 [00:05<00:00, 133.97it/s]\n",
            "  2%|▏         | 14/695 [00:00<00:05, 129.70it/s]"
          ],
          "name": "stderr"
        },
        {
          "output_type": "stream",
          "text": [
            "82 "
          ],
          "name": "stdout"
        },
        {
          "output_type": "stream",
          "text": [
            "100%|██████████| 695/695 [00:05<00:00, 133.06it/s]\n",
            "  2%|▏         | 14/695 [00:00<00:05, 136.12it/s]"
          ],
          "name": "stderr"
        },
        {
          "output_type": "stream",
          "text": [
            "83 "
          ],
          "name": "stdout"
        },
        {
          "output_type": "stream",
          "text": [
            "100%|██████████| 695/695 [00:05<00:00, 133.07it/s]\n",
            "  2%|▏         | 14/695 [00:00<00:04, 138.97it/s]"
          ],
          "name": "stderr"
        },
        {
          "output_type": "stream",
          "text": [
            "84 "
          ],
          "name": "stdout"
        },
        {
          "output_type": "stream",
          "text": [
            "100%|██████████| 695/695 [00:05<00:00, 133.80it/s]\n",
            "  2%|▏         | 14/695 [00:00<00:05, 135.37it/s]"
          ],
          "name": "stderr"
        },
        {
          "output_type": "stream",
          "text": [
            "85 "
          ],
          "name": "stdout"
        },
        {
          "output_type": "stream",
          "text": [
            "100%|██████████| 695/695 [00:05<00:00, 134.18it/s]\n",
            "  2%|▏         | 13/695 [00:00<00:05, 127.54it/s]"
          ],
          "name": "stderr"
        },
        {
          "output_type": "stream",
          "text": [
            "86 "
          ],
          "name": "stdout"
        },
        {
          "output_type": "stream",
          "text": [
            "100%|██████████| 695/695 [00:05<00:00, 134.67it/s]\n",
            "  2%|▏         | 14/695 [00:00<00:05, 135.93it/s]"
          ],
          "name": "stderr"
        },
        {
          "output_type": "stream",
          "text": [
            "87 "
          ],
          "name": "stdout"
        },
        {
          "output_type": "stream",
          "text": [
            "100%|██████████| 695/695 [00:05<00:00, 135.81it/s]\n",
            "  2%|▏         | 14/695 [00:00<00:05, 131.30it/s]"
          ],
          "name": "stderr"
        },
        {
          "output_type": "stream",
          "text": [
            "88 "
          ],
          "name": "stdout"
        },
        {
          "output_type": "stream",
          "text": [
            "100%|██████████| 695/695 [00:05<00:00, 135.44it/s]\n",
            "  2%|▏         | 14/695 [00:00<00:04, 138.44it/s]"
          ],
          "name": "stderr"
        },
        {
          "output_type": "stream",
          "text": [
            "89 "
          ],
          "name": "stdout"
        },
        {
          "output_type": "stream",
          "text": [
            "100%|██████████| 695/695 [00:05<00:00, 134.20it/s]\n",
            "  2%|▏         | 14/695 [00:00<00:04, 139.59it/s]"
          ],
          "name": "stderr"
        },
        {
          "output_type": "stream",
          "text": [
            "90 "
          ],
          "name": "stdout"
        },
        {
          "output_type": "stream",
          "text": [
            "100%|██████████| 695/695 [00:05<00:00, 133.09it/s]\n",
            "  2%|▏         | 14/695 [00:00<00:05, 130.13it/s]"
          ],
          "name": "stderr"
        },
        {
          "output_type": "stream",
          "text": [
            "91 "
          ],
          "name": "stdout"
        },
        {
          "output_type": "stream",
          "text": [
            "100%|██████████| 695/695 [00:05<00:00, 133.81it/s]\n",
            "  2%|▏         | 13/695 [00:00<00:05, 129.50it/s]"
          ],
          "name": "stderr"
        },
        {
          "output_type": "stream",
          "text": [
            "92 "
          ],
          "name": "stdout"
        },
        {
          "output_type": "stream",
          "text": [
            "100%|██████████| 695/695 [00:05<00:00, 133.05it/s]\n",
            "  2%|▏         | 14/695 [00:00<00:05, 132.46it/s]"
          ],
          "name": "stderr"
        },
        {
          "output_type": "stream",
          "text": [
            "93 "
          ],
          "name": "stdout"
        },
        {
          "output_type": "stream",
          "text": [
            "100%|██████████| 695/695 [00:05<00:00, 133.90it/s]\n",
            "  2%|▏         | 14/695 [00:00<00:05, 135.81it/s]"
          ],
          "name": "stderr"
        },
        {
          "output_type": "stream",
          "text": [
            "94 "
          ],
          "name": "stdout"
        },
        {
          "output_type": "stream",
          "text": [
            "100%|██████████| 695/695 [00:05<00:00, 134.65it/s]\n",
            "  2%|▏         | 14/695 [00:00<00:04, 139.70it/s]"
          ],
          "name": "stderr"
        },
        {
          "output_type": "stream",
          "text": [
            "95 "
          ],
          "name": "stdout"
        },
        {
          "output_type": "stream",
          "text": [
            "100%|██████████| 695/695 [00:05<00:00, 135.55it/s]\n",
            "  2%|▏         | 14/695 [00:00<00:05, 134.43it/s]"
          ],
          "name": "stderr"
        },
        {
          "output_type": "stream",
          "text": [
            "96 "
          ],
          "name": "stdout"
        },
        {
          "output_type": "stream",
          "text": [
            "100%|██████████| 695/695 [00:05<00:00, 136.38it/s]\n",
            "  2%|▏         | 14/695 [00:00<00:05, 135.40it/s]"
          ],
          "name": "stderr"
        },
        {
          "output_type": "stream",
          "text": [
            "97 "
          ],
          "name": "stdout"
        },
        {
          "output_type": "stream",
          "text": [
            "100%|██████████| 695/695 [00:05<00:00, 136.56it/s]\n",
            "  2%|▏         | 14/695 [00:00<00:04, 138.49it/s]"
          ],
          "name": "stderr"
        },
        {
          "output_type": "stream",
          "text": [
            "98 "
          ],
          "name": "stdout"
        },
        {
          "output_type": "stream",
          "text": [
            "100%|██████████| 695/695 [00:05<00:00, 133.70it/s]\n",
            "  2%|▏         | 13/695 [00:00<00:05, 128.29it/s]"
          ],
          "name": "stderr"
        },
        {
          "output_type": "stream",
          "text": [
            "99 "
          ],
          "name": "stdout"
        },
        {
          "output_type": "stream",
          "text": [
            "100%|██████████| 695/695 [00:05<00:00, 134.21it/s]\n",
            "  2%|▏         | 14/695 [00:00<00:04, 136.25it/s]"
          ],
          "name": "stderr"
        },
        {
          "output_type": "stream",
          "text": [
            "100 "
          ],
          "name": "stdout"
        },
        {
          "output_type": "stream",
          "text": [
            "100%|██████████| 695/695 [00:05<00:00, 134.42it/s]\n",
            "  2%|▏         | 14/695 [00:00<00:04, 136.31it/s]"
          ],
          "name": "stderr"
        },
        {
          "output_type": "stream",
          "text": [
            "101 "
          ],
          "name": "stdout"
        },
        {
          "output_type": "stream",
          "text": [
            "100%|██████████| 695/695 [00:05<00:00, 134.59it/s]\n",
            "  2%|▏         | 14/695 [00:00<00:05, 135.02it/s]"
          ],
          "name": "stderr"
        },
        {
          "output_type": "stream",
          "text": [
            "102 "
          ],
          "name": "stdout"
        },
        {
          "output_type": "stream",
          "text": [
            "100%|██████████| 695/695 [00:05<00:00, 134.59it/s]\n",
            "  2%|▏         | 13/695 [00:00<00:05, 129.85it/s]"
          ],
          "name": "stderr"
        },
        {
          "output_type": "stream",
          "text": [
            "103 "
          ],
          "name": "stdout"
        },
        {
          "output_type": "stream",
          "text": [
            "100%|██████████| 695/695 [00:05<00:00, 134.26it/s]\n",
            "  2%|▏         | 13/695 [00:00<00:05, 129.93it/s]"
          ],
          "name": "stderr"
        },
        {
          "output_type": "stream",
          "text": [
            "104 "
          ],
          "name": "stdout"
        },
        {
          "output_type": "stream",
          "text": [
            "100%|██████████| 695/695 [00:05<00:00, 133.34it/s]\n",
            "  2%|▏         | 14/695 [00:00<00:05, 131.09it/s]"
          ],
          "name": "stderr"
        },
        {
          "output_type": "stream",
          "text": [
            "105 "
          ],
          "name": "stdout"
        },
        {
          "output_type": "stream",
          "text": [
            "100%|██████████| 695/695 [00:05<00:00, 134.53it/s]\n",
            "  2%|▏         | 14/695 [00:00<00:05, 132.06it/s]"
          ],
          "name": "stderr"
        },
        {
          "output_type": "stream",
          "text": [
            "106 "
          ],
          "name": "stdout"
        },
        {
          "output_type": "stream",
          "text": [
            "100%|██████████| 695/695 [00:05<00:00, 138.81it/s]\n",
            "  2%|▏         | 15/695 [00:00<00:04, 140.77it/s]"
          ],
          "name": "stderr"
        },
        {
          "output_type": "stream",
          "text": [
            "107 "
          ],
          "name": "stdout"
        },
        {
          "output_type": "stream",
          "text": [
            "100%|██████████| 695/695 [00:05<00:00, 138.42it/s]\n",
            "  2%|▏         | 15/695 [00:00<00:04, 141.42it/s]"
          ],
          "name": "stderr"
        },
        {
          "output_type": "stream",
          "text": [
            "108 "
          ],
          "name": "stdout"
        },
        {
          "output_type": "stream",
          "text": [
            "100%|██████████| 695/695 [00:05<00:00, 137.59it/s]\n",
            "  2%|▏         | 14/695 [00:00<00:04, 136.67it/s]"
          ],
          "name": "stderr"
        },
        {
          "output_type": "stream",
          "text": [
            "109 "
          ],
          "name": "stdout"
        },
        {
          "output_type": "stream",
          "text": [
            "100%|██████████| 695/695 [00:05<00:00, 137.68it/s]\n",
            "  2%|▏         | 14/695 [00:00<00:05, 134.18it/s]"
          ],
          "name": "stderr"
        },
        {
          "output_type": "stream",
          "text": [
            "110 "
          ],
          "name": "stdout"
        },
        {
          "output_type": "stream",
          "text": [
            "100%|██████████| 695/695 [00:05<00:00, 137.31it/s]\n",
            "  2%|▏         | 14/695 [00:00<00:04, 138.76it/s]"
          ],
          "name": "stderr"
        },
        {
          "output_type": "stream",
          "text": [
            "111 "
          ],
          "name": "stdout"
        },
        {
          "output_type": "stream",
          "text": [
            "100%|██████████| 695/695 [00:05<00:00, 137.42it/s]\n",
            "  2%|▏         | 15/695 [00:00<00:04, 143.14it/s]"
          ],
          "name": "stderr"
        },
        {
          "output_type": "stream",
          "text": [
            "112 "
          ],
          "name": "stdout"
        },
        {
          "output_type": "stream",
          "text": [
            "100%|██████████| 695/695 [00:04<00:00, 139.78it/s]\n",
            "  2%|▏         | 14/695 [00:00<00:05, 132.84it/s]"
          ],
          "name": "stderr"
        },
        {
          "output_type": "stream",
          "text": [
            "113 "
          ],
          "name": "stdout"
        },
        {
          "output_type": "stream",
          "text": [
            "100%|██████████| 695/695 [00:04<00:00, 139.08it/s]\n",
            "  2%|▏         | 15/695 [00:00<00:04, 142.34it/s]"
          ],
          "name": "stderr"
        },
        {
          "output_type": "stream",
          "text": [
            "114 "
          ],
          "name": "stdout"
        },
        {
          "output_type": "stream",
          "text": [
            "100%|██████████| 695/695 [00:05<00:00, 138.50it/s]\n",
            "  2%|▏         | 15/695 [00:00<00:04, 142.92it/s]"
          ],
          "name": "stderr"
        },
        {
          "output_type": "stream",
          "text": [
            "115 "
          ],
          "name": "stdout"
        },
        {
          "output_type": "stream",
          "text": [
            "100%|██████████| 695/695 [00:05<00:00, 137.87it/s]\n",
            "  2%|▏         | 15/695 [00:00<00:04, 141.31it/s]"
          ],
          "name": "stderr"
        },
        {
          "output_type": "stream",
          "text": [
            "116 "
          ],
          "name": "stdout"
        },
        {
          "output_type": "stream",
          "text": [
            "100%|██████████| 695/695 [00:05<00:00, 138.34it/s]\n",
            "  2%|▏         | 13/695 [00:00<00:05, 126.91it/s]"
          ],
          "name": "stderr"
        },
        {
          "output_type": "stream",
          "text": [
            "117 "
          ],
          "name": "stdout"
        },
        {
          "output_type": "stream",
          "text": [
            "100%|██████████| 695/695 [00:05<00:00, 137.08it/s]\n",
            "  2%|▏         | 14/695 [00:00<00:05, 131.80it/s]"
          ],
          "name": "stderr"
        },
        {
          "output_type": "stream",
          "text": [
            "118 "
          ],
          "name": "stdout"
        },
        {
          "output_type": "stream",
          "text": [
            "100%|██████████| 695/695 [00:05<00:00, 138.14it/s]\n",
            "  2%|▏         | 14/695 [00:00<00:04, 136.48it/s]"
          ],
          "name": "stderr"
        },
        {
          "output_type": "stream",
          "text": [
            "119 "
          ],
          "name": "stdout"
        },
        {
          "output_type": "stream",
          "text": [
            "100%|██████████| 695/695 [00:04<00:00, 139.25it/s]\n",
            "  2%|▏         | 15/695 [00:00<00:04, 142.69it/s]"
          ],
          "name": "stderr"
        },
        {
          "output_type": "stream",
          "text": [
            "120 "
          ],
          "name": "stdout"
        },
        {
          "output_type": "stream",
          "text": [
            "100%|██████████| 695/695 [00:05<00:00, 138.02it/s]\n",
            "  2%|▏         | 15/695 [00:00<00:04, 144.05it/s]"
          ],
          "name": "stderr"
        },
        {
          "output_type": "stream",
          "text": [
            "121 "
          ],
          "name": "stdout"
        },
        {
          "output_type": "stream",
          "text": [
            "100%|██████████| 695/695 [00:04<00:00, 139.24it/s]\n",
            "  2%|▏         | 13/695 [00:00<00:05, 129.83it/s]"
          ],
          "name": "stderr"
        },
        {
          "output_type": "stream",
          "text": [
            "122 "
          ],
          "name": "stdout"
        },
        {
          "output_type": "stream",
          "text": [
            "100%|██████████| 695/695 [00:05<00:00, 137.94it/s]\n",
            "  2%|▏         | 14/695 [00:00<00:05, 133.56it/s]"
          ],
          "name": "stderr"
        },
        {
          "output_type": "stream",
          "text": [
            "123 "
          ],
          "name": "stdout"
        },
        {
          "output_type": "stream",
          "text": [
            "100%|██████████| 695/695 [00:05<00:00, 136.24it/s]\n",
            "  2%|▏         | 14/695 [00:00<00:04, 139.06it/s]"
          ],
          "name": "stderr"
        },
        {
          "output_type": "stream",
          "text": [
            "124 "
          ],
          "name": "stdout"
        },
        {
          "output_type": "stream",
          "text": [
            "100%|██████████| 695/695 [00:05<00:00, 135.66it/s]\n",
            "  2%|▏         | 14/695 [00:00<00:04, 139.00it/s]"
          ],
          "name": "stderr"
        },
        {
          "output_type": "stream",
          "text": [
            "125 "
          ],
          "name": "stdout"
        },
        {
          "output_type": "stream",
          "text": [
            "100%|██████████| 695/695 [00:05<00:00, 136.88it/s]\n",
            "  2%|▏         | 14/695 [00:00<00:05, 132.82it/s]"
          ],
          "name": "stderr"
        },
        {
          "output_type": "stream",
          "text": [
            "126 "
          ],
          "name": "stdout"
        },
        {
          "output_type": "stream",
          "text": [
            "100%|██████████| 695/695 [00:05<00:00, 136.51it/s]\n",
            "  2%|▏         | 14/695 [00:00<00:05, 131.99it/s]"
          ],
          "name": "stderr"
        },
        {
          "output_type": "stream",
          "text": [
            "127 "
          ],
          "name": "stdout"
        },
        {
          "output_type": "stream",
          "text": [
            "100%|██████████| 695/695 [00:05<00:00, 137.09it/s]\n",
            "  2%|▏         | 14/695 [00:00<00:04, 138.97it/s]"
          ],
          "name": "stderr"
        },
        {
          "output_type": "stream",
          "text": [
            "128 "
          ],
          "name": "stdout"
        },
        {
          "output_type": "stream",
          "text": [
            "100%|██████████| 695/695 [00:05<00:00, 138.36it/s]\n",
            "  2%|▏         | 15/695 [00:00<00:04, 143.46it/s]"
          ],
          "name": "stderr"
        },
        {
          "output_type": "stream",
          "text": [
            "129 "
          ],
          "name": "stdout"
        },
        {
          "output_type": "stream",
          "text": [
            "100%|██████████| 695/695 [00:05<00:00, 137.33it/s]\n",
            "  2%|▏         | 15/695 [00:00<00:04, 140.95it/s]"
          ],
          "name": "stderr"
        },
        {
          "output_type": "stream",
          "text": [
            "130 "
          ],
          "name": "stdout"
        },
        {
          "output_type": "stream",
          "text": [
            "100%|██████████| 695/695 [00:05<00:00, 136.87it/s]\n",
            "  2%|▏         | 14/695 [00:00<00:04, 138.23it/s]"
          ],
          "name": "stderr"
        },
        {
          "output_type": "stream",
          "text": [
            "131 "
          ],
          "name": "stdout"
        },
        {
          "output_type": "stream",
          "text": [
            "100%|██████████| 695/695 [00:05<00:00, 137.43it/s]\n",
            "  2%|▏         | 15/695 [00:00<00:04, 142.25it/s]"
          ],
          "name": "stderr"
        },
        {
          "output_type": "stream",
          "text": [
            "132 "
          ],
          "name": "stdout"
        },
        {
          "output_type": "stream",
          "text": [
            "100%|██████████| 695/695 [00:05<00:00, 137.18it/s]\n",
            "  2%|▏         | 13/695 [00:00<00:05, 128.56it/s]"
          ],
          "name": "stderr"
        },
        {
          "output_type": "stream",
          "text": [
            "133 "
          ],
          "name": "stdout"
        },
        {
          "output_type": "stream",
          "text": [
            "100%|██████████| 695/695 [00:05<00:00, 136.06it/s]\n",
            "  2%|▏         | 14/695 [00:00<00:05, 133.19it/s]"
          ],
          "name": "stderr"
        },
        {
          "output_type": "stream",
          "text": [
            "134 "
          ],
          "name": "stdout"
        },
        {
          "output_type": "stream",
          "text": [
            "100%|██████████| 695/695 [00:05<00:00, 136.19it/s]\n",
            "  2%|▏         | 14/695 [00:00<00:05, 135.00it/s]"
          ],
          "name": "stderr"
        },
        {
          "output_type": "stream",
          "text": [
            "135 "
          ],
          "name": "stdout"
        },
        {
          "output_type": "stream",
          "text": [
            "100%|██████████| 695/695 [00:05<00:00, 136.05it/s]\n",
            "  2%|▏         | 14/695 [00:00<00:04, 137.68it/s]"
          ],
          "name": "stderr"
        },
        {
          "output_type": "stream",
          "text": [
            "136 "
          ],
          "name": "stdout"
        },
        {
          "output_type": "stream",
          "text": [
            "100%|██████████| 695/695 [00:05<00:00, 136.05it/s]\n",
            "  2%|▏         | 13/695 [00:00<00:05, 126.42it/s]"
          ],
          "name": "stderr"
        },
        {
          "output_type": "stream",
          "text": [
            "137 "
          ],
          "name": "stdout"
        },
        {
          "output_type": "stream",
          "text": [
            "100%|██████████| 695/695 [00:05<00:00, 135.36it/s]\n",
            "  2%|▏         | 15/695 [00:00<00:04, 140.78it/s]"
          ],
          "name": "stderr"
        },
        {
          "output_type": "stream",
          "text": [
            "138 "
          ],
          "name": "stdout"
        },
        {
          "output_type": "stream",
          "text": [
            "100%|██████████| 695/695 [00:05<00:00, 135.31it/s]\n",
            "  2%|▏         | 14/695 [00:00<00:04, 139.86it/s]"
          ],
          "name": "stderr"
        },
        {
          "output_type": "stream",
          "text": [
            "139 "
          ],
          "name": "stdout"
        },
        {
          "output_type": "stream",
          "text": [
            "100%|██████████| 695/695 [00:05<00:00, 134.13it/s]\n",
            "  2%|▏         | 14/695 [00:00<00:04, 138.61it/s]"
          ],
          "name": "stderr"
        },
        {
          "output_type": "stream",
          "text": [
            "140 "
          ],
          "name": "stdout"
        },
        {
          "output_type": "stream",
          "text": [
            "100%|██████████| 695/695 [00:05<00:00, 135.79it/s]\n",
            "  2%|▏         | 14/695 [00:00<00:04, 136.89it/s]"
          ],
          "name": "stderr"
        },
        {
          "output_type": "stream",
          "text": [
            "141 "
          ],
          "name": "stdout"
        },
        {
          "output_type": "stream",
          "text": [
            "100%|██████████| 695/695 [00:05<00:00, 135.25it/s]\n",
            "  2%|▏         | 13/695 [00:00<00:05, 129.60it/s]"
          ],
          "name": "stderr"
        },
        {
          "output_type": "stream",
          "text": [
            "142 "
          ],
          "name": "stdout"
        },
        {
          "output_type": "stream",
          "text": [
            "100%|██████████| 695/695 [00:05<00:00, 136.82it/s]\n",
            "  2%|▏         | 14/695 [00:00<00:05, 134.60it/s]"
          ],
          "name": "stderr"
        },
        {
          "output_type": "stream",
          "text": [
            "143 "
          ],
          "name": "stdout"
        },
        {
          "output_type": "stream",
          "text": [
            "100%|██████████| 695/695 [00:05<00:00, 135.14it/s]\n",
            "  2%|▏         | 14/695 [00:00<00:05, 131.13it/s]"
          ],
          "name": "stderr"
        },
        {
          "output_type": "stream",
          "text": [
            "144 "
          ],
          "name": "stdout"
        },
        {
          "output_type": "stream",
          "text": [
            "100%|██████████| 695/695 [00:05<00:00, 135.04it/s]\n",
            "  2%|▏         | 14/695 [00:00<00:04, 139.16it/s]"
          ],
          "name": "stderr"
        },
        {
          "output_type": "stream",
          "text": [
            "145 "
          ],
          "name": "stdout"
        },
        {
          "output_type": "stream",
          "text": [
            "100%|██████████| 695/695 [00:05<00:00, 137.03it/s]\n",
            "  2%|▏         | 14/695 [00:00<00:05, 131.62it/s]"
          ],
          "name": "stderr"
        },
        {
          "output_type": "stream",
          "text": [
            "146 "
          ],
          "name": "stdout"
        },
        {
          "output_type": "stream",
          "text": [
            "100%|██████████| 695/695 [00:05<00:00, 136.22it/s]\n",
            "  2%|▏         | 14/695 [00:00<00:05, 135.21it/s]"
          ],
          "name": "stderr"
        },
        {
          "output_type": "stream",
          "text": [
            "147 "
          ],
          "name": "stdout"
        },
        {
          "output_type": "stream",
          "text": [
            "100%|██████████| 695/695 [00:05<00:00, 136.44it/s]\n",
            "  2%|▏         | 14/695 [00:00<00:05, 131.98it/s]"
          ],
          "name": "stderr"
        },
        {
          "output_type": "stream",
          "text": [
            "148 "
          ],
          "name": "stdout"
        },
        {
          "output_type": "stream",
          "text": [
            "100%|██████████| 695/695 [00:05<00:00, 136.43it/s]\n",
            "  2%|▏         | 14/695 [00:00<00:05, 132.99it/s]"
          ],
          "name": "stderr"
        },
        {
          "output_type": "stream",
          "text": [
            "149 "
          ],
          "name": "stdout"
        },
        {
          "output_type": "stream",
          "text": [
            "100%|██████████| 695/695 [00:05<00:00, 134.13it/s]\n",
            "  2%|▏         | 14/695 [00:00<00:04, 136.78it/s]"
          ],
          "name": "stderr"
        },
        {
          "output_type": "stream",
          "text": [
            "150 "
          ],
          "name": "stdout"
        },
        {
          "output_type": "stream",
          "text": [
            "100%|██████████| 695/695 [00:05<00:00, 134.38it/s]\n",
            "  2%|▏         | 14/695 [00:00<00:04, 137.81it/s]"
          ],
          "name": "stderr"
        },
        {
          "output_type": "stream",
          "text": [
            "151 "
          ],
          "name": "stdout"
        },
        {
          "output_type": "stream",
          "text": [
            "100%|██████████| 695/695 [00:05<00:00, 136.42it/s]\n",
            "  2%|▏         | 14/695 [00:00<00:05, 131.26it/s]"
          ],
          "name": "stderr"
        },
        {
          "output_type": "stream",
          "text": [
            "152 "
          ],
          "name": "stdout"
        },
        {
          "output_type": "stream",
          "text": [
            "100%|██████████| 695/695 [00:05<00:00, 136.99it/s]\n",
            "  2%|▏         | 14/695 [00:00<00:05, 134.52it/s]"
          ],
          "name": "stderr"
        },
        {
          "output_type": "stream",
          "text": [
            "153 "
          ],
          "name": "stdout"
        },
        {
          "output_type": "stream",
          "text": [
            "100%|██████████| 695/695 [00:05<00:00, 137.04it/s]\n",
            "  2%|▏         | 14/695 [00:00<00:05, 135.90it/s]"
          ],
          "name": "stderr"
        },
        {
          "output_type": "stream",
          "text": [
            "154 "
          ],
          "name": "stdout"
        },
        {
          "output_type": "stream",
          "text": [
            "100%|██████████| 695/695 [00:05<00:00, 136.39it/s]\n",
            "  2%|▏         | 14/695 [00:00<00:05, 132.70it/s]"
          ],
          "name": "stderr"
        },
        {
          "output_type": "stream",
          "text": [
            "155 "
          ],
          "name": "stdout"
        },
        {
          "output_type": "stream",
          "text": [
            "100%|██████████| 695/695 [00:05<00:00, 134.46it/s]\n",
            "  2%|▏         | 14/695 [00:00<00:05, 131.36it/s]"
          ],
          "name": "stderr"
        },
        {
          "output_type": "stream",
          "text": [
            "156 "
          ],
          "name": "stdout"
        },
        {
          "output_type": "stream",
          "text": [
            "100%|██████████| 695/695 [00:05<00:00, 134.03it/s]\n",
            "  2%|▏         | 15/695 [00:00<00:04, 141.33it/s]"
          ],
          "name": "stderr"
        },
        {
          "output_type": "stream",
          "text": [
            "157 "
          ],
          "name": "stdout"
        },
        {
          "output_type": "stream",
          "text": [
            "100%|██████████| 695/695 [00:05<00:00, 135.82it/s]\n",
            "  2%|▏         | 14/695 [00:00<00:05, 132.83it/s]"
          ],
          "name": "stderr"
        },
        {
          "output_type": "stream",
          "text": [
            "158 "
          ],
          "name": "stdout"
        },
        {
          "output_type": "stream",
          "text": [
            "100%|██████████| 695/695 [00:05<00:00, 134.66it/s]\n",
            "  2%|▏         | 15/695 [00:00<00:04, 142.28it/s]"
          ],
          "name": "stderr"
        },
        {
          "output_type": "stream",
          "text": [
            "159 "
          ],
          "name": "stdout"
        },
        {
          "output_type": "stream",
          "text": [
            "100%|██████████| 695/695 [00:05<00:00, 135.02it/s]\n",
            "  2%|▏         | 14/695 [00:00<00:05, 129.50it/s]"
          ],
          "name": "stderr"
        },
        {
          "output_type": "stream",
          "text": [
            "160 "
          ],
          "name": "stdout"
        },
        {
          "output_type": "stream",
          "text": [
            "100%|██████████| 695/695 [00:05<00:00, 133.44it/s]\n",
            "  2%|▏         | 14/695 [00:00<00:05, 132.37it/s]"
          ],
          "name": "stderr"
        },
        {
          "output_type": "stream",
          "text": [
            "161 "
          ],
          "name": "stdout"
        },
        {
          "output_type": "stream",
          "text": [
            "100%|██████████| 695/695 [00:05<00:00, 134.71it/s]\n",
            "  2%|▏         | 14/695 [00:00<00:04, 139.89it/s]"
          ],
          "name": "stderr"
        },
        {
          "output_type": "stream",
          "text": [
            "162 "
          ],
          "name": "stdout"
        },
        {
          "output_type": "stream",
          "text": [
            "100%|██████████| 695/695 [00:05<00:00, 135.48it/s]\n",
            "  2%|▏         | 15/695 [00:00<00:04, 141.06it/s]"
          ],
          "name": "stderr"
        },
        {
          "output_type": "stream",
          "text": [
            "163 "
          ],
          "name": "stdout"
        },
        {
          "output_type": "stream",
          "text": [
            "100%|██████████| 695/695 [00:05<00:00, 136.00it/s]\n",
            "  2%|▏         | 13/695 [00:00<00:05, 129.69it/s]"
          ],
          "name": "stderr"
        },
        {
          "output_type": "stream",
          "text": [
            "164 "
          ],
          "name": "stdout"
        },
        {
          "output_type": "stream",
          "text": [
            "100%|██████████| 695/695 [00:05<00:00, 136.11it/s]\n",
            "  2%|▏         | 14/695 [00:00<00:05, 133.79it/s]"
          ],
          "name": "stderr"
        },
        {
          "output_type": "stream",
          "text": [
            "165 "
          ],
          "name": "stdout"
        },
        {
          "output_type": "stream",
          "text": [
            "100%|██████████| 695/695 [00:05<00:00, 136.09it/s]\n",
            "  2%|▏         | 14/695 [00:00<00:04, 139.87it/s]"
          ],
          "name": "stderr"
        },
        {
          "output_type": "stream",
          "text": [
            "166 "
          ],
          "name": "stdout"
        },
        {
          "output_type": "stream",
          "text": [
            "100%|██████████| 695/695 [00:05<00:00, 136.36it/s]\n",
            "  2%|▏         | 15/695 [00:00<00:04, 144.25it/s]"
          ],
          "name": "stderr"
        },
        {
          "output_type": "stream",
          "text": [
            "167 "
          ],
          "name": "stdout"
        },
        {
          "output_type": "stream",
          "text": [
            "100%|██████████| 695/695 [00:05<00:00, 135.85it/s]\n",
            "  2%|▏         | 15/695 [00:00<00:04, 142.32it/s]"
          ],
          "name": "stderr"
        },
        {
          "output_type": "stream",
          "text": [
            "168 "
          ],
          "name": "stdout"
        },
        {
          "output_type": "stream",
          "text": [
            "100%|██████████| 695/695 [00:05<00:00, 135.34it/s]\n",
            "  2%|▏         | 15/695 [00:00<00:04, 144.32it/s]"
          ],
          "name": "stderr"
        },
        {
          "output_type": "stream",
          "text": [
            "169 "
          ],
          "name": "stdout"
        },
        {
          "output_type": "stream",
          "text": [
            "100%|██████████| 695/695 [00:05<00:00, 136.39it/s]\n",
            "  2%|▏         | 14/695 [00:00<00:04, 136.41it/s]"
          ],
          "name": "stderr"
        },
        {
          "output_type": "stream",
          "text": [
            "170 "
          ],
          "name": "stdout"
        },
        {
          "output_type": "stream",
          "text": [
            "100%|██████████| 695/695 [00:05<00:00, 135.47it/s]\n",
            "  2%|▏         | 14/695 [00:00<00:04, 136.38it/s]"
          ],
          "name": "stderr"
        },
        {
          "output_type": "stream",
          "text": [
            "171 "
          ],
          "name": "stdout"
        },
        {
          "output_type": "stream",
          "text": [
            "100%|██████████| 695/695 [00:05<00:00, 135.08it/s]\n",
            "  2%|▏         | 14/695 [00:00<00:04, 139.53it/s]"
          ],
          "name": "stderr"
        },
        {
          "output_type": "stream",
          "text": [
            "172 "
          ],
          "name": "stdout"
        },
        {
          "output_type": "stream",
          "text": [
            "100%|██████████| 695/695 [00:05<00:00, 134.86it/s]\n",
            "  2%|▏         | 14/695 [00:00<00:04, 136.91it/s]"
          ],
          "name": "stderr"
        },
        {
          "output_type": "stream",
          "text": [
            "173 "
          ],
          "name": "stdout"
        },
        {
          "output_type": "stream",
          "text": [
            "100%|██████████| 695/695 [00:05<00:00, 134.54it/s]\n",
            "  2%|▏         | 14/695 [00:00<00:05, 133.11it/s]"
          ],
          "name": "stderr"
        },
        {
          "output_type": "stream",
          "text": [
            "174 "
          ],
          "name": "stdout"
        },
        {
          "output_type": "stream",
          "text": [
            "100%|██████████| 695/695 [00:05<00:00, 135.42it/s]\n",
            "  2%|▏         | 14/695 [00:00<00:05, 130.41it/s]"
          ],
          "name": "stderr"
        },
        {
          "output_type": "stream",
          "text": [
            "175 "
          ],
          "name": "stdout"
        },
        {
          "output_type": "stream",
          "text": [
            "100%|██████████| 695/695 [00:05<00:00, 134.82it/s]\n",
            "  2%|▏         | 15/695 [00:00<00:04, 143.31it/s]"
          ],
          "name": "stderr"
        },
        {
          "output_type": "stream",
          "text": [
            "176 "
          ],
          "name": "stdout"
        },
        {
          "output_type": "stream",
          "text": [
            "100%|██████████| 695/695 [00:05<00:00, 136.77it/s]\n",
            "  2%|▏         | 14/695 [00:00<00:04, 137.17it/s]"
          ],
          "name": "stderr"
        },
        {
          "output_type": "stream",
          "text": [
            "177 "
          ],
          "name": "stdout"
        },
        {
          "output_type": "stream",
          "text": [
            "100%|██████████| 695/695 [00:05<00:00, 136.96it/s]\n",
            "  2%|▏         | 15/695 [00:00<00:04, 142.85it/s]"
          ],
          "name": "stderr"
        },
        {
          "output_type": "stream",
          "text": [
            "178 "
          ],
          "name": "stdout"
        },
        {
          "output_type": "stream",
          "text": [
            "100%|██████████| 695/695 [00:05<00:00, 137.76it/s]\n",
            "  2%|▏         | 14/695 [00:00<00:04, 136.36it/s]"
          ],
          "name": "stderr"
        },
        {
          "output_type": "stream",
          "text": [
            "179 "
          ],
          "name": "stdout"
        },
        {
          "output_type": "stream",
          "text": [
            "100%|██████████| 695/695 [00:05<00:00, 136.24it/s]\n",
            "  2%|▏         | 15/695 [00:00<00:04, 143.68it/s]"
          ],
          "name": "stderr"
        },
        {
          "output_type": "stream",
          "text": [
            "180 "
          ],
          "name": "stdout"
        },
        {
          "output_type": "stream",
          "text": [
            "100%|██████████| 695/695 [00:05<00:00, 136.33it/s]\n",
            "  2%|▏         | 15/695 [00:00<00:04, 141.94it/s]"
          ],
          "name": "stderr"
        },
        {
          "output_type": "stream",
          "text": [
            "181 "
          ],
          "name": "stdout"
        },
        {
          "output_type": "stream",
          "text": [
            "100%|██████████| 695/695 [00:05<00:00, 134.46it/s]\n",
            "  2%|▏         | 13/695 [00:00<00:05, 129.62it/s]"
          ],
          "name": "stderr"
        },
        {
          "output_type": "stream",
          "text": [
            "182 "
          ],
          "name": "stdout"
        },
        {
          "output_type": "stream",
          "text": [
            "100%|██████████| 695/695 [00:05<00:00, 133.49it/s]\n",
            "  2%|▏         | 14/695 [00:00<00:04, 137.18it/s]"
          ],
          "name": "stderr"
        },
        {
          "output_type": "stream",
          "text": [
            "183 "
          ],
          "name": "stdout"
        },
        {
          "output_type": "stream",
          "text": [
            "100%|██████████| 695/695 [00:05<00:00, 135.34it/s]\n",
            "  2%|▏         | 14/695 [00:00<00:05, 135.91it/s]"
          ],
          "name": "stderr"
        },
        {
          "output_type": "stream",
          "text": [
            "184 "
          ],
          "name": "stdout"
        },
        {
          "output_type": "stream",
          "text": [
            "100%|██████████| 695/695 [00:05<00:00, 134.54it/s]\n",
            "  2%|▏         | 13/695 [00:00<00:05, 129.17it/s]"
          ],
          "name": "stderr"
        },
        {
          "output_type": "stream",
          "text": [
            "185 "
          ],
          "name": "stdout"
        },
        {
          "output_type": "stream",
          "text": [
            "100%|██████████| 695/695 [00:05<00:00, 135.08it/s]\n",
            "  2%|▏         | 13/695 [00:00<00:05, 129.98it/s]"
          ],
          "name": "stderr"
        },
        {
          "output_type": "stream",
          "text": [
            "186 "
          ],
          "name": "stdout"
        },
        {
          "output_type": "stream",
          "text": [
            "100%|██████████| 695/695 [00:05<00:00, 135.70it/s]\n",
            "  2%|▏         | 14/695 [00:00<00:05, 131.23it/s]"
          ],
          "name": "stderr"
        },
        {
          "output_type": "stream",
          "text": [
            "187 "
          ],
          "name": "stdout"
        },
        {
          "output_type": "stream",
          "text": [
            "100%|██████████| 695/695 [00:05<00:00, 134.48it/s]\n",
            "  2%|▏         | 14/695 [00:00<00:04, 136.40it/s]"
          ],
          "name": "stderr"
        },
        {
          "output_type": "stream",
          "text": [
            "188 "
          ],
          "name": "stdout"
        },
        {
          "output_type": "stream",
          "text": [
            "100%|██████████| 695/695 [00:05<00:00, 134.74it/s]\n",
            "  2%|▏         | 14/695 [00:00<00:05, 134.37it/s]"
          ],
          "name": "stderr"
        },
        {
          "output_type": "stream",
          "text": [
            "189 "
          ],
          "name": "stdout"
        },
        {
          "output_type": "stream",
          "text": [
            "100%|██████████| 695/695 [00:05<00:00, 135.79it/s]\n",
            "  2%|▏         | 15/695 [00:00<00:04, 140.53it/s]"
          ],
          "name": "stderr"
        },
        {
          "output_type": "stream",
          "text": [
            "190 "
          ],
          "name": "stdout"
        },
        {
          "output_type": "stream",
          "text": [
            "100%|██████████| 695/695 [00:05<00:00, 136.92it/s]\n",
            "  2%|▏         | 14/695 [00:00<00:04, 137.74it/s]"
          ],
          "name": "stderr"
        },
        {
          "output_type": "stream",
          "text": [
            "191 "
          ],
          "name": "stdout"
        },
        {
          "output_type": "stream",
          "text": [
            "100%|██████████| 695/695 [00:05<00:00, 137.02it/s]\n",
            "  2%|▏         | 14/695 [00:00<00:05, 133.46it/s]"
          ],
          "name": "stderr"
        },
        {
          "output_type": "stream",
          "text": [
            "192 "
          ],
          "name": "stdout"
        },
        {
          "output_type": "stream",
          "text": [
            "100%|██████████| 695/695 [00:05<00:00, 136.35it/s]\n",
            "  2%|▏         | 14/695 [00:00<00:05, 133.66it/s]"
          ],
          "name": "stderr"
        },
        {
          "output_type": "stream",
          "text": [
            "193 "
          ],
          "name": "stdout"
        },
        {
          "output_type": "stream",
          "text": [
            "100%|██████████| 695/695 [00:05<00:00, 136.27it/s]\n",
            "  2%|▏         | 13/695 [00:00<00:05, 127.98it/s]"
          ],
          "name": "stderr"
        },
        {
          "output_type": "stream",
          "text": [
            "194 "
          ],
          "name": "stdout"
        },
        {
          "output_type": "stream",
          "text": [
            "100%|██████████| 695/695 [00:05<00:00, 134.32it/s]\n",
            "  2%|▏         | 14/695 [00:00<00:05, 128.47it/s]"
          ],
          "name": "stderr"
        },
        {
          "output_type": "stream",
          "text": [
            "195 "
          ],
          "name": "stdout"
        },
        {
          "output_type": "stream",
          "text": [
            "100%|██████████| 695/695 [00:05<00:00, 135.75it/s]\n",
            "  2%|▏         | 14/695 [00:00<00:05, 134.47it/s]"
          ],
          "name": "stderr"
        },
        {
          "output_type": "stream",
          "text": [
            "196 "
          ],
          "name": "stdout"
        },
        {
          "output_type": "stream",
          "text": [
            "100%|██████████| 695/695 [00:05<00:00, 135.90it/s]\n",
            "  2%|▏         | 15/695 [00:00<00:04, 140.58it/s]"
          ],
          "name": "stderr"
        },
        {
          "output_type": "stream",
          "text": [
            "197 "
          ],
          "name": "stdout"
        },
        {
          "output_type": "stream",
          "text": [
            "100%|██████████| 695/695 [00:05<00:00, 135.08it/s]\n",
            "  2%|▏         | 14/695 [00:00<00:05, 131.23it/s]"
          ],
          "name": "stderr"
        },
        {
          "output_type": "stream",
          "text": [
            "198 "
          ],
          "name": "stdout"
        },
        {
          "output_type": "stream",
          "text": [
            "100%|██████████| 695/695 [00:05<00:00, 135.74it/s]\n",
            "  2%|▏         | 13/695 [00:00<00:05, 126.70it/s]"
          ],
          "name": "stderr"
        },
        {
          "output_type": "stream",
          "text": [
            "199 "
          ],
          "name": "stdout"
        },
        {
          "output_type": "stream",
          "text": [
            "100%|██████████| 695/695 [00:05<00:00, 134.24it/s]\n",
            "  2%|▏         | 14/695 [00:00<00:05, 132.92it/s]"
          ],
          "name": "stderr"
        },
        {
          "output_type": "stream",
          "text": [
            "200 "
          ],
          "name": "stdout"
        },
        {
          "output_type": "stream",
          "text": [
            "100%|██████████| 695/695 [00:05<00:00, 134.35it/s]\n",
            "  2%|▏         | 14/695 [00:00<00:04, 139.49it/s]"
          ],
          "name": "stderr"
        },
        {
          "output_type": "stream",
          "text": [
            "201 "
          ],
          "name": "stdout"
        },
        {
          "output_type": "stream",
          "text": [
            "100%|██████████| 695/695 [00:05<00:00, 134.60it/s]\n",
            "  2%|▏         | 14/695 [00:00<00:05, 134.03it/s]"
          ],
          "name": "stderr"
        },
        {
          "output_type": "stream",
          "text": [
            "202 "
          ],
          "name": "stdout"
        },
        {
          "output_type": "stream",
          "text": [
            "100%|██████████| 695/695 [00:05<00:00, 134.15it/s]\n",
            "  2%|▏         | 14/695 [00:00<00:05, 132.98it/s]"
          ],
          "name": "stderr"
        },
        {
          "output_type": "stream",
          "text": [
            "203 "
          ],
          "name": "stdout"
        },
        {
          "output_type": "stream",
          "text": [
            "100%|██████████| 695/695 [00:05<00:00, 135.86it/s]\n",
            "  2%|▏         | 14/695 [00:00<00:05, 134.52it/s]"
          ],
          "name": "stderr"
        },
        {
          "output_type": "stream",
          "text": [
            "204 "
          ],
          "name": "stdout"
        },
        {
          "output_type": "stream",
          "text": [
            "100%|██████████| 695/695 [00:05<00:00, 136.14it/s]\n",
            "  2%|▏         | 15/695 [00:00<00:04, 140.73it/s]"
          ],
          "name": "stderr"
        },
        {
          "output_type": "stream",
          "text": [
            "205 "
          ],
          "name": "stdout"
        },
        {
          "output_type": "stream",
          "text": [
            "100%|██████████| 695/695 [00:05<00:00, 136.04it/s]\n",
            "  2%|▏         | 14/695 [00:00<00:05, 134.18it/s]"
          ],
          "name": "stderr"
        },
        {
          "output_type": "stream",
          "text": [
            "206 "
          ],
          "name": "stdout"
        },
        {
          "output_type": "stream",
          "text": [
            "100%|██████████| 695/695 [00:05<00:00, 134.91it/s]\n",
            "  2%|▏         | 14/695 [00:00<00:04, 138.39it/s]"
          ],
          "name": "stderr"
        },
        {
          "output_type": "stream",
          "text": [
            "207 "
          ],
          "name": "stdout"
        },
        {
          "output_type": "stream",
          "text": [
            "100%|██████████| 695/695 [00:05<00:00, 134.62it/s]\n",
            "  2%|▏         | 14/695 [00:00<00:05, 131.55it/s]"
          ],
          "name": "stderr"
        },
        {
          "output_type": "stream",
          "text": [
            "208 "
          ],
          "name": "stdout"
        },
        {
          "output_type": "stream",
          "text": [
            "100%|██████████| 695/695 [00:05<00:00, 134.06it/s]\n",
            "  2%|▏         | 14/695 [00:00<00:05, 134.72it/s]"
          ],
          "name": "stderr"
        },
        {
          "output_type": "stream",
          "text": [
            "209 "
          ],
          "name": "stdout"
        },
        {
          "output_type": "stream",
          "text": [
            "100%|██████████| 695/695 [00:05<00:00, 134.69it/s]\n",
            "  2%|▏         | 14/695 [00:00<00:04, 138.19it/s]"
          ],
          "name": "stderr"
        },
        {
          "output_type": "stream",
          "text": [
            "210 "
          ],
          "name": "stdout"
        },
        {
          "output_type": "stream",
          "text": [
            "100%|██████████| 695/695 [00:05<00:00, 135.91it/s]\n",
            "  2%|▏         | 14/695 [00:00<00:04, 136.32it/s]"
          ],
          "name": "stderr"
        },
        {
          "output_type": "stream",
          "text": [
            "211 "
          ],
          "name": "stdout"
        },
        {
          "output_type": "stream",
          "text": [
            "100%|██████████| 695/695 [00:05<00:00, 136.72it/s]\n",
            "  2%|▏         | 14/695 [00:00<00:04, 136.74it/s]"
          ],
          "name": "stderr"
        },
        {
          "output_type": "stream",
          "text": [
            "212 "
          ],
          "name": "stdout"
        },
        {
          "output_type": "stream",
          "text": [
            "100%|██████████| 695/695 [00:05<00:00, 135.29it/s]\n",
            "  2%|▏         | 14/695 [00:00<00:05, 131.67it/s]"
          ],
          "name": "stderr"
        },
        {
          "output_type": "stream",
          "text": [
            "213 "
          ],
          "name": "stdout"
        },
        {
          "output_type": "stream",
          "text": [
            "100%|██████████| 695/695 [00:05<00:00, 133.73it/s]\n",
            "  2%|▏         | 14/695 [00:00<00:05, 135.22it/s]"
          ],
          "name": "stderr"
        },
        {
          "output_type": "stream",
          "text": [
            "214 "
          ],
          "name": "stdout"
        },
        {
          "output_type": "stream",
          "text": [
            "100%|██████████| 695/695 [00:05<00:00, 134.55it/s]\n",
            "  2%|▏         | 14/695 [00:00<00:04, 138.03it/s]"
          ],
          "name": "stderr"
        },
        {
          "output_type": "stream",
          "text": [
            "215 "
          ],
          "name": "stdout"
        },
        {
          "output_type": "stream",
          "text": [
            "100%|██████████| 695/695 [00:05<00:00, 135.89it/s]\n",
            "  2%|▏         | 14/695 [00:00<00:04, 136.27it/s]"
          ],
          "name": "stderr"
        },
        {
          "output_type": "stream",
          "text": [
            "216 "
          ],
          "name": "stdout"
        },
        {
          "output_type": "stream",
          "text": [
            "100%|██████████| 695/695 [00:05<00:00, 135.88it/s]\n",
            "  2%|▏         | 14/695 [00:00<00:05, 135.76it/s]"
          ],
          "name": "stderr"
        },
        {
          "output_type": "stream",
          "text": [
            "217 "
          ],
          "name": "stdout"
        },
        {
          "output_type": "stream",
          "text": [
            "100%|██████████| 695/695 [00:05<00:00, 135.58it/s]\n",
            "  2%|▏         | 15/695 [00:00<00:04, 142.74it/s]"
          ],
          "name": "stderr"
        },
        {
          "output_type": "stream",
          "text": [
            "218 "
          ],
          "name": "stdout"
        },
        {
          "output_type": "stream",
          "text": [
            "100%|██████████| 695/695 [00:05<00:00, 134.71it/s]\n",
            "  2%|▏         | 13/695 [00:00<00:05, 123.48it/s]"
          ],
          "name": "stderr"
        },
        {
          "output_type": "stream",
          "text": [
            "219 "
          ],
          "name": "stdout"
        },
        {
          "output_type": "stream",
          "text": [
            "100%|██████████| 695/695 [00:05<00:00, 134.17it/s]\n",
            "  2%|▏         | 14/695 [00:00<00:05, 133.96it/s]"
          ],
          "name": "stderr"
        },
        {
          "output_type": "stream",
          "text": [
            "220 "
          ],
          "name": "stdout"
        },
        {
          "output_type": "stream",
          "text": [
            "100%|██████████| 695/695 [00:05<00:00, 133.36it/s]\n",
            "  2%|▏         | 14/695 [00:00<00:05, 132.42it/s]"
          ],
          "name": "stderr"
        },
        {
          "output_type": "stream",
          "text": [
            "221 "
          ],
          "name": "stdout"
        },
        {
          "output_type": "stream",
          "text": [
            "100%|██████████| 695/695 [00:05<00:00, 135.77it/s]\n",
            "  2%|▏         | 13/695 [00:00<00:05, 123.87it/s]"
          ],
          "name": "stderr"
        },
        {
          "output_type": "stream",
          "text": [
            "222 "
          ],
          "name": "stdout"
        },
        {
          "output_type": "stream",
          "text": [
            "100%|██████████| 695/695 [00:05<00:00, 135.54it/s]\n",
            "  2%|▏         | 14/695 [00:00<00:04, 136.23it/s]"
          ],
          "name": "stderr"
        },
        {
          "output_type": "stream",
          "text": [
            "223 "
          ],
          "name": "stdout"
        },
        {
          "output_type": "stream",
          "text": [
            "100%|██████████| 695/695 [00:05<00:00, 135.27it/s]\n",
            "  2%|▏         | 14/695 [00:00<00:04, 137.68it/s]"
          ],
          "name": "stderr"
        },
        {
          "output_type": "stream",
          "text": [
            "224 "
          ],
          "name": "stdout"
        },
        {
          "output_type": "stream",
          "text": [
            "100%|██████████| 695/695 [00:05<00:00, 135.74it/s]\n",
            "  2%|▏         | 14/695 [00:00<00:04, 136.57it/s]"
          ],
          "name": "stderr"
        },
        {
          "output_type": "stream",
          "text": [
            "225 "
          ],
          "name": "stdout"
        },
        {
          "output_type": "stream",
          "text": [
            "100%|██████████| 695/695 [00:05<00:00, 134.78it/s]\n",
            "  2%|▏         | 14/695 [00:00<00:05, 131.86it/s]"
          ],
          "name": "stderr"
        },
        {
          "output_type": "stream",
          "text": [
            "226 "
          ],
          "name": "stdout"
        },
        {
          "output_type": "stream",
          "text": [
            "100%|██████████| 695/695 [00:05<00:00, 134.58it/s]\n",
            "  2%|▏         | 13/695 [00:00<00:05, 128.92it/s]"
          ],
          "name": "stderr"
        },
        {
          "output_type": "stream",
          "text": [
            "227 "
          ],
          "name": "stdout"
        },
        {
          "output_type": "stream",
          "text": [
            "100%|██████████| 695/695 [00:05<00:00, 135.40it/s]\n",
            "  2%|▏         | 14/695 [00:00<00:05, 134.92it/s]"
          ],
          "name": "stderr"
        },
        {
          "output_type": "stream",
          "text": [
            "228 "
          ],
          "name": "stdout"
        },
        {
          "output_type": "stream",
          "text": [
            "100%|██████████| 695/695 [00:05<00:00, 135.35it/s]\n",
            "  2%|▏         | 14/695 [00:00<00:05, 132.98it/s]"
          ],
          "name": "stderr"
        },
        {
          "output_type": "stream",
          "text": [
            "229 "
          ],
          "name": "stdout"
        },
        {
          "output_type": "stream",
          "text": [
            "100%|██████████| 695/695 [00:05<00:00, 135.63it/s]\n",
            "  2%|▏         | 14/695 [00:00<00:04, 136.45it/s]"
          ],
          "name": "stderr"
        },
        {
          "output_type": "stream",
          "text": [
            "230 "
          ],
          "name": "stdout"
        },
        {
          "output_type": "stream",
          "text": [
            "100%|██████████| 695/695 [00:05<00:00, 135.05it/s]\n",
            "  2%|▏         | 13/695 [00:00<00:05, 127.41it/s]"
          ],
          "name": "stderr"
        },
        {
          "output_type": "stream",
          "text": [
            "231 "
          ],
          "name": "stdout"
        },
        {
          "output_type": "stream",
          "text": [
            "100%|██████████| 695/695 [00:05<00:00, 134.44it/s]\n",
            "  2%|▏         | 14/695 [00:00<00:05, 135.98it/s]"
          ],
          "name": "stderr"
        },
        {
          "output_type": "stream",
          "text": [
            "232 "
          ],
          "name": "stdout"
        },
        {
          "output_type": "stream",
          "text": [
            "100%|██████████| 695/695 [00:05<00:00, 133.50it/s]\n",
            "  2%|▏         | 14/695 [00:00<00:05, 134.28it/s]"
          ],
          "name": "stderr"
        },
        {
          "output_type": "stream",
          "text": [
            "233 "
          ],
          "name": "stdout"
        },
        {
          "output_type": "stream",
          "text": [
            "100%|██████████| 695/695 [00:05<00:00, 133.30it/s]\n",
            "  2%|▏         | 13/695 [00:00<00:05, 127.89it/s]"
          ],
          "name": "stderr"
        },
        {
          "output_type": "stream",
          "text": [
            "234 "
          ],
          "name": "stdout"
        },
        {
          "output_type": "stream",
          "text": [
            "100%|██████████| 695/695 [00:05<00:00, 134.03it/s]\n",
            "  2%|▏         | 14/695 [00:00<00:04, 136.59it/s]"
          ],
          "name": "stderr"
        },
        {
          "output_type": "stream",
          "text": [
            "235 "
          ],
          "name": "stdout"
        },
        {
          "output_type": "stream",
          "text": [
            "100%|██████████| 695/695 [00:05<00:00, 136.10it/s]\n",
            "  2%|▏         | 14/695 [00:00<00:05, 132.53it/s]"
          ],
          "name": "stderr"
        },
        {
          "output_type": "stream",
          "text": [
            "236 "
          ],
          "name": "stdout"
        },
        {
          "output_type": "stream",
          "text": [
            "100%|██████████| 695/695 [00:05<00:00, 135.73it/s]\n",
            "  2%|▏         | 14/695 [00:00<00:05, 133.55it/s]"
          ],
          "name": "stderr"
        },
        {
          "output_type": "stream",
          "text": [
            "237 "
          ],
          "name": "stdout"
        },
        {
          "output_type": "stream",
          "text": [
            "100%|██████████| 695/695 [00:05<00:00, 134.82it/s]\n",
            "  2%|▏         | 14/695 [00:00<00:05, 135.62it/s]"
          ],
          "name": "stderr"
        },
        {
          "output_type": "stream",
          "text": [
            "238 "
          ],
          "name": "stdout"
        },
        {
          "output_type": "stream",
          "text": [
            "100%|██████████| 695/695 [00:05<00:00, 133.16it/s]\n",
            "  2%|▏         | 13/695 [00:00<00:05, 124.22it/s]"
          ],
          "name": "stderr"
        },
        {
          "output_type": "stream",
          "text": [
            "239 "
          ],
          "name": "stdout"
        },
        {
          "output_type": "stream",
          "text": [
            "100%|██████████| 695/695 [00:05<00:00, 129.82it/s]\n",
            "  2%|▏         | 13/695 [00:00<00:05, 129.48it/s]"
          ],
          "name": "stderr"
        },
        {
          "output_type": "stream",
          "text": [
            "240 "
          ],
          "name": "stdout"
        },
        {
          "output_type": "stream",
          "text": [
            "100%|██████████| 695/695 [00:05<00:00, 133.99it/s]\n",
            "  2%|▏         | 14/695 [00:00<00:05, 131.56it/s]"
          ],
          "name": "stderr"
        },
        {
          "output_type": "stream",
          "text": [
            "241 "
          ],
          "name": "stdout"
        },
        {
          "output_type": "stream",
          "text": [
            "100%|██████████| 695/695 [00:05<00:00, 135.71it/s]\n",
            "  2%|▏         | 13/695 [00:00<00:05, 129.75it/s]"
          ],
          "name": "stderr"
        },
        {
          "output_type": "stream",
          "text": [
            "242 "
          ],
          "name": "stdout"
        },
        {
          "output_type": "stream",
          "text": [
            "100%|██████████| 695/695 [00:05<00:00, 133.09it/s]\n",
            "  2%|▏         | 14/695 [00:00<00:04, 137.39it/s]"
          ],
          "name": "stderr"
        },
        {
          "output_type": "stream",
          "text": [
            "243 "
          ],
          "name": "stdout"
        },
        {
          "output_type": "stream",
          "text": [
            "100%|██████████| 695/695 [00:05<00:00, 134.34it/s]\n",
            "  2%|▏         | 13/695 [00:00<00:05, 129.42it/s]"
          ],
          "name": "stderr"
        },
        {
          "output_type": "stream",
          "text": [
            "244 "
          ],
          "name": "stdout"
        },
        {
          "output_type": "stream",
          "text": [
            "100%|██████████| 695/695 [00:05<00:00, 134.59it/s]\n",
            "  2%|▏         | 13/695 [00:00<00:05, 129.08it/s]"
          ],
          "name": "stderr"
        },
        {
          "output_type": "stream",
          "text": [
            "245 "
          ],
          "name": "stdout"
        },
        {
          "output_type": "stream",
          "text": [
            "100%|██████████| 695/695 [00:05<00:00, 131.83it/s]\n",
            "  2%|▏         | 14/695 [00:00<00:05, 132.62it/s]"
          ],
          "name": "stderr"
        },
        {
          "output_type": "stream",
          "text": [
            "246 "
          ],
          "name": "stdout"
        },
        {
          "output_type": "stream",
          "text": [
            "100%|██████████| 695/695 [00:05<00:00, 134.45it/s]\n",
            "  2%|▏         | 14/695 [00:00<00:05, 133.25it/s]"
          ],
          "name": "stderr"
        },
        {
          "output_type": "stream",
          "text": [
            "247 "
          ],
          "name": "stdout"
        },
        {
          "output_type": "stream",
          "text": [
            "100%|██████████| 695/695 [00:05<00:00, 134.17it/s]\n",
            "  2%|▏         | 14/695 [00:00<00:04, 137.09it/s]"
          ],
          "name": "stderr"
        },
        {
          "output_type": "stream",
          "text": [
            "248 "
          ],
          "name": "stdout"
        },
        {
          "output_type": "stream",
          "text": [
            "100%|██████████| 695/695 [00:05<00:00, 134.49it/s]\n",
            "  2%|▏         | 13/695 [00:00<00:05, 129.69it/s]"
          ],
          "name": "stderr"
        },
        {
          "output_type": "stream",
          "text": [
            "249 "
          ],
          "name": "stdout"
        },
        {
          "output_type": "stream",
          "text": [
            "100%|██████████| 695/695 [00:05<00:00, 133.31it/s]\n",
            "  2%|▏         | 14/695 [00:00<00:05, 131.02it/s]"
          ],
          "name": "stderr"
        },
        {
          "output_type": "stream",
          "text": [
            "250 "
          ],
          "name": "stdout"
        },
        {
          "output_type": "stream",
          "text": [
            "100%|██████████| 695/695 [00:05<00:00, 135.84it/s]\n",
            "  2%|▏         | 14/695 [00:00<00:04, 138.66it/s]"
          ],
          "name": "stderr"
        },
        {
          "output_type": "stream",
          "text": [
            "251 "
          ],
          "name": "stdout"
        },
        {
          "output_type": "stream",
          "text": [
            "100%|██████████| 695/695 [00:05<00:00, 133.71it/s]\n",
            "  2%|▏         | 13/695 [00:00<00:05, 127.49it/s]"
          ],
          "name": "stderr"
        },
        {
          "output_type": "stream",
          "text": [
            "252 "
          ],
          "name": "stdout"
        },
        {
          "output_type": "stream",
          "text": [
            "100%|██████████| 695/695 [00:05<00:00, 134.87it/s]\n",
            "  2%|▏         | 14/695 [00:00<00:05, 134.75it/s]"
          ],
          "name": "stderr"
        },
        {
          "output_type": "stream",
          "text": [
            "253 "
          ],
          "name": "stdout"
        },
        {
          "output_type": "stream",
          "text": [
            "100%|██████████| 695/695 [00:05<00:00, 134.91it/s]\n",
            "  2%|▏         | 13/695 [00:00<00:05, 125.64it/s]"
          ],
          "name": "stderr"
        },
        {
          "output_type": "stream",
          "text": [
            "254 "
          ],
          "name": "stdout"
        },
        {
          "output_type": "stream",
          "text": [
            "100%|██████████| 695/695 [00:05<00:00, 135.38it/s]\n",
            "  2%|▏         | 15/695 [00:00<00:04, 142.58it/s]"
          ],
          "name": "stderr"
        },
        {
          "output_type": "stream",
          "text": [
            "255 "
          ],
          "name": "stdout"
        },
        {
          "output_type": "stream",
          "text": [
            "100%|██████████| 695/695 [00:05<00:00, 134.35it/s]\n",
            "  2%|▏         | 14/695 [00:00<00:04, 136.71it/s]"
          ],
          "name": "stderr"
        },
        {
          "output_type": "stream",
          "text": [
            "256 "
          ],
          "name": "stdout"
        },
        {
          "output_type": "stream",
          "text": [
            "100%|██████████| 695/695 [00:05<00:00, 135.10it/s]\n",
            "  2%|▏         | 14/695 [00:00<00:05, 135.12it/s]"
          ],
          "name": "stderr"
        },
        {
          "output_type": "stream",
          "text": [
            "257 "
          ],
          "name": "stdout"
        },
        {
          "output_type": "stream",
          "text": [
            "100%|██████████| 695/695 [00:05<00:00, 133.94it/s]\n",
            "  2%|▏         | 14/695 [00:00<00:05, 132.12it/s]"
          ],
          "name": "stderr"
        },
        {
          "output_type": "stream",
          "text": [
            "258 "
          ],
          "name": "stdout"
        },
        {
          "output_type": "stream",
          "text": [
            "100%|██████████| 695/695 [00:05<00:00, 134.39it/s]\n",
            "  2%|▏         | 13/695 [00:00<00:05, 129.49it/s]"
          ],
          "name": "stderr"
        },
        {
          "output_type": "stream",
          "text": [
            "259 "
          ],
          "name": "stdout"
        },
        {
          "output_type": "stream",
          "text": [
            "100%|██████████| 695/695 [00:05<00:00, 134.14it/s]\n",
            "  2%|▏         | 14/695 [00:00<00:05, 135.01it/s]"
          ],
          "name": "stderr"
        },
        {
          "output_type": "stream",
          "text": [
            "260 "
          ],
          "name": "stdout"
        },
        {
          "output_type": "stream",
          "text": [
            "100%|██████████| 695/695 [00:05<00:00, 134.56it/s]\n",
            "  2%|▏         | 13/695 [00:00<00:05, 126.15it/s]"
          ],
          "name": "stderr"
        },
        {
          "output_type": "stream",
          "text": [
            "261 "
          ],
          "name": "stdout"
        },
        {
          "output_type": "stream",
          "text": [
            "100%|██████████| 695/695 [00:05<00:00, 134.39it/s]\n",
            "  2%|▏         | 14/695 [00:00<00:04, 137.73it/s]"
          ],
          "name": "stderr"
        },
        {
          "output_type": "stream",
          "text": [
            "262 "
          ],
          "name": "stdout"
        },
        {
          "output_type": "stream",
          "text": [
            "100%|██████████| 695/695 [00:05<00:00, 135.88it/s]\n",
            "  2%|▏         | 14/695 [00:00<00:05, 134.34it/s]"
          ],
          "name": "stderr"
        },
        {
          "output_type": "stream",
          "text": [
            "263 "
          ],
          "name": "stdout"
        },
        {
          "output_type": "stream",
          "text": [
            "100%|██████████| 695/695 [00:05<00:00, 133.30it/s]\n",
            "  2%|▏         | 13/695 [00:00<00:05, 129.48it/s]"
          ],
          "name": "stderr"
        },
        {
          "output_type": "stream",
          "text": [
            "264 "
          ],
          "name": "stdout"
        },
        {
          "output_type": "stream",
          "text": [
            "100%|██████████| 695/695 [00:05<00:00, 133.96it/s]\n",
            "  2%|▏         | 13/695 [00:00<00:05, 128.55it/s]"
          ],
          "name": "stderr"
        },
        {
          "output_type": "stream",
          "text": [
            "265 "
          ],
          "name": "stdout"
        },
        {
          "output_type": "stream",
          "text": [
            "100%|██████████| 695/695 [00:05<00:00, 133.53it/s]\n",
            "  2%|▏         | 14/695 [00:00<00:04, 138.47it/s]"
          ],
          "name": "stderr"
        },
        {
          "output_type": "stream",
          "text": [
            "266 "
          ],
          "name": "stdout"
        },
        {
          "output_type": "stream",
          "text": [
            "100%|██████████| 695/695 [00:05<00:00, 132.94it/s]\n",
            "  2%|▏         | 14/695 [00:00<00:05, 132.63it/s]"
          ],
          "name": "stderr"
        },
        {
          "output_type": "stream",
          "text": [
            "267 "
          ],
          "name": "stdout"
        },
        {
          "output_type": "stream",
          "text": [
            "100%|██████████| 695/695 [00:05<00:00, 133.53it/s]\n",
            "  2%|▏         | 14/695 [00:00<00:05, 135.87it/s]"
          ],
          "name": "stderr"
        },
        {
          "output_type": "stream",
          "text": [
            "268 "
          ],
          "name": "stdout"
        },
        {
          "output_type": "stream",
          "text": [
            "100%|██████████| 695/695 [00:05<00:00, 133.62it/s]\n",
            "  2%|▏         | 14/695 [00:00<00:04, 136.28it/s]"
          ],
          "name": "stderr"
        },
        {
          "output_type": "stream",
          "text": [
            "269 "
          ],
          "name": "stdout"
        },
        {
          "output_type": "stream",
          "text": [
            "100%|██████████| 695/695 [00:05<00:00, 135.04it/s]\n",
            "  2%|▏         | 14/695 [00:00<00:05, 133.09it/s]"
          ],
          "name": "stderr"
        },
        {
          "output_type": "stream",
          "text": [
            "270 "
          ],
          "name": "stdout"
        },
        {
          "output_type": "stream",
          "text": [
            "100%|██████████| 695/695 [00:05<00:00, 133.00it/s]\n",
            "  2%|▏         | 14/695 [00:00<00:04, 137.09it/s]"
          ],
          "name": "stderr"
        },
        {
          "output_type": "stream",
          "text": [
            "271 "
          ],
          "name": "stdout"
        },
        {
          "output_type": "stream",
          "text": [
            "100%|██████████| 695/695 [00:05<00:00, 133.98it/s]\n",
            "  2%|▏         | 14/695 [00:00<00:05, 133.16it/s]"
          ],
          "name": "stderr"
        },
        {
          "output_type": "stream",
          "text": [
            "272 "
          ],
          "name": "stdout"
        },
        {
          "output_type": "stream",
          "text": [
            "100%|██████████| 695/695 [00:05<00:00, 134.10it/s]\n",
            "  2%|▏         | 14/695 [00:00<00:04, 137.53it/s]"
          ],
          "name": "stderr"
        },
        {
          "output_type": "stream",
          "text": [
            "273 "
          ],
          "name": "stdout"
        },
        {
          "output_type": "stream",
          "text": [
            "100%|██████████| 695/695 [00:05<00:00, 134.81it/s]\n",
            "  2%|▏         | 14/695 [00:00<00:04, 139.53it/s]"
          ],
          "name": "stderr"
        },
        {
          "output_type": "stream",
          "text": [
            "274 "
          ],
          "name": "stdout"
        },
        {
          "output_type": "stream",
          "text": [
            "100%|██████████| 695/695 [00:05<00:00, 133.71it/s]\n",
            "  2%|▏         | 14/695 [00:00<00:05, 131.37it/s]"
          ],
          "name": "stderr"
        },
        {
          "output_type": "stream",
          "text": [
            "275 "
          ],
          "name": "stdout"
        },
        {
          "output_type": "stream",
          "text": [
            "100%|██████████| 695/695 [00:05<00:00, 133.78it/s]\n",
            "  2%|▏         | 14/695 [00:00<00:05, 131.94it/s]"
          ],
          "name": "stderr"
        },
        {
          "output_type": "stream",
          "text": [
            "276 "
          ],
          "name": "stdout"
        },
        {
          "output_type": "stream",
          "text": [
            "100%|██████████| 695/695 [00:05<00:00, 134.02it/s]\n",
            "  2%|▏         | 13/695 [00:00<00:05, 129.70it/s]"
          ],
          "name": "stderr"
        },
        {
          "output_type": "stream",
          "text": [
            "277 "
          ],
          "name": "stdout"
        },
        {
          "output_type": "stream",
          "text": [
            "100%|██████████| 695/695 [00:05<00:00, 133.83it/s]\n",
            "  2%|▏         | 13/695 [00:00<00:05, 123.82it/s]"
          ],
          "name": "stderr"
        },
        {
          "output_type": "stream",
          "text": [
            "278 "
          ],
          "name": "stdout"
        },
        {
          "output_type": "stream",
          "text": [
            "100%|██████████| 695/695 [00:05<00:00, 132.02it/s]\n",
            "  2%|▏         | 14/695 [00:00<00:05, 133.28it/s]"
          ],
          "name": "stderr"
        },
        {
          "output_type": "stream",
          "text": [
            "279 "
          ],
          "name": "stdout"
        },
        {
          "output_type": "stream",
          "text": [
            "100%|██████████| 695/695 [00:05<00:00, 132.24it/s]\n",
            "  2%|▏         | 13/695 [00:00<00:05, 129.96it/s]"
          ],
          "name": "stderr"
        },
        {
          "output_type": "stream",
          "text": [
            "280 "
          ],
          "name": "stdout"
        },
        {
          "output_type": "stream",
          "text": [
            "100%|██████████| 695/695 [00:05<00:00, 133.51it/s]\n",
            "  2%|▏         | 14/695 [00:00<00:04, 137.32it/s]"
          ],
          "name": "stderr"
        },
        {
          "output_type": "stream",
          "text": [
            "281 "
          ],
          "name": "stdout"
        },
        {
          "output_type": "stream",
          "text": [
            "100%|██████████| 695/695 [00:05<00:00, 134.17it/s]\n",
            "  2%|▏         | 13/695 [00:00<00:05, 126.62it/s]"
          ],
          "name": "stderr"
        },
        {
          "output_type": "stream",
          "text": [
            "282 "
          ],
          "name": "stdout"
        },
        {
          "output_type": "stream",
          "text": [
            "100%|██████████| 695/695 [00:05<00:00, 134.00it/s]\n",
            "  2%|▏         | 14/695 [00:00<00:04, 139.41it/s]"
          ],
          "name": "stderr"
        },
        {
          "output_type": "stream",
          "text": [
            "283 "
          ],
          "name": "stdout"
        },
        {
          "output_type": "stream",
          "text": [
            "100%|██████████| 695/695 [00:05<00:00, 132.64it/s]\n",
            "  2%|▏         | 14/695 [00:00<00:05, 133.84it/s]"
          ],
          "name": "stderr"
        },
        {
          "output_type": "stream",
          "text": [
            "284 "
          ],
          "name": "stdout"
        },
        {
          "output_type": "stream",
          "text": [
            "100%|██████████| 695/695 [00:05<00:00, 134.35it/s]\n",
            "  2%|▏         | 14/695 [00:00<00:05, 133.23it/s]"
          ],
          "name": "stderr"
        },
        {
          "output_type": "stream",
          "text": [
            "285 "
          ],
          "name": "stdout"
        },
        {
          "output_type": "stream",
          "text": [
            "100%|██████████| 695/695 [00:05<00:00, 133.96it/s]\n",
            "  2%|▏         | 14/695 [00:00<00:05, 132.15it/s]"
          ],
          "name": "stderr"
        },
        {
          "output_type": "stream",
          "text": [
            "286 "
          ],
          "name": "stdout"
        },
        {
          "output_type": "stream",
          "text": [
            "100%|██████████| 695/695 [00:05<00:00, 133.96it/s]\n",
            "  2%|▏         | 13/695 [00:00<00:05, 126.96it/s]"
          ],
          "name": "stderr"
        },
        {
          "output_type": "stream",
          "text": [
            "287 "
          ],
          "name": "stdout"
        },
        {
          "output_type": "stream",
          "text": [
            "100%|██████████| 695/695 [00:05<00:00, 134.77it/s]\n",
            "  2%|▏         | 13/695 [00:00<00:05, 129.52it/s]"
          ],
          "name": "stderr"
        },
        {
          "output_type": "stream",
          "text": [
            "288 "
          ],
          "name": "stdout"
        },
        {
          "output_type": "stream",
          "text": [
            "100%|██████████| 695/695 [00:05<00:00, 134.60it/s]\n",
            "  2%|▏         | 14/695 [00:00<00:05, 132.38it/s]"
          ],
          "name": "stderr"
        },
        {
          "output_type": "stream",
          "text": [
            "289 "
          ],
          "name": "stdout"
        },
        {
          "output_type": "stream",
          "text": [
            "100%|██████████| 695/695 [00:05<00:00, 132.84it/s]\n",
            "  2%|▏         | 14/695 [00:00<00:05, 135.65it/s]"
          ],
          "name": "stderr"
        },
        {
          "output_type": "stream",
          "text": [
            "290 "
          ],
          "name": "stdout"
        },
        {
          "output_type": "stream",
          "text": [
            "100%|██████████| 695/695 [00:05<00:00, 133.53it/s]\n",
            "  2%|▏         | 13/695 [00:00<00:05, 128.10it/s]"
          ],
          "name": "stderr"
        },
        {
          "output_type": "stream",
          "text": [
            "291 "
          ],
          "name": "stdout"
        },
        {
          "output_type": "stream",
          "text": [
            "100%|██████████| 695/695 [00:05<00:00, 132.91it/s]\n",
            "  2%|▏         | 13/695 [00:00<00:05, 129.89it/s]"
          ],
          "name": "stderr"
        },
        {
          "output_type": "stream",
          "text": [
            "292 "
          ],
          "name": "stdout"
        },
        {
          "output_type": "stream",
          "text": [
            "100%|██████████| 695/695 [00:05<00:00, 133.93it/s]\n",
            "  2%|▏         | 14/695 [00:00<00:04, 138.96it/s]"
          ],
          "name": "stderr"
        },
        {
          "output_type": "stream",
          "text": [
            "293 "
          ],
          "name": "stdout"
        },
        {
          "output_type": "stream",
          "text": [
            "100%|██████████| 695/695 [00:05<00:00, 134.26it/s]\n",
            "  2%|▏         | 14/695 [00:00<00:05, 133.97it/s]"
          ],
          "name": "stderr"
        },
        {
          "output_type": "stream",
          "text": [
            "294 "
          ],
          "name": "stdout"
        },
        {
          "output_type": "stream",
          "text": [
            "100%|██████████| 695/695 [00:05<00:00, 133.17it/s]\n",
            "  2%|▏         | 14/695 [00:00<00:05, 135.63it/s]"
          ],
          "name": "stderr"
        },
        {
          "output_type": "stream",
          "text": [
            "295 "
          ],
          "name": "stdout"
        },
        {
          "output_type": "stream",
          "text": [
            "100%|██████████| 695/695 [00:05<00:00, 131.78it/s]\n",
            "  2%|▏         | 14/695 [00:00<00:05, 133.71it/s]"
          ],
          "name": "stderr"
        },
        {
          "output_type": "stream",
          "text": [
            "296 "
          ],
          "name": "stdout"
        },
        {
          "output_type": "stream",
          "text": [
            "100%|██████████| 695/695 [00:05<00:00, 132.85it/s]\n",
            "  2%|▏         | 14/695 [00:00<00:05, 132.21it/s]"
          ],
          "name": "stderr"
        },
        {
          "output_type": "stream",
          "text": [
            "297 "
          ],
          "name": "stdout"
        },
        {
          "output_type": "stream",
          "text": [
            "100%|██████████| 695/695 [00:05<00:00, 133.53it/s]\n",
            "  2%|▏         | 14/695 [00:00<00:05, 132.47it/s]"
          ],
          "name": "stderr"
        },
        {
          "output_type": "stream",
          "text": [
            "298 "
          ],
          "name": "stdout"
        },
        {
          "output_type": "stream",
          "text": [
            "100%|██████████| 695/695 [00:05<00:00, 134.10it/s]\n",
            "  2%|▏         | 14/695 [00:00<00:05, 131.80it/s]"
          ],
          "name": "stderr"
        },
        {
          "output_type": "stream",
          "text": [
            "299 "
          ],
          "name": "stdout"
        },
        {
          "output_type": "stream",
          "text": [
            "100%|██████████| 695/695 [00:05<00:00, 134.19it/s]\n",
            "  2%|▏         | 14/695 [00:00<00:05, 135.74it/s]"
          ],
          "name": "stderr"
        },
        {
          "output_type": "stream",
          "text": [
            "300 "
          ],
          "name": "stdout"
        },
        {
          "output_type": "stream",
          "text": [
            "100%|██████████| 695/695 [00:05<00:00, 132.06it/s]\n",
            "  2%|▏         | 14/695 [00:00<00:05, 132.29it/s]"
          ],
          "name": "stderr"
        },
        {
          "output_type": "stream",
          "text": [
            "301 "
          ],
          "name": "stdout"
        },
        {
          "output_type": "stream",
          "text": [
            "100%|██████████| 695/695 [00:05<00:00, 131.33it/s]\n",
            "  2%|▏         | 14/695 [00:00<00:05, 131.84it/s]"
          ],
          "name": "stderr"
        },
        {
          "output_type": "stream",
          "text": [
            "302 "
          ],
          "name": "stdout"
        },
        {
          "output_type": "stream",
          "text": [
            "100%|██████████| 695/695 [00:05<00:00, 132.92it/s]\n",
            "  2%|▏         | 14/695 [00:00<00:05, 132.79it/s]"
          ],
          "name": "stderr"
        },
        {
          "output_type": "stream",
          "text": [
            "303 "
          ],
          "name": "stdout"
        },
        {
          "output_type": "stream",
          "text": [
            "100%|██████████| 695/695 [00:05<00:00, 134.21it/s]\n",
            "  2%|▏         | 13/695 [00:00<00:05, 127.52it/s]"
          ],
          "name": "stderr"
        },
        {
          "output_type": "stream",
          "text": [
            "304 "
          ],
          "name": "stdout"
        },
        {
          "output_type": "stream",
          "text": [
            "100%|██████████| 695/695 [00:05<00:00, 133.23it/s]\n",
            "  2%|▏         | 14/695 [00:00<00:04, 139.57it/s]"
          ],
          "name": "stderr"
        },
        {
          "output_type": "stream",
          "text": [
            "305 "
          ],
          "name": "stdout"
        },
        {
          "output_type": "stream",
          "text": [
            "100%|██████████| 695/695 [00:05<00:00, 134.29it/s]\n",
            "  2%|▏         | 14/695 [00:00<00:05, 135.42it/s]"
          ],
          "name": "stderr"
        },
        {
          "output_type": "stream",
          "text": [
            "306 "
          ],
          "name": "stdout"
        },
        {
          "output_type": "stream",
          "text": [
            "100%|██████████| 695/695 [00:05<00:00, 133.12it/s]\n",
            "  2%|▏         | 14/695 [00:00<00:04, 139.25it/s]"
          ],
          "name": "stderr"
        },
        {
          "output_type": "stream",
          "text": [
            "307 "
          ],
          "name": "stdout"
        },
        {
          "output_type": "stream",
          "text": [
            "100%|██████████| 695/695 [00:05<00:00, 134.04it/s]\n",
            "  2%|▏         | 13/695 [00:00<00:05, 126.10it/s]"
          ],
          "name": "stderr"
        },
        {
          "output_type": "stream",
          "text": [
            "308 "
          ],
          "name": "stdout"
        },
        {
          "output_type": "stream",
          "text": [
            "100%|██████████| 695/695 [00:05<00:00, 133.59it/s]\n",
            "  2%|▏         | 14/695 [00:00<00:05, 133.45it/s]"
          ],
          "name": "stderr"
        },
        {
          "output_type": "stream",
          "text": [
            "309 "
          ],
          "name": "stdout"
        },
        {
          "output_type": "stream",
          "text": [
            "100%|██████████| 695/695 [00:05<00:00, 134.22it/s]\n",
            "  2%|▏         | 14/695 [00:00<00:05, 132.84it/s]"
          ],
          "name": "stderr"
        },
        {
          "output_type": "stream",
          "text": [
            "310 "
          ],
          "name": "stdout"
        },
        {
          "output_type": "stream",
          "text": [
            "100%|██████████| 695/695 [00:05<00:00, 132.98it/s]\n",
            "  2%|▏         | 14/695 [00:00<00:05, 133.91it/s]"
          ],
          "name": "stderr"
        },
        {
          "output_type": "stream",
          "text": [
            "311 "
          ],
          "name": "stdout"
        },
        {
          "output_type": "stream",
          "text": [
            "100%|██████████| 695/695 [00:05<00:00, 132.46it/s]\n",
            "  2%|▏         | 14/695 [00:00<00:05, 133.01it/s]"
          ],
          "name": "stderr"
        },
        {
          "output_type": "stream",
          "text": [
            "312 "
          ],
          "name": "stdout"
        },
        {
          "output_type": "stream",
          "text": [
            "100%|██████████| 695/695 [00:05<00:00, 133.12it/s]\n",
            "  2%|▏         | 14/695 [00:00<00:05, 134.85it/s]"
          ],
          "name": "stderr"
        },
        {
          "output_type": "stream",
          "text": [
            "313 "
          ],
          "name": "stdout"
        },
        {
          "output_type": "stream",
          "text": [
            "100%|██████████| 695/695 [00:05<00:00, 134.85it/s]\n",
            "  2%|▏         | 14/695 [00:00<00:05, 131.59it/s]"
          ],
          "name": "stderr"
        },
        {
          "output_type": "stream",
          "text": [
            "314 "
          ],
          "name": "stdout"
        },
        {
          "output_type": "stream",
          "text": [
            "100%|██████████| 695/695 [00:05<00:00, 133.81it/s]\n",
            "  2%|▏         | 14/695 [00:00<00:05, 132.68it/s]"
          ],
          "name": "stderr"
        },
        {
          "output_type": "stream",
          "text": [
            "315 "
          ],
          "name": "stdout"
        },
        {
          "output_type": "stream",
          "text": [
            "100%|██████████| 695/695 [00:05<00:00, 132.71it/s]\n",
            "  2%|▏         | 13/695 [00:00<00:05, 127.27it/s]"
          ],
          "name": "stderr"
        },
        {
          "output_type": "stream",
          "text": [
            "316 "
          ],
          "name": "stdout"
        },
        {
          "output_type": "stream",
          "text": [
            "100%|██████████| 695/695 [00:05<00:00, 133.99it/s]\n",
            "  2%|▏         | 14/695 [00:00<00:05, 131.69it/s]"
          ],
          "name": "stderr"
        },
        {
          "output_type": "stream",
          "text": [
            "317 "
          ],
          "name": "stdout"
        },
        {
          "output_type": "stream",
          "text": [
            "100%|██████████| 695/695 [00:05<00:00, 132.62it/s]\n",
            "  2%|▏         | 13/695 [00:00<00:05, 129.46it/s]"
          ],
          "name": "stderr"
        },
        {
          "output_type": "stream",
          "text": [
            "318 "
          ],
          "name": "stdout"
        },
        {
          "output_type": "stream",
          "text": [
            "100%|██████████| 695/695 [00:05<00:00, 133.51it/s]\n",
            "  2%|▏         | 14/695 [00:00<00:05, 135.12it/s]"
          ],
          "name": "stderr"
        },
        {
          "output_type": "stream",
          "text": [
            "319 "
          ],
          "name": "stdout"
        },
        {
          "output_type": "stream",
          "text": [
            "100%|██████████| 695/695 [00:05<00:00, 134.97it/s]\n",
            "  2%|▏         | 14/695 [00:00<00:05, 134.53it/s]"
          ],
          "name": "stderr"
        },
        {
          "output_type": "stream",
          "text": [
            "320 "
          ],
          "name": "stdout"
        },
        {
          "output_type": "stream",
          "text": [
            "100%|██████████| 695/695 [00:05<00:00, 133.84it/s]\n",
            "  2%|▏         | 14/695 [00:00<00:05, 132.82it/s]"
          ],
          "name": "stderr"
        },
        {
          "output_type": "stream",
          "text": [
            "321 "
          ],
          "name": "stdout"
        },
        {
          "output_type": "stream",
          "text": [
            "100%|██████████| 695/695 [00:05<00:00, 131.83it/s]\n",
            "  2%|▏         | 14/695 [00:00<00:05, 131.15it/s]"
          ],
          "name": "stderr"
        },
        {
          "output_type": "stream",
          "text": [
            "322 "
          ],
          "name": "stdout"
        },
        {
          "output_type": "stream",
          "text": [
            "100%|██████████| 695/695 [00:05<00:00, 134.22it/s]\n",
            "  2%|▏         | 14/695 [00:00<00:05, 134.32it/s]"
          ],
          "name": "stderr"
        },
        {
          "output_type": "stream",
          "text": [
            "323 "
          ],
          "name": "stdout"
        },
        {
          "output_type": "stream",
          "text": [
            "100%|██████████| 695/695 [00:05<00:00, 134.36it/s]\n",
            "  2%|▏         | 12/695 [00:00<00:05, 119.49it/s]"
          ],
          "name": "stderr"
        },
        {
          "output_type": "stream",
          "text": [
            "324 "
          ],
          "name": "stdout"
        },
        {
          "output_type": "stream",
          "text": [
            "100%|██████████| 695/695 [00:05<00:00, 132.36it/s]\n",
            "  2%|▏         | 14/695 [00:00<00:04, 137.97it/s]"
          ],
          "name": "stderr"
        },
        {
          "output_type": "stream",
          "text": [
            "325 "
          ],
          "name": "stdout"
        },
        {
          "output_type": "stream",
          "text": [
            "100%|██████████| 695/695 [00:05<00:00, 131.77it/s]\n",
            "  2%|▏         | 14/695 [00:00<00:05, 130.42it/s]"
          ],
          "name": "stderr"
        },
        {
          "output_type": "stream",
          "text": [
            "326 "
          ],
          "name": "stdout"
        },
        {
          "output_type": "stream",
          "text": [
            "100%|██████████| 695/695 [00:05<00:00, 131.87it/s]\n",
            "  2%|▏         | 14/695 [00:00<00:05, 132.25it/s]"
          ],
          "name": "stderr"
        },
        {
          "output_type": "stream",
          "text": [
            "327 "
          ],
          "name": "stdout"
        },
        {
          "output_type": "stream",
          "text": [
            "100%|██████████| 695/695 [00:05<00:00, 132.46it/s]\n",
            "  2%|▏         | 14/695 [00:00<00:05, 135.32it/s]"
          ],
          "name": "stderr"
        },
        {
          "output_type": "stream",
          "text": [
            "328 "
          ],
          "name": "stdout"
        },
        {
          "output_type": "stream",
          "text": [
            "100%|██████████| 695/695 [00:05<00:00, 136.71it/s]\n",
            "  2%|▏         | 14/695 [00:00<00:04, 136.24it/s]"
          ],
          "name": "stderr"
        },
        {
          "output_type": "stream",
          "text": [
            "329 "
          ],
          "name": "stdout"
        },
        {
          "output_type": "stream",
          "text": [
            "100%|██████████| 695/695 [00:05<00:00, 135.01it/s]\n",
            "  2%|▏         | 13/695 [00:00<00:05, 127.73it/s]"
          ],
          "name": "stderr"
        },
        {
          "output_type": "stream",
          "text": [
            "330 "
          ],
          "name": "stdout"
        },
        {
          "output_type": "stream",
          "text": [
            "100%|██████████| 695/695 [00:05<00:00, 135.01it/s]\n",
            "  2%|▏         | 14/695 [00:00<00:04, 136.20it/s]"
          ],
          "name": "stderr"
        },
        {
          "output_type": "stream",
          "text": [
            "331 "
          ],
          "name": "stdout"
        },
        {
          "output_type": "stream",
          "text": [
            "100%|██████████| 695/695 [00:05<00:00, 136.35it/s]\n",
            "  2%|▏         | 14/695 [00:00<00:05, 132.47it/s]"
          ],
          "name": "stderr"
        },
        {
          "output_type": "stream",
          "text": [
            "332 "
          ],
          "name": "stdout"
        },
        {
          "output_type": "stream",
          "text": [
            "100%|██████████| 695/695 [00:05<00:00, 136.06it/s]\n",
            "  2%|▏         | 14/695 [00:00<00:05, 135.32it/s]"
          ],
          "name": "stderr"
        },
        {
          "output_type": "stream",
          "text": [
            "333 "
          ],
          "name": "stdout"
        },
        {
          "output_type": "stream",
          "text": [
            "100%|██████████| 695/695 [00:05<00:00, 136.36it/s]\n",
            "  2%|▏         | 14/695 [00:00<00:04, 137.58it/s]"
          ],
          "name": "stderr"
        },
        {
          "output_type": "stream",
          "text": [
            "334 "
          ],
          "name": "stdout"
        },
        {
          "output_type": "stream",
          "text": [
            "100%|██████████| 695/695 [00:05<00:00, 135.04it/s]\n",
            "  2%|▏         | 14/695 [00:00<00:05, 134.57it/s]"
          ],
          "name": "stderr"
        },
        {
          "output_type": "stream",
          "text": [
            "335 "
          ],
          "name": "stdout"
        },
        {
          "output_type": "stream",
          "text": [
            "100%|██████████| 695/695 [00:05<00:00, 133.64it/s]\n",
            "  2%|▏         | 13/695 [00:00<00:05, 129.00it/s]"
          ],
          "name": "stderr"
        },
        {
          "output_type": "stream",
          "text": [
            "336 "
          ],
          "name": "stdout"
        },
        {
          "output_type": "stream",
          "text": [
            "100%|██████████| 695/695 [00:05<00:00, 135.74it/s]\n",
            "  2%|▏         | 14/695 [00:00<00:05, 134.92it/s]"
          ],
          "name": "stderr"
        },
        {
          "output_type": "stream",
          "text": [
            "337 "
          ],
          "name": "stdout"
        },
        {
          "output_type": "stream",
          "text": [
            "100%|██████████| 695/695 [00:05<00:00, 131.10it/s]\n",
            "  2%|▏         | 14/695 [00:00<00:05, 132.63it/s]"
          ],
          "name": "stderr"
        },
        {
          "output_type": "stream",
          "text": [
            "338 "
          ],
          "name": "stdout"
        },
        {
          "output_type": "stream",
          "text": [
            "100%|██████████| 695/695 [00:05<00:00, 130.63it/s]\n",
            "  2%|▏         | 13/695 [00:00<00:05, 127.87it/s]"
          ],
          "name": "stderr"
        },
        {
          "output_type": "stream",
          "text": [
            "339 "
          ],
          "name": "stdout"
        },
        {
          "output_type": "stream",
          "text": [
            "100%|██████████| 695/695 [00:05<00:00, 130.88it/s]\n",
            "  2%|▏         | 13/695 [00:00<00:05, 125.22it/s]"
          ],
          "name": "stderr"
        },
        {
          "output_type": "stream",
          "text": [
            "340 "
          ],
          "name": "stdout"
        },
        {
          "output_type": "stream",
          "text": [
            "100%|██████████| 695/695 [00:05<00:00, 130.50it/s]\n",
            "  2%|▏         | 13/695 [00:00<00:05, 128.04it/s]"
          ],
          "name": "stderr"
        },
        {
          "output_type": "stream",
          "text": [
            "341 "
          ],
          "name": "stdout"
        },
        {
          "output_type": "stream",
          "text": [
            "100%|██████████| 695/695 [00:05<00:00, 130.83it/s]\n",
            "  2%|▏         | 14/695 [00:00<00:05, 135.86it/s]"
          ],
          "name": "stderr"
        },
        {
          "output_type": "stream",
          "text": [
            "342 "
          ],
          "name": "stdout"
        },
        {
          "output_type": "stream",
          "text": [
            "100%|██████████| 695/695 [00:05<00:00, 130.99it/s]\n",
            "  2%|▏         | 14/695 [00:00<00:05, 136.17it/s]"
          ],
          "name": "stderr"
        },
        {
          "output_type": "stream",
          "text": [
            "343 "
          ],
          "name": "stdout"
        },
        {
          "output_type": "stream",
          "text": [
            "100%|██████████| 695/695 [00:05<00:00, 133.03it/s]\n",
            "  2%|▏         | 13/695 [00:00<00:05, 124.64it/s]"
          ],
          "name": "stderr"
        },
        {
          "output_type": "stream",
          "text": [
            "344 "
          ],
          "name": "stdout"
        },
        {
          "output_type": "stream",
          "text": [
            "100%|██████████| 695/695 [00:05<00:00, 132.73it/s]\n",
            "  2%|▏         | 13/695 [00:00<00:05, 125.78it/s]"
          ],
          "name": "stderr"
        },
        {
          "output_type": "stream",
          "text": [
            "345 "
          ],
          "name": "stdout"
        },
        {
          "output_type": "stream",
          "text": [
            "100%|██████████| 695/695 [00:05<00:00, 132.10it/s]\n",
            "  2%|▏         | 13/695 [00:00<00:05, 129.53it/s]"
          ],
          "name": "stderr"
        },
        {
          "output_type": "stream",
          "text": [
            "346 "
          ],
          "name": "stdout"
        },
        {
          "output_type": "stream",
          "text": [
            "100%|██████████| 695/695 [00:05<00:00, 131.02it/s]\n",
            "  2%|▏         | 14/695 [00:00<00:05, 132.62it/s]"
          ],
          "name": "stderr"
        },
        {
          "output_type": "stream",
          "text": [
            "347 "
          ],
          "name": "stdout"
        },
        {
          "output_type": "stream",
          "text": [
            "100%|██████████| 695/695 [00:05<00:00, 131.78it/s]\n",
            "  2%|▏         | 13/695 [00:00<00:05, 127.89it/s]"
          ],
          "name": "stderr"
        },
        {
          "output_type": "stream",
          "text": [
            "348 "
          ],
          "name": "stdout"
        },
        {
          "output_type": "stream",
          "text": [
            "100%|██████████| 695/695 [00:05<00:00, 131.64it/s]\n",
            "  2%|▏         | 14/695 [00:00<00:05, 132.07it/s]"
          ],
          "name": "stderr"
        },
        {
          "output_type": "stream",
          "text": [
            "349 "
          ],
          "name": "stdout"
        },
        {
          "output_type": "stream",
          "text": [
            "100%|██████████| 695/695 [00:05<00:00, 133.79it/s]\n",
            "  2%|▏         | 14/695 [00:00<00:05, 131.54it/s]"
          ],
          "name": "stderr"
        },
        {
          "output_type": "stream",
          "text": [
            "350 "
          ],
          "name": "stdout"
        },
        {
          "output_type": "stream",
          "text": [
            "100%|██████████| 695/695 [00:05<00:00, 133.60it/s]\n",
            "  2%|▏         | 14/695 [00:00<00:04, 136.75it/s]"
          ],
          "name": "stderr"
        },
        {
          "output_type": "stream",
          "text": [
            "351 "
          ],
          "name": "stdout"
        },
        {
          "output_type": "stream",
          "text": [
            "100%|██████████| 695/695 [00:05<00:00, 133.87it/s]\n",
            "  2%|▏         | 14/695 [00:00<00:04, 136.88it/s]"
          ],
          "name": "stderr"
        },
        {
          "output_type": "stream",
          "text": [
            "352 "
          ],
          "name": "stdout"
        },
        {
          "output_type": "stream",
          "text": [
            "100%|██████████| 695/695 [00:05<00:00, 132.58it/s]\n",
            "  2%|▏         | 14/695 [00:00<00:05, 131.21it/s]"
          ],
          "name": "stderr"
        },
        {
          "output_type": "stream",
          "text": [
            "353 "
          ],
          "name": "stdout"
        },
        {
          "output_type": "stream",
          "text": [
            "100%|██████████| 695/695 [00:05<00:00, 134.07it/s]\n",
            "  2%|▏         | 14/695 [00:00<00:04, 136.36it/s]"
          ],
          "name": "stderr"
        },
        {
          "output_type": "stream",
          "text": [
            "354 "
          ],
          "name": "stdout"
        },
        {
          "output_type": "stream",
          "text": [
            "100%|██████████| 695/695 [00:05<00:00, 133.98it/s]\n",
            "  2%|▏         | 14/695 [00:00<00:04, 137.01it/s]"
          ],
          "name": "stderr"
        },
        {
          "output_type": "stream",
          "text": [
            "355 "
          ],
          "name": "stdout"
        },
        {
          "output_type": "stream",
          "text": [
            "100%|██████████| 695/695 [00:05<00:00, 135.34it/s]\n",
            "  2%|▏         | 14/695 [00:00<00:04, 139.05it/s]"
          ],
          "name": "stderr"
        },
        {
          "output_type": "stream",
          "text": [
            "356 "
          ],
          "name": "stdout"
        },
        {
          "output_type": "stream",
          "text": [
            "100%|██████████| 695/695 [00:05<00:00, 133.35it/s]\n",
            "  2%|▏         | 13/695 [00:00<00:05, 126.00it/s]"
          ],
          "name": "stderr"
        },
        {
          "output_type": "stream",
          "text": [
            "357 "
          ],
          "name": "stdout"
        },
        {
          "output_type": "stream",
          "text": [
            "100%|██████████| 695/695 [00:05<00:00, 132.39it/s]\n",
            "  2%|▏         | 14/695 [00:00<00:05, 131.92it/s]"
          ],
          "name": "stderr"
        },
        {
          "output_type": "stream",
          "text": [
            "358 "
          ],
          "name": "stdout"
        },
        {
          "output_type": "stream",
          "text": [
            "100%|██████████| 695/695 [00:05<00:00, 133.38it/s]\n",
            "  2%|▏         | 14/695 [00:00<00:05, 135.74it/s]"
          ],
          "name": "stderr"
        },
        {
          "output_type": "stream",
          "text": [
            "359 "
          ],
          "name": "stdout"
        },
        {
          "output_type": "stream",
          "text": [
            "100%|██████████| 695/695 [00:05<00:00, 133.81it/s]\n",
            "  2%|▏         | 14/695 [00:00<00:05, 136.19it/s]"
          ],
          "name": "stderr"
        },
        {
          "output_type": "stream",
          "text": [
            "360 "
          ],
          "name": "stdout"
        },
        {
          "output_type": "stream",
          "text": [
            "100%|██████████| 695/695 [00:05<00:00, 135.19it/s]\n",
            "  2%|▏         | 14/695 [00:00<00:05, 135.81it/s]"
          ],
          "name": "stderr"
        },
        {
          "output_type": "stream",
          "text": [
            "361 "
          ],
          "name": "stdout"
        },
        {
          "output_type": "stream",
          "text": [
            "100%|██████████| 695/695 [00:05<00:00, 134.44it/s]\n",
            "  2%|▏         | 14/695 [00:00<00:05, 130.89it/s]"
          ],
          "name": "stderr"
        },
        {
          "output_type": "stream",
          "text": [
            "362 "
          ],
          "name": "stdout"
        },
        {
          "output_type": "stream",
          "text": [
            "100%|██████████| 695/695 [00:05<00:00, 135.36it/s]\n",
            "  2%|▏         | 14/695 [00:00<00:04, 136.52it/s]"
          ],
          "name": "stderr"
        },
        {
          "output_type": "stream",
          "text": [
            "363 "
          ],
          "name": "stdout"
        },
        {
          "output_type": "stream",
          "text": [
            "100%|██████████| 695/695 [00:05<00:00, 134.99it/s]\n",
            "  2%|▏         | 14/695 [00:00<00:05, 135.09it/s]"
          ],
          "name": "stderr"
        },
        {
          "output_type": "stream",
          "text": [
            "364 "
          ],
          "name": "stdout"
        },
        {
          "output_type": "stream",
          "text": [
            "100%|██████████| 695/695 [00:05<00:00, 133.45it/s]\n",
            "  2%|▏         | 14/695 [00:00<00:04, 137.14it/s]"
          ],
          "name": "stderr"
        },
        {
          "output_type": "stream",
          "text": [
            "365 "
          ],
          "name": "stdout"
        },
        {
          "output_type": "stream",
          "text": [
            "100%|██████████| 695/695 [00:05<00:00, 134.39it/s]\n",
            "  2%|▏         | 14/695 [00:00<00:05, 134.85it/s]"
          ],
          "name": "stderr"
        },
        {
          "output_type": "stream",
          "text": [
            "366 "
          ],
          "name": "stdout"
        },
        {
          "output_type": "stream",
          "text": [
            "100%|██████████| 695/695 [00:05<00:00, 134.14it/s]\n",
            "  2%|▏         | 13/695 [00:00<00:05, 124.68it/s]"
          ],
          "name": "stderr"
        },
        {
          "output_type": "stream",
          "text": [
            "367 "
          ],
          "name": "stdout"
        },
        {
          "output_type": "stream",
          "text": [
            "100%|██████████| 695/695 [00:05<00:00, 134.98it/s]\n",
            "  2%|▏         | 13/695 [00:00<00:05, 123.54it/s]"
          ],
          "name": "stderr"
        },
        {
          "output_type": "stream",
          "text": [
            "368 "
          ],
          "name": "stdout"
        },
        {
          "output_type": "stream",
          "text": [
            "100%|██████████| 695/695 [00:05<00:00, 134.82it/s]\n",
            "  2%|▏         | 14/695 [00:00<00:05, 134.05it/s]"
          ],
          "name": "stderr"
        },
        {
          "output_type": "stream",
          "text": [
            "369 "
          ],
          "name": "stdout"
        },
        {
          "output_type": "stream",
          "text": [
            "100%|██████████| 695/695 [00:05<00:00, 134.28it/s]\n",
            "  2%|▏         | 14/695 [00:00<00:05, 130.84it/s]"
          ],
          "name": "stderr"
        },
        {
          "output_type": "stream",
          "text": [
            "370 "
          ],
          "name": "stdout"
        },
        {
          "output_type": "stream",
          "text": [
            "100%|██████████| 695/695 [00:05<00:00, 134.02it/s]\n",
            "  2%|▏         | 14/695 [00:00<00:05, 133.00it/s]"
          ],
          "name": "stderr"
        },
        {
          "output_type": "stream",
          "text": [
            "371 "
          ],
          "name": "stdout"
        },
        {
          "output_type": "stream",
          "text": [
            "100%|██████████| 695/695 [00:05<00:00, 134.66it/s]\n",
            "  2%|▏         | 14/695 [00:00<00:05, 135.63it/s]"
          ],
          "name": "stderr"
        },
        {
          "output_type": "stream",
          "text": [
            "372 "
          ],
          "name": "stdout"
        },
        {
          "output_type": "stream",
          "text": [
            "100%|██████████| 695/695 [00:05<00:00, 134.68it/s]\n",
            "  2%|▏         | 14/695 [00:00<00:05, 131.38it/s]"
          ],
          "name": "stderr"
        },
        {
          "output_type": "stream",
          "text": [
            "373 "
          ],
          "name": "stdout"
        },
        {
          "output_type": "stream",
          "text": [
            "100%|██████████| 695/695 [00:05<00:00, 134.54it/s]\n",
            "  2%|▏         | 13/695 [00:00<00:05, 128.84it/s]"
          ],
          "name": "stderr"
        },
        {
          "output_type": "stream",
          "text": [
            "374 "
          ],
          "name": "stdout"
        },
        {
          "output_type": "stream",
          "text": [
            "100%|██████████| 695/695 [00:05<00:00, 135.23it/s]\n",
            "  2%|▏         | 14/695 [00:00<00:04, 136.36it/s]"
          ],
          "name": "stderr"
        },
        {
          "output_type": "stream",
          "text": [
            "375 "
          ],
          "name": "stdout"
        },
        {
          "output_type": "stream",
          "text": [
            "100%|██████████| 695/695 [00:05<00:00, 135.55it/s]\n",
            "  2%|▏         | 13/695 [00:00<00:05, 122.90it/s]"
          ],
          "name": "stderr"
        },
        {
          "output_type": "stream",
          "text": [
            "376 "
          ],
          "name": "stdout"
        },
        {
          "output_type": "stream",
          "text": [
            "100%|██████████| 695/695 [00:05<00:00, 134.83it/s]\n",
            "  2%|▏         | 14/695 [00:00<00:05, 129.70it/s]"
          ],
          "name": "stderr"
        },
        {
          "output_type": "stream",
          "text": [
            "377 "
          ],
          "name": "stdout"
        },
        {
          "output_type": "stream",
          "text": [
            "100%|██████████| 695/695 [00:05<00:00, 134.45it/s]\n",
            "  2%|▏         | 14/695 [00:00<00:04, 137.74it/s]"
          ],
          "name": "stderr"
        },
        {
          "output_type": "stream",
          "text": [
            "378 "
          ],
          "name": "stdout"
        },
        {
          "output_type": "stream",
          "text": [
            "100%|██████████| 695/695 [00:05<00:00, 135.44it/s]\n",
            "  2%|▏         | 15/695 [00:00<00:04, 140.88it/s]"
          ],
          "name": "stderr"
        },
        {
          "output_type": "stream",
          "text": [
            "379 "
          ],
          "name": "stdout"
        },
        {
          "output_type": "stream",
          "text": [
            "100%|██████████| 695/695 [00:05<00:00, 135.25it/s]\n",
            "  2%|▏         | 14/695 [00:00<00:05, 133.83it/s]"
          ],
          "name": "stderr"
        },
        {
          "output_type": "stream",
          "text": [
            "380 "
          ],
          "name": "stdout"
        },
        {
          "output_type": "stream",
          "text": [
            "100%|██████████| 695/695 [00:05<00:00, 134.78it/s]\n",
            "  2%|▏         | 14/695 [00:00<00:05, 130.99it/s]"
          ],
          "name": "stderr"
        },
        {
          "output_type": "stream",
          "text": [
            "381 "
          ],
          "name": "stdout"
        },
        {
          "output_type": "stream",
          "text": [
            "100%|██████████| 695/695 [00:05<00:00, 134.62it/s]\n",
            "  2%|▏         | 14/695 [00:00<00:04, 137.01it/s]"
          ],
          "name": "stderr"
        },
        {
          "output_type": "stream",
          "text": [
            "382 "
          ],
          "name": "stdout"
        },
        {
          "output_type": "stream",
          "text": [
            "100%|██████████| 695/695 [00:05<00:00, 135.62it/s]\n",
            "  2%|▏         | 13/695 [00:00<00:05, 129.85it/s]"
          ],
          "name": "stderr"
        },
        {
          "output_type": "stream",
          "text": [
            "383 "
          ],
          "name": "stdout"
        },
        {
          "output_type": "stream",
          "text": [
            "100%|██████████| 695/695 [00:05<00:00, 135.11it/s]\n",
            "  2%|▏         | 13/695 [00:00<00:05, 129.67it/s]"
          ],
          "name": "stderr"
        },
        {
          "output_type": "stream",
          "text": [
            "384 "
          ],
          "name": "stdout"
        },
        {
          "output_type": "stream",
          "text": [
            "100%|██████████| 695/695 [00:05<00:00, 133.57it/s]\n",
            "  2%|▏         | 14/695 [00:00<00:05, 134.06it/s]"
          ],
          "name": "stderr"
        },
        {
          "output_type": "stream",
          "text": [
            "385 "
          ],
          "name": "stdout"
        },
        {
          "output_type": "stream",
          "text": [
            "100%|██████████| 695/695 [00:05<00:00, 135.92it/s]\n",
            "  2%|▏         | 14/695 [00:00<00:04, 137.90it/s]"
          ],
          "name": "stderr"
        },
        {
          "output_type": "stream",
          "text": [
            "386 "
          ],
          "name": "stdout"
        },
        {
          "output_type": "stream",
          "text": [
            "100%|██████████| 695/695 [00:05<00:00, 134.81it/s]\n",
            "  2%|▏         | 14/695 [00:00<00:04, 136.79it/s]"
          ],
          "name": "stderr"
        },
        {
          "output_type": "stream",
          "text": [
            "387 "
          ],
          "name": "stdout"
        },
        {
          "output_type": "stream",
          "text": [
            "100%|██████████| 695/695 [00:05<00:00, 135.05it/s]\n",
            "  2%|▏         | 14/695 [00:00<00:04, 137.85it/s]"
          ],
          "name": "stderr"
        },
        {
          "output_type": "stream",
          "text": [
            "388 "
          ],
          "name": "stdout"
        },
        {
          "output_type": "stream",
          "text": [
            "100%|██████████| 695/695 [00:05<00:00, 133.97it/s]\n",
            "  2%|▏         | 14/695 [00:00<00:05, 135.32it/s]"
          ],
          "name": "stderr"
        },
        {
          "output_type": "stream",
          "text": [
            "389 "
          ],
          "name": "stdout"
        },
        {
          "output_type": "stream",
          "text": [
            "100%|██████████| 695/695 [00:05<00:00, 135.57it/s]\n",
            "  2%|▏         | 14/695 [00:00<00:05, 135.83it/s]"
          ],
          "name": "stderr"
        },
        {
          "output_type": "stream",
          "text": [
            "390 "
          ],
          "name": "stdout"
        },
        {
          "output_type": "stream",
          "text": [
            "100%|██████████| 695/695 [00:05<00:00, 134.86it/s]\n",
            "  2%|▏         | 14/695 [00:00<00:05, 134.83it/s]"
          ],
          "name": "stderr"
        },
        {
          "output_type": "stream",
          "text": [
            "391 "
          ],
          "name": "stdout"
        },
        {
          "output_type": "stream",
          "text": [
            "100%|██████████| 695/695 [00:05<00:00, 134.32it/s]\n",
            "  2%|▏         | 13/695 [00:00<00:05, 129.78it/s]"
          ],
          "name": "stderr"
        },
        {
          "output_type": "stream",
          "text": [
            "392 "
          ],
          "name": "stdout"
        },
        {
          "output_type": "stream",
          "text": [
            "100%|██████████| 695/695 [00:05<00:00, 135.63it/s]\n",
            "  2%|▏         | 13/695 [00:00<00:05, 129.10it/s]"
          ],
          "name": "stderr"
        },
        {
          "output_type": "stream",
          "text": [
            "393 "
          ],
          "name": "stdout"
        },
        {
          "output_type": "stream",
          "text": [
            "100%|██████████| 695/695 [00:05<00:00, 134.56it/s]\n",
            "  2%|▏         | 13/695 [00:00<00:05, 127.94it/s]"
          ],
          "name": "stderr"
        },
        {
          "output_type": "stream",
          "text": [
            "394 "
          ],
          "name": "stdout"
        },
        {
          "output_type": "stream",
          "text": [
            "100%|██████████| 695/695 [00:05<00:00, 135.83it/s]\n",
            "  2%|▏         | 14/695 [00:00<00:04, 137.75it/s]"
          ],
          "name": "stderr"
        },
        {
          "output_type": "stream",
          "text": [
            "395 "
          ],
          "name": "stdout"
        },
        {
          "output_type": "stream",
          "text": [
            "100%|██████████| 695/695 [00:05<00:00, 135.89it/s]\n",
            "  2%|▏         | 15/695 [00:00<00:04, 140.62it/s]"
          ],
          "name": "stderr"
        },
        {
          "output_type": "stream",
          "text": [
            "396 "
          ],
          "name": "stdout"
        },
        {
          "output_type": "stream",
          "text": [
            "100%|██████████| 695/695 [00:05<00:00, 135.34it/s]\n",
            "  2%|▏         | 14/695 [00:00<00:05, 132.51it/s]"
          ],
          "name": "stderr"
        },
        {
          "output_type": "stream",
          "text": [
            "397 "
          ],
          "name": "stdout"
        },
        {
          "output_type": "stream",
          "text": [
            "100%|██████████| 695/695 [00:05<00:00, 134.12it/s]\n",
            "  2%|▏         | 14/695 [00:00<00:04, 138.40it/s]"
          ],
          "name": "stderr"
        },
        {
          "output_type": "stream",
          "text": [
            "398 "
          ],
          "name": "stdout"
        },
        {
          "output_type": "stream",
          "text": [
            "100%|██████████| 695/695 [00:05<00:00, 134.20it/s]\n",
            "  2%|▏         | 14/695 [00:00<00:04, 136.28it/s]"
          ],
          "name": "stderr"
        },
        {
          "output_type": "stream",
          "text": [
            "399 "
          ],
          "name": "stdout"
        },
        {
          "output_type": "stream",
          "text": [
            "100%|██████████| 695/695 [00:05<00:00, 135.17it/s]\n",
            "  2%|▏         | 14/695 [00:00<00:05, 132.28it/s]"
          ],
          "name": "stderr"
        },
        {
          "output_type": "stream",
          "text": [
            "400 "
          ],
          "name": "stdout"
        },
        {
          "output_type": "stream",
          "text": [
            "100%|██████████| 695/695 [00:05<00:00, 136.90it/s]\n",
            "  2%|▏         | 14/695 [00:00<00:05, 135.29it/s]"
          ],
          "name": "stderr"
        },
        {
          "output_type": "stream",
          "text": [
            "401 "
          ],
          "name": "stdout"
        },
        {
          "output_type": "stream",
          "text": [
            "100%|██████████| 695/695 [00:05<00:00, 136.15it/s]\n",
            "  2%|▏         | 14/695 [00:00<00:05, 135.78it/s]"
          ],
          "name": "stderr"
        },
        {
          "output_type": "stream",
          "text": [
            "402 "
          ],
          "name": "stdout"
        },
        {
          "output_type": "stream",
          "text": [
            "100%|██████████| 695/695 [00:05<00:00, 135.60it/s]\n",
            "  2%|▏         | 14/695 [00:00<00:04, 137.11it/s]"
          ],
          "name": "stderr"
        },
        {
          "output_type": "stream",
          "text": [
            "403 "
          ],
          "name": "stdout"
        },
        {
          "output_type": "stream",
          "text": [
            "100%|██████████| 695/695 [00:05<00:00, 133.72it/s]\n",
            "  2%|▏         | 14/695 [00:00<00:04, 137.62it/s]"
          ],
          "name": "stderr"
        },
        {
          "output_type": "stream",
          "text": [
            "404 "
          ],
          "name": "stdout"
        },
        {
          "output_type": "stream",
          "text": [
            "100%|██████████| 695/695 [00:05<00:00, 134.84it/s]\n",
            "  2%|▏         | 14/695 [00:00<00:05, 136.07it/s]"
          ],
          "name": "stderr"
        },
        {
          "output_type": "stream",
          "text": [
            "405 "
          ],
          "name": "stdout"
        },
        {
          "output_type": "stream",
          "text": [
            "100%|██████████| 695/695 [00:05<00:00, 132.13it/s]\n",
            "  2%|▏         | 13/695 [00:00<00:05, 120.88it/s]"
          ],
          "name": "stderr"
        },
        {
          "output_type": "stream",
          "text": [
            "406 "
          ],
          "name": "stdout"
        },
        {
          "output_type": "stream",
          "text": [
            "100%|██████████| 695/695 [00:05<00:00, 130.87it/s]\n",
            "  2%|▏         | 13/695 [00:00<00:05, 123.23it/s]"
          ],
          "name": "stderr"
        },
        {
          "output_type": "stream",
          "text": [
            "407 "
          ],
          "name": "stdout"
        },
        {
          "output_type": "stream",
          "text": [
            "100%|██████████| 695/695 [00:05<00:00, 134.97it/s]\n",
            "  2%|▏         | 13/695 [00:00<00:05, 128.35it/s]"
          ],
          "name": "stderr"
        },
        {
          "output_type": "stream",
          "text": [
            "408 "
          ],
          "name": "stdout"
        },
        {
          "output_type": "stream",
          "text": [
            "100%|██████████| 695/695 [00:05<00:00, 134.12it/s]\n",
            "  2%|▏         | 14/695 [00:00<00:04, 137.97it/s]"
          ],
          "name": "stderr"
        },
        {
          "output_type": "stream",
          "text": [
            "409 "
          ],
          "name": "stdout"
        },
        {
          "output_type": "stream",
          "text": [
            "100%|██████████| 695/695 [00:05<00:00, 133.29it/s]\n",
            "  2%|▏         | 13/695 [00:00<00:05, 122.22it/s]"
          ],
          "name": "stderr"
        },
        {
          "output_type": "stream",
          "text": [
            "410 "
          ],
          "name": "stdout"
        },
        {
          "output_type": "stream",
          "text": [
            "100%|██████████| 695/695 [00:05<00:00, 133.51it/s]\n",
            "  2%|▏         | 13/695 [00:00<00:05, 126.18it/s]"
          ],
          "name": "stderr"
        },
        {
          "output_type": "stream",
          "text": [
            "411 "
          ],
          "name": "stdout"
        },
        {
          "output_type": "stream",
          "text": [
            "100%|██████████| 695/695 [00:05<00:00, 130.65it/s]\n",
            "  2%|▏         | 14/695 [00:00<00:05, 134.99it/s]"
          ],
          "name": "stderr"
        },
        {
          "output_type": "stream",
          "text": [
            "412 "
          ],
          "name": "stdout"
        },
        {
          "output_type": "stream",
          "text": [
            "100%|██████████| 695/695 [00:05<00:00, 132.34it/s]\n",
            "  2%|▏         | 14/695 [00:00<00:05, 133.90it/s]"
          ],
          "name": "stderr"
        },
        {
          "output_type": "stream",
          "text": [
            "413 "
          ],
          "name": "stdout"
        },
        {
          "output_type": "stream",
          "text": [
            "100%|██████████| 695/695 [00:05<00:00, 134.41it/s]\n",
            "  2%|▏         | 14/695 [00:00<00:04, 139.85it/s]"
          ],
          "name": "stderr"
        },
        {
          "output_type": "stream",
          "text": [
            "414 "
          ],
          "name": "stdout"
        },
        {
          "output_type": "stream",
          "text": [
            "100%|██████████| 695/695 [00:05<00:00, 135.87it/s]\n",
            "  2%|▏         | 14/695 [00:00<00:05, 132.78it/s]"
          ],
          "name": "stderr"
        },
        {
          "output_type": "stream",
          "text": [
            "415 "
          ],
          "name": "stdout"
        },
        {
          "output_type": "stream",
          "text": [
            "100%|██████████| 695/695 [00:05<00:00, 134.11it/s]\n",
            "  2%|▏         | 14/695 [00:00<00:04, 137.89it/s]"
          ],
          "name": "stderr"
        },
        {
          "output_type": "stream",
          "text": [
            "416 "
          ],
          "name": "stdout"
        },
        {
          "output_type": "stream",
          "text": [
            "100%|██████████| 695/695 [00:05<00:00, 133.64it/s]\n",
            "  2%|▏         | 13/695 [00:00<00:05, 126.48it/s]"
          ],
          "name": "stderr"
        },
        {
          "output_type": "stream",
          "text": [
            "417 "
          ],
          "name": "stdout"
        },
        {
          "output_type": "stream",
          "text": [
            "100%|██████████| 695/695 [00:05<00:00, 135.23it/s]\n",
            "  2%|▏         | 14/695 [00:00<00:05, 132.08it/s]"
          ],
          "name": "stderr"
        },
        {
          "output_type": "stream",
          "text": [
            "418 "
          ],
          "name": "stdout"
        },
        {
          "output_type": "stream",
          "text": [
            "100%|██████████| 695/695 [00:05<00:00, 135.89it/s]\n",
            "  2%|▏         | 14/695 [00:00<00:04, 137.64it/s]"
          ],
          "name": "stderr"
        },
        {
          "output_type": "stream",
          "text": [
            "419 "
          ],
          "name": "stdout"
        },
        {
          "output_type": "stream",
          "text": [
            "100%|██████████| 695/695 [00:05<00:00, 134.71it/s]\n",
            "  2%|▏         | 13/695 [00:00<00:05, 127.03it/s]"
          ],
          "name": "stderr"
        },
        {
          "output_type": "stream",
          "text": [
            "420 "
          ],
          "name": "stdout"
        },
        {
          "output_type": "stream",
          "text": [
            "100%|██████████| 695/695 [00:05<00:00, 135.16it/s]\n",
            "  2%|▏         | 14/695 [00:00<00:04, 136.73it/s]"
          ],
          "name": "stderr"
        },
        {
          "output_type": "stream",
          "text": [
            "421 "
          ],
          "name": "stdout"
        },
        {
          "output_type": "stream",
          "text": [
            "100%|██████████| 695/695 [00:05<00:00, 135.67it/s]\n",
            "  2%|▏         | 14/695 [00:00<00:05, 134.75it/s]"
          ],
          "name": "stderr"
        },
        {
          "output_type": "stream",
          "text": [
            "422 "
          ],
          "name": "stdout"
        },
        {
          "output_type": "stream",
          "text": [
            "100%|██████████| 695/695 [00:05<00:00, 134.58it/s]\n",
            "  2%|▏         | 14/695 [00:00<00:05, 130.95it/s]"
          ],
          "name": "stderr"
        },
        {
          "output_type": "stream",
          "text": [
            "423 "
          ],
          "name": "stdout"
        },
        {
          "output_type": "stream",
          "text": [
            "100%|██████████| 695/695 [00:05<00:00, 136.06it/s]\n",
            "  2%|▏         | 15/695 [00:00<00:04, 142.34it/s]"
          ],
          "name": "stderr"
        },
        {
          "output_type": "stream",
          "text": [
            "424 "
          ],
          "name": "stdout"
        },
        {
          "output_type": "stream",
          "text": [
            "100%|██████████| 695/695 [00:05<00:00, 136.00it/s]\n",
            "  2%|▏         | 14/695 [00:00<00:05, 135.42it/s]"
          ],
          "name": "stderr"
        },
        {
          "output_type": "stream",
          "text": [
            "425 "
          ],
          "name": "stdout"
        },
        {
          "output_type": "stream",
          "text": [
            "100%|██████████| 695/695 [00:05<00:00, 135.19it/s]\n",
            "  2%|▏         | 14/695 [00:00<00:05, 133.98it/s]"
          ],
          "name": "stderr"
        },
        {
          "output_type": "stream",
          "text": [
            "426 "
          ],
          "name": "stdout"
        },
        {
          "output_type": "stream",
          "text": [
            "100%|██████████| 695/695 [00:05<00:00, 135.02it/s]\n",
            "  2%|▏         | 14/695 [00:00<00:05, 133.08it/s]"
          ],
          "name": "stderr"
        },
        {
          "output_type": "stream",
          "text": [
            "427 "
          ],
          "name": "stdout"
        },
        {
          "output_type": "stream",
          "text": [
            "100%|██████████| 695/695 [00:05<00:00, 135.10it/s]\n",
            "  2%|▏         | 14/695 [00:00<00:04, 139.02it/s]"
          ],
          "name": "stderr"
        },
        {
          "output_type": "stream",
          "text": [
            "428 "
          ],
          "name": "stdout"
        },
        {
          "output_type": "stream",
          "text": [
            "100%|██████████| 695/695 [00:05<00:00, 134.05it/s]\n",
            "  2%|▏         | 13/695 [00:00<00:05, 128.51it/s]"
          ],
          "name": "stderr"
        },
        {
          "output_type": "stream",
          "text": [
            "429 "
          ],
          "name": "stdout"
        },
        {
          "output_type": "stream",
          "text": [
            "100%|██████████| 695/695 [00:05<00:00, 134.92it/s]\n",
            "  2%|▏         | 14/695 [00:00<00:04, 138.40it/s]"
          ],
          "name": "stderr"
        },
        {
          "output_type": "stream",
          "text": [
            "430 "
          ],
          "name": "stdout"
        },
        {
          "output_type": "stream",
          "text": [
            "100%|██████████| 695/695 [00:05<00:00, 136.95it/s]\n",
            "  2%|▏         | 14/695 [00:00<00:05, 132.38it/s]"
          ],
          "name": "stderr"
        },
        {
          "output_type": "stream",
          "text": [
            "431 "
          ],
          "name": "stdout"
        },
        {
          "output_type": "stream",
          "text": [
            "100%|██████████| 695/695 [00:05<00:00, 135.85it/s]\n",
            "  2%|▏         | 14/695 [00:00<00:05, 134.68it/s]"
          ],
          "name": "stderr"
        },
        {
          "output_type": "stream",
          "text": [
            "432 "
          ],
          "name": "stdout"
        },
        {
          "output_type": "stream",
          "text": [
            "100%|██████████| 695/695 [00:05<00:00, 136.36it/s]\n",
            "  2%|▏         | 14/695 [00:00<00:04, 137.94it/s]"
          ],
          "name": "stderr"
        },
        {
          "output_type": "stream",
          "text": [
            "433 "
          ],
          "name": "stdout"
        },
        {
          "output_type": "stream",
          "text": [
            "100%|██████████| 695/695 [00:05<00:00, 135.13it/s]\n",
            "  2%|▏         | 14/695 [00:00<00:05, 132.49it/s]"
          ],
          "name": "stderr"
        },
        {
          "output_type": "stream",
          "text": [
            "434 "
          ],
          "name": "stdout"
        },
        {
          "output_type": "stream",
          "text": [
            "100%|██████████| 695/695 [00:05<00:00, 133.67it/s]\n",
            "  2%|▏         | 14/695 [00:00<00:05, 134.22it/s]"
          ],
          "name": "stderr"
        },
        {
          "output_type": "stream",
          "text": [
            "435 "
          ],
          "name": "stdout"
        },
        {
          "output_type": "stream",
          "text": [
            "100%|██████████| 695/695 [00:05<00:00, 134.70it/s]\n",
            "  2%|▏         | 14/695 [00:00<00:05, 134.66it/s]"
          ],
          "name": "stderr"
        },
        {
          "output_type": "stream",
          "text": [
            "436 "
          ],
          "name": "stdout"
        },
        {
          "output_type": "stream",
          "text": [
            "100%|██████████| 695/695 [00:05<00:00, 136.68it/s]\n",
            "  2%|▏         | 14/695 [00:00<00:05, 134.51it/s]"
          ],
          "name": "stderr"
        },
        {
          "output_type": "stream",
          "text": [
            "437 "
          ],
          "name": "stdout"
        },
        {
          "output_type": "stream",
          "text": [
            "100%|██████████| 695/695 [00:05<00:00, 137.54it/s]\n",
            "  2%|▏         | 14/695 [00:00<00:04, 139.20it/s]"
          ],
          "name": "stderr"
        },
        {
          "output_type": "stream",
          "text": [
            "438 "
          ],
          "name": "stdout"
        },
        {
          "output_type": "stream",
          "text": [
            "100%|██████████| 695/695 [00:05<00:00, 136.23it/s]\n",
            "  2%|▏         | 14/695 [00:00<00:04, 139.17it/s]"
          ],
          "name": "stderr"
        },
        {
          "output_type": "stream",
          "text": [
            "439 "
          ],
          "name": "stdout"
        },
        {
          "output_type": "stream",
          "text": [
            "100%|██████████| 695/695 [00:05<00:00, 136.27it/s]\n",
            "  2%|▏         | 15/695 [00:00<00:04, 140.23it/s]"
          ],
          "name": "stderr"
        },
        {
          "output_type": "stream",
          "text": [
            "440 "
          ],
          "name": "stdout"
        },
        {
          "output_type": "stream",
          "text": [
            "100%|██████████| 695/695 [00:05<00:00, 135.35it/s]\n",
            "  2%|▏         | 13/695 [00:00<00:05, 128.60it/s]"
          ],
          "name": "stderr"
        },
        {
          "output_type": "stream",
          "text": [
            "441 "
          ],
          "name": "stdout"
        },
        {
          "output_type": "stream",
          "text": [
            "100%|██████████| 695/695 [00:05<00:00, 135.72it/s]\n",
            "  2%|▏         | 14/695 [00:00<00:05, 136.07it/s]"
          ],
          "name": "stderr"
        },
        {
          "output_type": "stream",
          "text": [
            "442 "
          ],
          "name": "stdout"
        },
        {
          "output_type": "stream",
          "text": [
            "100%|██████████| 695/695 [00:05<00:00, 134.43it/s]\n",
            "  2%|▏         | 14/695 [00:00<00:05, 134.94it/s]"
          ],
          "name": "stderr"
        },
        {
          "output_type": "stream",
          "text": [
            "443 "
          ],
          "name": "stdout"
        },
        {
          "output_type": "stream",
          "text": [
            "100%|██████████| 695/695 [00:05<00:00, 134.51it/s]\n",
            "  2%|▏         | 13/695 [00:00<00:05, 125.72it/s]"
          ],
          "name": "stderr"
        },
        {
          "output_type": "stream",
          "text": [
            "444 "
          ],
          "name": "stdout"
        },
        {
          "output_type": "stream",
          "text": [
            "100%|██████████| 695/695 [00:05<00:00, 135.98it/s]\n",
            "  2%|▏         | 15/695 [00:00<00:04, 140.45it/s]"
          ],
          "name": "stderr"
        },
        {
          "output_type": "stream",
          "text": [
            "445 "
          ],
          "name": "stdout"
        },
        {
          "output_type": "stream",
          "text": [
            "100%|██████████| 695/695 [00:05<00:00, 136.50it/s]\n",
            "  2%|▏         | 14/695 [00:00<00:05, 131.82it/s]"
          ],
          "name": "stderr"
        },
        {
          "output_type": "stream",
          "text": [
            "446 "
          ],
          "name": "stdout"
        },
        {
          "output_type": "stream",
          "text": [
            "100%|██████████| 695/695 [00:05<00:00, 135.22it/s]\n",
            "  2%|▏         | 14/695 [00:00<00:05, 135.31it/s]"
          ],
          "name": "stderr"
        },
        {
          "output_type": "stream",
          "text": [
            "447 "
          ],
          "name": "stdout"
        },
        {
          "output_type": "stream",
          "text": [
            "100%|██████████| 695/695 [00:05<00:00, 136.63it/s]\n",
            "  2%|▏         | 14/695 [00:00<00:05, 134.97it/s]"
          ],
          "name": "stderr"
        },
        {
          "output_type": "stream",
          "text": [
            "448 "
          ],
          "name": "stdout"
        },
        {
          "output_type": "stream",
          "text": [
            "100%|██████████| 695/695 [00:05<00:00, 135.44it/s]\n",
            "  2%|▏         | 15/695 [00:00<00:04, 140.72it/s]"
          ],
          "name": "stderr"
        },
        {
          "output_type": "stream",
          "text": [
            "449 "
          ],
          "name": "stdout"
        },
        {
          "output_type": "stream",
          "text": [
            "100%|██████████| 695/695 [00:05<00:00, 135.89it/s]\n",
            "  2%|▏         | 14/695 [00:00<00:05, 134.15it/s]"
          ],
          "name": "stderr"
        },
        {
          "output_type": "stream",
          "text": [
            "450 "
          ],
          "name": "stdout"
        },
        {
          "output_type": "stream",
          "text": [
            "100%|██████████| 695/695 [00:05<00:00, 135.19it/s]\n",
            "  2%|▏         | 13/695 [00:00<00:05, 125.99it/s]"
          ],
          "name": "stderr"
        },
        {
          "output_type": "stream",
          "text": [
            "451 "
          ],
          "name": "stdout"
        },
        {
          "output_type": "stream",
          "text": [
            "100%|██████████| 695/695 [00:05<00:00, 134.83it/s]\n",
            "  2%|▏         | 13/695 [00:00<00:05, 125.45it/s]"
          ],
          "name": "stderr"
        },
        {
          "output_type": "stream",
          "text": [
            "452 "
          ],
          "name": "stdout"
        },
        {
          "output_type": "stream",
          "text": [
            "100%|██████████| 695/695 [00:05<00:00, 137.06it/s]\n",
            "  2%|▏         | 14/695 [00:00<00:04, 139.17it/s]"
          ],
          "name": "stderr"
        },
        {
          "output_type": "stream",
          "text": [
            "453 "
          ],
          "name": "stdout"
        },
        {
          "output_type": "stream",
          "text": [
            "100%|██████████| 695/695 [00:05<00:00, 135.25it/s]\n",
            "  2%|▏         | 14/695 [00:00<00:04, 136.92it/s]"
          ],
          "name": "stderr"
        },
        {
          "output_type": "stream",
          "text": [
            "454 "
          ],
          "name": "stdout"
        },
        {
          "output_type": "stream",
          "text": [
            "100%|██████████| 695/695 [00:05<00:00, 136.29it/s]\n",
            "  2%|▏         | 14/695 [00:00<00:05, 131.28it/s]"
          ],
          "name": "stderr"
        },
        {
          "output_type": "stream",
          "text": [
            "455 "
          ],
          "name": "stdout"
        },
        {
          "output_type": "stream",
          "text": [
            "100%|██████████| 695/695 [00:05<00:00, 137.30it/s]\n",
            "  2%|▏         | 15/695 [00:00<00:04, 140.82it/s]"
          ],
          "name": "stderr"
        },
        {
          "output_type": "stream",
          "text": [
            "456 "
          ],
          "name": "stdout"
        },
        {
          "output_type": "stream",
          "text": [
            "100%|██████████| 695/695 [00:05<00:00, 136.97it/s]\n",
            "  2%|▏         | 14/695 [00:00<00:05, 136.17it/s]"
          ],
          "name": "stderr"
        },
        {
          "output_type": "stream",
          "text": [
            "457 "
          ],
          "name": "stdout"
        },
        {
          "output_type": "stream",
          "text": [
            "100%|██████████| 695/695 [00:05<00:00, 135.39it/s]\n",
            "  2%|▏         | 15/695 [00:00<00:04, 138.43it/s]"
          ],
          "name": "stderr"
        },
        {
          "output_type": "stream",
          "text": [
            "458 "
          ],
          "name": "stdout"
        },
        {
          "output_type": "stream",
          "text": [
            "100%|██████████| 695/695 [00:05<00:00, 134.29it/s]\n",
            "  2%|▏         | 12/695 [00:00<00:05, 117.98it/s]"
          ],
          "name": "stderr"
        },
        {
          "output_type": "stream",
          "text": [
            "459 "
          ],
          "name": "stdout"
        },
        {
          "output_type": "stream",
          "text": [
            "100%|██████████| 695/695 [00:05<00:00, 136.29it/s]\n",
            "  2%|▏         | 15/695 [00:00<00:04, 143.75it/s]"
          ],
          "name": "stderr"
        },
        {
          "output_type": "stream",
          "text": [
            "460 "
          ],
          "name": "stdout"
        },
        {
          "output_type": "stream",
          "text": [
            "100%|██████████| 695/695 [00:05<00:00, 136.85it/s]\n",
            "  2%|▏         | 13/695 [00:00<00:05, 124.11it/s]"
          ],
          "name": "stderr"
        },
        {
          "output_type": "stream",
          "text": [
            "461 "
          ],
          "name": "stdout"
        },
        {
          "output_type": "stream",
          "text": [
            "100%|██████████| 695/695 [00:05<00:00, 136.02it/s]\n",
            "  2%|▏         | 14/695 [00:00<00:04, 138.26it/s]"
          ],
          "name": "stderr"
        },
        {
          "output_type": "stream",
          "text": [
            "462 "
          ],
          "name": "stdout"
        },
        {
          "output_type": "stream",
          "text": [
            "100%|██████████| 695/695 [00:05<00:00, 135.67it/s]\n",
            "  2%|▏         | 14/695 [00:00<00:04, 139.93it/s]"
          ],
          "name": "stderr"
        },
        {
          "output_type": "stream",
          "text": [
            "463 "
          ],
          "name": "stdout"
        },
        {
          "output_type": "stream",
          "text": [
            "100%|██████████| 695/695 [00:05<00:00, 136.75it/s]\n",
            "  2%|▏         | 14/695 [00:00<00:05, 134.24it/s]"
          ],
          "name": "stderr"
        },
        {
          "output_type": "stream",
          "text": [
            "464 "
          ],
          "name": "stdout"
        },
        {
          "output_type": "stream",
          "text": [
            "100%|██████████| 695/695 [00:05<00:00, 137.46it/s]\n",
            "  2%|▏         | 12/695 [00:00<00:05, 117.32it/s]"
          ],
          "name": "stderr"
        },
        {
          "output_type": "stream",
          "text": [
            "465 "
          ],
          "name": "stdout"
        },
        {
          "output_type": "stream",
          "text": [
            "100%|██████████| 695/695 [00:05<00:00, 136.14it/s]\n",
            "  2%|▏         | 14/695 [00:00<00:05, 134.61it/s]"
          ],
          "name": "stderr"
        },
        {
          "output_type": "stream",
          "text": [
            "466 "
          ],
          "name": "stdout"
        },
        {
          "output_type": "stream",
          "text": [
            "100%|██████████| 695/695 [00:05<00:00, 135.29it/s]\n",
            "  2%|▏         | 15/695 [00:00<00:04, 139.57it/s]"
          ],
          "name": "stderr"
        },
        {
          "output_type": "stream",
          "text": [
            "467 "
          ],
          "name": "stdout"
        },
        {
          "output_type": "stream",
          "text": [
            "100%|██████████| 695/695 [00:05<00:00, 135.18it/s]\n",
            "  2%|▏         | 14/695 [00:00<00:04, 139.69it/s]"
          ],
          "name": "stderr"
        },
        {
          "output_type": "stream",
          "text": [
            "468 "
          ],
          "name": "stdout"
        },
        {
          "output_type": "stream",
          "text": [
            "100%|██████████| 695/695 [00:05<00:00, 135.98it/s]\n",
            "  2%|▏         | 14/695 [00:00<00:04, 139.08it/s]"
          ],
          "name": "stderr"
        },
        {
          "output_type": "stream",
          "text": [
            "469 "
          ],
          "name": "stdout"
        },
        {
          "output_type": "stream",
          "text": [
            "100%|██████████| 695/695 [00:05<00:00, 137.75it/s]\n",
            "  2%|▏         | 13/695 [00:00<00:05, 129.06it/s]"
          ],
          "name": "stderr"
        },
        {
          "output_type": "stream",
          "text": [
            "470 "
          ],
          "name": "stdout"
        },
        {
          "output_type": "stream",
          "text": [
            "100%|██████████| 695/695 [00:05<00:00, 136.80it/s]\n",
            "  2%|▏         | 14/695 [00:00<00:04, 139.16it/s]"
          ],
          "name": "stderr"
        },
        {
          "output_type": "stream",
          "text": [
            "471 "
          ],
          "name": "stdout"
        },
        {
          "output_type": "stream",
          "text": [
            "100%|██████████| 695/695 [00:05<00:00, 135.94it/s]\n",
            "  2%|▏         | 15/695 [00:00<00:04, 141.16it/s]"
          ],
          "name": "stderr"
        },
        {
          "output_type": "stream",
          "text": [
            "472 "
          ],
          "name": "stdout"
        },
        {
          "output_type": "stream",
          "text": [
            "100%|██████████| 695/695 [00:05<00:00, 135.52it/s]\n",
            "  2%|▏         | 13/695 [00:00<00:05, 127.63it/s]"
          ],
          "name": "stderr"
        },
        {
          "output_type": "stream",
          "text": [
            "473 "
          ],
          "name": "stdout"
        },
        {
          "output_type": "stream",
          "text": [
            "100%|██████████| 695/695 [00:05<00:00, 133.29it/s]\n",
            "  2%|▏         | 15/695 [00:00<00:04, 142.04it/s]"
          ],
          "name": "stderr"
        },
        {
          "output_type": "stream",
          "text": [
            "474 "
          ],
          "name": "stdout"
        },
        {
          "output_type": "stream",
          "text": [
            "100%|██████████| 695/695 [00:05<00:00, 136.29it/s]\n",
            "  2%|▏         | 15/695 [00:00<00:04, 140.53it/s]"
          ],
          "name": "stderr"
        },
        {
          "output_type": "stream",
          "text": [
            "475 "
          ],
          "name": "stdout"
        },
        {
          "output_type": "stream",
          "text": [
            "100%|██████████| 695/695 [00:05<00:00, 135.99it/s]\n",
            "  2%|▏         | 14/695 [00:00<00:05, 133.27it/s]"
          ],
          "name": "stderr"
        },
        {
          "output_type": "stream",
          "text": [
            "476 "
          ],
          "name": "stdout"
        },
        {
          "output_type": "stream",
          "text": [
            "100%|██████████| 695/695 [00:05<00:00, 136.94it/s]\n",
            "  2%|▏         | 13/695 [00:00<00:05, 129.52it/s]"
          ],
          "name": "stderr"
        },
        {
          "output_type": "stream",
          "text": [
            "477 "
          ],
          "name": "stdout"
        },
        {
          "output_type": "stream",
          "text": [
            "100%|██████████| 695/695 [00:05<00:00, 136.19it/s]\n",
            "  2%|▏         | 14/695 [00:00<00:05, 135.03it/s]"
          ],
          "name": "stderr"
        },
        {
          "output_type": "stream",
          "text": [
            "478 "
          ],
          "name": "stdout"
        },
        {
          "output_type": "stream",
          "text": [
            "100%|██████████| 695/695 [00:05<00:00, 136.14it/s]\n",
            "  2%|▏         | 14/695 [00:00<00:05, 135.23it/s]"
          ],
          "name": "stderr"
        },
        {
          "output_type": "stream",
          "text": [
            "479 "
          ],
          "name": "stdout"
        },
        {
          "output_type": "stream",
          "text": [
            "100%|██████████| 695/695 [00:05<00:00, 135.52it/s]\n",
            "  2%|▏         | 14/695 [00:00<00:04, 136.94it/s]"
          ],
          "name": "stderr"
        },
        {
          "output_type": "stream",
          "text": [
            "480 "
          ],
          "name": "stdout"
        },
        {
          "output_type": "stream",
          "text": [
            "100%|██████████| 695/695 [00:05<00:00, 135.44it/s]\n",
            "  2%|▏         | 14/695 [00:00<00:04, 136.29it/s]"
          ],
          "name": "stderr"
        },
        {
          "output_type": "stream",
          "text": [
            "481 "
          ],
          "name": "stdout"
        },
        {
          "output_type": "stream",
          "text": [
            "100%|██████████| 695/695 [00:05<00:00, 134.63it/s]\n",
            "  2%|▏         | 14/695 [00:00<00:04, 137.29it/s]"
          ],
          "name": "stderr"
        },
        {
          "output_type": "stream",
          "text": [
            "482 "
          ],
          "name": "stdout"
        },
        {
          "output_type": "stream",
          "text": [
            "100%|██████████| 695/695 [00:05<00:00, 135.22it/s]\n",
            "  2%|▏         | 14/695 [00:00<00:05, 133.92it/s]"
          ],
          "name": "stderr"
        },
        {
          "output_type": "stream",
          "text": [
            "483 "
          ],
          "name": "stdout"
        },
        {
          "output_type": "stream",
          "text": [
            "100%|██████████| 695/695 [00:05<00:00, 135.34it/s]\n",
            "  2%|▏         | 14/695 [00:00<00:05, 133.79it/s]"
          ],
          "name": "stderr"
        },
        {
          "output_type": "stream",
          "text": [
            "484 "
          ],
          "name": "stdout"
        },
        {
          "output_type": "stream",
          "text": [
            "100%|██████████| 695/695 [00:05<00:00, 135.85it/s]\n",
            "  2%|▏         | 14/695 [00:00<00:04, 139.21it/s]"
          ],
          "name": "stderr"
        },
        {
          "output_type": "stream",
          "text": [
            "485 "
          ],
          "name": "stdout"
        },
        {
          "output_type": "stream",
          "text": [
            "100%|██████████| 695/695 [00:05<00:00, 135.49it/s]\n",
            "  2%|▏         | 13/695 [00:00<00:05, 129.98it/s]"
          ],
          "name": "stderr"
        },
        {
          "output_type": "stream",
          "text": [
            "486 "
          ],
          "name": "stdout"
        },
        {
          "output_type": "stream",
          "text": [
            "100%|██████████| 695/695 [00:05<00:00, 135.22it/s]\n",
            "  2%|▏         | 14/695 [00:00<00:04, 136.38it/s]"
          ],
          "name": "stderr"
        },
        {
          "output_type": "stream",
          "text": [
            "487 "
          ],
          "name": "stdout"
        },
        {
          "output_type": "stream",
          "text": [
            "100%|██████████| 695/695 [00:05<00:00, 136.17it/s]\n",
            "  2%|▏         | 13/695 [00:00<00:05, 128.93it/s]"
          ],
          "name": "stderr"
        },
        {
          "output_type": "stream",
          "text": [
            "488 "
          ],
          "name": "stdout"
        },
        {
          "output_type": "stream",
          "text": [
            "100%|██████████| 695/695 [00:05<00:00, 136.48it/s]\n",
            "  2%|▏         | 14/695 [00:00<00:04, 136.64it/s]"
          ],
          "name": "stderr"
        },
        {
          "output_type": "stream",
          "text": [
            "489 "
          ],
          "name": "stdout"
        },
        {
          "output_type": "stream",
          "text": [
            "100%|██████████| 695/695 [00:05<00:00, 135.86it/s]\n",
            "  2%|▏         | 15/695 [00:00<00:04, 140.55it/s]"
          ],
          "name": "stderr"
        },
        {
          "output_type": "stream",
          "text": [
            "490 "
          ],
          "name": "stdout"
        },
        {
          "output_type": "stream",
          "text": [
            "100%|██████████| 695/695 [00:05<00:00, 136.92it/s]\n",
            "  2%|▏         | 14/695 [00:00<00:04, 136.87it/s]"
          ],
          "name": "stderr"
        },
        {
          "output_type": "stream",
          "text": [
            "491 "
          ],
          "name": "stdout"
        },
        {
          "output_type": "stream",
          "text": [
            "100%|██████████| 695/695 [00:05<00:00, 135.40it/s]\n",
            "  2%|▏         | 14/695 [00:00<00:04, 137.95it/s]"
          ],
          "name": "stderr"
        },
        {
          "output_type": "stream",
          "text": [
            "492 "
          ],
          "name": "stdout"
        },
        {
          "output_type": "stream",
          "text": [
            "100%|██████████| 695/695 [00:05<00:00, 135.27it/s]\n",
            "  2%|▏         | 14/695 [00:00<00:05, 135.40it/s]"
          ],
          "name": "stderr"
        },
        {
          "output_type": "stream",
          "text": [
            "493 "
          ],
          "name": "stdout"
        },
        {
          "output_type": "stream",
          "text": [
            "100%|██████████| 695/695 [00:05<00:00, 135.51it/s]\n",
            "  2%|▏         | 14/695 [00:00<00:05, 134.97it/s]"
          ],
          "name": "stderr"
        },
        {
          "output_type": "stream",
          "text": [
            "494 "
          ],
          "name": "stdout"
        },
        {
          "output_type": "stream",
          "text": [
            "100%|██████████| 695/695 [00:05<00:00, 136.39it/s]\n",
            "  2%|▏         | 14/695 [00:00<00:04, 137.39it/s]"
          ],
          "name": "stderr"
        },
        {
          "output_type": "stream",
          "text": [
            "495 "
          ],
          "name": "stdout"
        },
        {
          "output_type": "stream",
          "text": [
            "100%|██████████| 695/695 [00:05<00:00, 136.53it/s]\n",
            "  2%|▏         | 15/695 [00:00<00:04, 141.72it/s]"
          ],
          "name": "stderr"
        },
        {
          "output_type": "stream",
          "text": [
            "496 "
          ],
          "name": "stdout"
        },
        {
          "output_type": "stream",
          "text": [
            "100%|██████████| 695/695 [00:05<00:00, 135.11it/s]\n",
            "  2%|▏         | 14/695 [00:00<00:04, 138.34it/s]"
          ],
          "name": "stderr"
        },
        {
          "output_type": "stream",
          "text": [
            "497 "
          ],
          "name": "stdout"
        },
        {
          "output_type": "stream",
          "text": [
            "100%|██████████| 695/695 [00:05<00:00, 134.49it/s]\n",
            "  2%|▏         | 14/695 [00:00<00:04, 137.90it/s]"
          ],
          "name": "stderr"
        },
        {
          "output_type": "stream",
          "text": [
            "498 "
          ],
          "name": "stdout"
        },
        {
          "output_type": "stream",
          "text": [
            "100%|██████████| 695/695 [00:05<00:00, 133.56it/s]\n",
            "  2%|▏         | 14/695 [00:00<00:05, 131.89it/s]"
          ],
          "name": "stderr"
        },
        {
          "output_type": "stream",
          "text": [
            "499 "
          ],
          "name": "stdout"
        },
        {
          "output_type": "stream",
          "text": [
            "100%|██████████| 695/695 [00:05<00:00, 134.85it/s]\n",
            "  2%|▏         | 15/695 [00:00<00:04, 140.44it/s]"
          ],
          "name": "stderr"
        },
        {
          "output_type": "stream",
          "text": [
            "500 "
          ],
          "name": "stdout"
        },
        {
          "output_type": "stream",
          "text": [
            "100%|██████████| 695/695 [00:05<00:00, 136.61it/s]\n",
            "  2%|▏         | 14/695 [00:00<00:04, 138.84it/s]"
          ],
          "name": "stderr"
        },
        {
          "output_type": "stream",
          "text": [
            "501 "
          ],
          "name": "stdout"
        },
        {
          "output_type": "stream",
          "text": [
            "100%|██████████| 695/695 [00:05<00:00, 135.05it/s]\n",
            "  2%|▏         | 14/695 [00:00<00:04, 139.31it/s]"
          ],
          "name": "stderr"
        },
        {
          "output_type": "stream",
          "text": [
            "502 "
          ],
          "name": "stdout"
        },
        {
          "output_type": "stream",
          "text": [
            "100%|██████████| 695/695 [00:05<00:00, 134.78it/s]\n",
            "  2%|▏         | 13/695 [00:00<00:05, 129.65it/s]"
          ],
          "name": "stderr"
        },
        {
          "output_type": "stream",
          "text": [
            "503 "
          ],
          "name": "stdout"
        },
        {
          "output_type": "stream",
          "text": [
            "100%|██████████| 695/695 [00:05<00:00, 136.21it/s]\n",
            "  2%|▏         | 14/695 [00:00<00:05, 133.36it/s]"
          ],
          "name": "stderr"
        },
        {
          "output_type": "stream",
          "text": [
            "504 "
          ],
          "name": "stdout"
        },
        {
          "output_type": "stream",
          "text": [
            "100%|██████████| 695/695 [00:05<00:00, 136.22it/s]\n",
            "  2%|▏         | 14/695 [00:00<00:05, 135.25it/s]"
          ],
          "name": "stderr"
        },
        {
          "output_type": "stream",
          "text": [
            "505 "
          ],
          "name": "stdout"
        },
        {
          "output_type": "stream",
          "text": [
            "100%|██████████| 695/695 [00:05<00:00, 136.50it/s]\n",
            "  2%|▏         | 13/695 [00:00<00:05, 128.66it/s]"
          ],
          "name": "stderr"
        },
        {
          "output_type": "stream",
          "text": [
            "506 "
          ],
          "name": "stdout"
        },
        {
          "output_type": "stream",
          "text": [
            "100%|██████████| 695/695 [00:05<00:00, 135.08it/s]\n",
            "  2%|▏         | 14/695 [00:00<00:05, 135.15it/s]"
          ],
          "name": "stderr"
        },
        {
          "output_type": "stream",
          "text": [
            "507 "
          ],
          "name": "stdout"
        },
        {
          "output_type": "stream",
          "text": [
            "100%|██████████| 695/695 [00:05<00:00, 136.13it/s]\n",
            "  2%|▏         | 14/695 [00:00<00:04, 139.62it/s]"
          ],
          "name": "stderr"
        },
        {
          "output_type": "stream",
          "text": [
            "508 "
          ],
          "name": "stdout"
        },
        {
          "output_type": "stream",
          "text": [
            "100%|██████████| 695/695 [00:05<00:00, 135.94it/s]\n",
            "  2%|▏         | 13/695 [00:00<00:05, 123.55it/s]"
          ],
          "name": "stderr"
        },
        {
          "output_type": "stream",
          "text": [
            "509 "
          ],
          "name": "stdout"
        },
        {
          "output_type": "stream",
          "text": [
            "100%|██████████| 695/695 [00:05<00:00, 135.63it/s]\n",
            "  2%|▏         | 14/695 [00:00<00:04, 138.19it/s]"
          ],
          "name": "stderr"
        },
        {
          "output_type": "stream",
          "text": [
            "510 "
          ],
          "name": "stdout"
        },
        {
          "output_type": "stream",
          "text": [
            "100%|██████████| 695/695 [00:05<00:00, 136.02it/s]\n",
            "  2%|▏         | 14/695 [00:00<00:04, 138.31it/s]"
          ],
          "name": "stderr"
        },
        {
          "output_type": "stream",
          "text": [
            "511 "
          ],
          "name": "stdout"
        },
        {
          "output_type": "stream",
          "text": [
            "100%|██████████| 695/695 [00:05<00:00, 135.94it/s]\n",
            "  2%|▏         | 14/695 [00:00<00:04, 136.31it/s]"
          ],
          "name": "stderr"
        },
        {
          "output_type": "stream",
          "text": [
            "512 "
          ],
          "name": "stdout"
        },
        {
          "output_type": "stream",
          "text": [
            "100%|██████████| 695/695 [00:05<00:00, 134.55it/s]\n",
            "  2%|▏         | 13/695 [00:00<00:05, 128.80it/s]"
          ],
          "name": "stderr"
        },
        {
          "output_type": "stream",
          "text": [
            "513 "
          ],
          "name": "stdout"
        },
        {
          "output_type": "stream",
          "text": [
            "100%|██████████| 695/695 [00:05<00:00, 134.53it/s]\n",
            "  2%|▏         | 14/695 [00:00<00:05, 133.05it/s]"
          ],
          "name": "stderr"
        },
        {
          "output_type": "stream",
          "text": [
            "514 "
          ],
          "name": "stdout"
        },
        {
          "output_type": "stream",
          "text": [
            "100%|██████████| 695/695 [00:05<00:00, 135.45it/s]\n",
            "  2%|▏         | 14/695 [00:00<00:04, 139.03it/s]"
          ],
          "name": "stderr"
        },
        {
          "output_type": "stream",
          "text": [
            "515 "
          ],
          "name": "stdout"
        },
        {
          "output_type": "stream",
          "text": [
            "100%|██████████| 695/695 [00:05<00:00, 135.64it/s]\n",
            "  2%|▏         | 14/695 [00:00<00:05, 134.93it/s]"
          ],
          "name": "stderr"
        },
        {
          "output_type": "stream",
          "text": [
            "516 "
          ],
          "name": "stdout"
        },
        {
          "output_type": "stream",
          "text": [
            "100%|██████████| 695/695 [00:05<00:00, 134.87it/s]\n",
            "  2%|▏         | 14/695 [00:00<00:05, 135.13it/s]"
          ],
          "name": "stderr"
        },
        {
          "output_type": "stream",
          "text": [
            "517 "
          ],
          "name": "stdout"
        },
        {
          "output_type": "stream",
          "text": [
            "100%|██████████| 695/695 [00:05<00:00, 134.09it/s]\n",
            "  2%|▏         | 13/695 [00:00<00:05, 128.04it/s]"
          ],
          "name": "stderr"
        },
        {
          "output_type": "stream",
          "text": [
            "518 "
          ],
          "name": "stdout"
        },
        {
          "output_type": "stream",
          "text": [
            "100%|██████████| 695/695 [00:05<00:00, 133.14it/s]\n",
            "  2%|▏         | 14/695 [00:00<00:04, 137.31it/s]"
          ],
          "name": "stderr"
        },
        {
          "output_type": "stream",
          "text": [
            "519 "
          ],
          "name": "stdout"
        },
        {
          "output_type": "stream",
          "text": [
            "100%|██████████| 695/695 [00:05<00:00, 135.81it/s]\n",
            "  2%|▏         | 14/695 [00:00<00:04, 137.85it/s]"
          ],
          "name": "stderr"
        },
        {
          "output_type": "stream",
          "text": [
            "520 "
          ],
          "name": "stdout"
        },
        {
          "output_type": "stream",
          "text": [
            "100%|██████████| 695/695 [00:05<00:00, 135.14it/s]\n",
            "  2%|▏         | 14/695 [00:00<00:04, 137.45it/s]"
          ],
          "name": "stderr"
        },
        {
          "output_type": "stream",
          "text": [
            "521 "
          ],
          "name": "stdout"
        },
        {
          "output_type": "stream",
          "text": [
            "100%|██████████| 695/695 [00:05<00:00, 135.87it/s]\n",
            "  2%|▏         | 15/695 [00:00<00:04, 141.19it/s]"
          ],
          "name": "stderr"
        },
        {
          "output_type": "stream",
          "text": [
            "522 "
          ],
          "name": "stdout"
        },
        {
          "output_type": "stream",
          "text": [
            "100%|██████████| 695/695 [00:05<00:00, 136.21it/s]\n",
            "  2%|▏         | 14/695 [00:00<00:04, 139.37it/s]"
          ],
          "name": "stderr"
        },
        {
          "output_type": "stream",
          "text": [
            "523 "
          ],
          "name": "stdout"
        },
        {
          "output_type": "stream",
          "text": [
            "100%|██████████| 695/695 [00:05<00:00, 135.71it/s]\n",
            "  2%|▏         | 14/695 [00:00<00:05, 133.65it/s]"
          ],
          "name": "stderr"
        },
        {
          "output_type": "stream",
          "text": [
            "524 "
          ],
          "name": "stdout"
        },
        {
          "output_type": "stream",
          "text": [
            "100%|██████████| 695/695 [00:05<00:00, 134.89it/s]\n",
            "  2%|▏         | 14/695 [00:00<00:05, 134.70it/s]"
          ],
          "name": "stderr"
        },
        {
          "output_type": "stream",
          "text": [
            "525 "
          ],
          "name": "stdout"
        },
        {
          "output_type": "stream",
          "text": [
            "100%|██████████| 695/695 [00:05<00:00, 135.63it/s]\n",
            "  2%|▏         | 14/695 [00:00<00:04, 139.65it/s]"
          ],
          "name": "stderr"
        },
        {
          "output_type": "stream",
          "text": [
            "526 "
          ],
          "name": "stdout"
        },
        {
          "output_type": "stream",
          "text": [
            "100%|██████████| 695/695 [00:05<00:00, 135.55it/s]\n",
            "  2%|▏         | 14/695 [00:00<00:04, 138.81it/s]"
          ],
          "name": "stderr"
        },
        {
          "output_type": "stream",
          "text": [
            "527 "
          ],
          "name": "stdout"
        },
        {
          "output_type": "stream",
          "text": [
            "100%|██████████| 695/695 [00:05<00:00, 135.86it/s]\n",
            "  2%|▏         | 13/695 [00:00<00:05, 122.90it/s]"
          ],
          "name": "stderr"
        },
        {
          "output_type": "stream",
          "text": [
            "528 "
          ],
          "name": "stdout"
        },
        {
          "output_type": "stream",
          "text": [
            "100%|██████████| 695/695 [00:05<00:00, 134.80it/s]\n",
            "  2%|▏         | 14/695 [00:00<00:05, 132.34it/s]"
          ],
          "name": "stderr"
        },
        {
          "output_type": "stream",
          "text": [
            "529 "
          ],
          "name": "stdout"
        },
        {
          "output_type": "stream",
          "text": [
            "100%|██████████| 695/695 [00:05<00:00, 134.31it/s]\n",
            "  2%|▏         | 14/695 [00:00<00:04, 139.25it/s]"
          ],
          "name": "stderr"
        },
        {
          "output_type": "stream",
          "text": [
            "530 "
          ],
          "name": "stdout"
        },
        {
          "output_type": "stream",
          "text": [
            "100%|██████████| 695/695 [00:05<00:00, 136.53it/s]\n",
            "  2%|▏         | 14/695 [00:00<00:04, 139.80it/s]"
          ],
          "name": "stderr"
        },
        {
          "output_type": "stream",
          "text": [
            "531 "
          ],
          "name": "stdout"
        },
        {
          "output_type": "stream",
          "text": [
            "100%|██████████| 695/695 [00:05<00:00, 134.39it/s]\n",
            "  2%|▏         | 13/695 [00:00<00:05, 125.55it/s]"
          ],
          "name": "stderr"
        },
        {
          "output_type": "stream",
          "text": [
            "532 "
          ],
          "name": "stdout"
        },
        {
          "output_type": "stream",
          "text": [
            "100%|██████████| 695/695 [00:05<00:00, 134.59it/s]\n",
            "  2%|▏         | 12/695 [00:00<00:05, 118.01it/s]"
          ],
          "name": "stderr"
        },
        {
          "output_type": "stream",
          "text": [
            "533 "
          ],
          "name": "stdout"
        },
        {
          "output_type": "stream",
          "text": [
            "100%|██████████| 695/695 [00:05<00:00, 135.78it/s]\n",
            "  2%|▏         | 14/695 [00:00<00:05, 134.60it/s]"
          ],
          "name": "stderr"
        },
        {
          "output_type": "stream",
          "text": [
            "534 "
          ],
          "name": "stdout"
        },
        {
          "output_type": "stream",
          "text": [
            "100%|██████████| 695/695 [00:05<00:00, 136.97it/s]\n",
            "  2%|▏         | 14/695 [00:00<00:05, 133.56it/s]"
          ],
          "name": "stderr"
        },
        {
          "output_type": "stream",
          "text": [
            "535 "
          ],
          "name": "stdout"
        },
        {
          "output_type": "stream",
          "text": [
            "100%|██████████| 695/695 [00:05<00:00, 137.20it/s]\n",
            "  2%|▏         | 14/695 [00:00<00:05, 135.05it/s]"
          ],
          "name": "stderr"
        },
        {
          "output_type": "stream",
          "text": [
            "536 "
          ],
          "name": "stdout"
        },
        {
          "output_type": "stream",
          "text": [
            "100%|██████████| 695/695 [00:05<00:00, 135.59it/s]\n",
            "  2%|▏         | 14/695 [00:00<00:04, 139.87it/s]"
          ],
          "name": "stderr"
        },
        {
          "output_type": "stream",
          "text": [
            "537 "
          ],
          "name": "stdout"
        },
        {
          "output_type": "stream",
          "text": [
            "100%|██████████| 695/695 [00:05<00:00, 135.76it/s]\n",
            "  2%|▏         | 14/695 [00:00<00:05, 135.57it/s]"
          ],
          "name": "stderr"
        },
        {
          "output_type": "stream",
          "text": [
            "538 "
          ],
          "name": "stdout"
        },
        {
          "output_type": "stream",
          "text": [
            "100%|██████████| 695/695 [00:05<00:00, 135.52it/s]\n",
            "  2%|▏         | 14/695 [00:00<00:04, 137.69it/s]"
          ],
          "name": "stderr"
        },
        {
          "output_type": "stream",
          "text": [
            "539 "
          ],
          "name": "stdout"
        },
        {
          "output_type": "stream",
          "text": [
            "100%|██████████| 695/695 [00:05<00:00, 135.91it/s]\n",
            "  2%|▏         | 14/695 [00:00<00:04, 139.04it/s]"
          ],
          "name": "stderr"
        },
        {
          "output_type": "stream",
          "text": [
            "540 "
          ],
          "name": "stdout"
        },
        {
          "output_type": "stream",
          "text": [
            "100%|██████████| 695/695 [00:05<00:00, 135.82it/s]\n",
            "  2%|▏         | 14/695 [00:00<00:05, 134.01it/s]"
          ],
          "name": "stderr"
        },
        {
          "output_type": "stream",
          "text": [
            "541 "
          ],
          "name": "stdout"
        },
        {
          "output_type": "stream",
          "text": [
            "100%|██████████| 695/695 [00:05<00:00, 136.15it/s]\n",
            "  2%|▏         | 13/695 [00:00<00:05, 126.39it/s]"
          ],
          "name": "stderr"
        },
        {
          "output_type": "stream",
          "text": [
            "542 "
          ],
          "name": "stdout"
        },
        {
          "output_type": "stream",
          "text": [
            "100%|██████████| 695/695 [00:05<00:00, 136.95it/s]\n",
            "  2%|▏         | 14/695 [00:00<00:04, 138.90it/s]"
          ],
          "name": "stderr"
        },
        {
          "output_type": "stream",
          "text": [
            "543 "
          ],
          "name": "stdout"
        },
        {
          "output_type": "stream",
          "text": [
            "100%|██████████| 695/695 [00:05<00:00, 135.50it/s]\n",
            "  2%|▏         | 13/695 [00:00<00:05, 124.89it/s]"
          ],
          "name": "stderr"
        },
        {
          "output_type": "stream",
          "text": [
            "544 "
          ],
          "name": "stdout"
        },
        {
          "output_type": "stream",
          "text": [
            "100%|██████████| 695/695 [00:05<00:00, 134.52it/s]\n",
            "  2%|▏         | 14/695 [00:00<00:04, 138.48it/s]"
          ],
          "name": "stderr"
        },
        {
          "output_type": "stream",
          "text": [
            "545 "
          ],
          "name": "stdout"
        },
        {
          "output_type": "stream",
          "text": [
            "100%|██████████| 695/695 [00:05<00:00, 134.03it/s]\n",
            "  2%|▏         | 15/695 [00:00<00:04, 141.65it/s]"
          ],
          "name": "stderr"
        },
        {
          "output_type": "stream",
          "text": [
            "546 "
          ],
          "name": "stdout"
        },
        {
          "output_type": "stream",
          "text": [
            "100%|██████████| 695/695 [00:05<00:00, 135.72it/s]\n",
            "  2%|▏         | 14/695 [00:00<00:04, 139.26it/s]"
          ],
          "name": "stderr"
        },
        {
          "output_type": "stream",
          "text": [
            "547 "
          ],
          "name": "stdout"
        },
        {
          "output_type": "stream",
          "text": [
            "100%|██████████| 695/695 [00:05<00:00, 136.61it/s]\n",
            "  2%|▏         | 14/695 [00:00<00:04, 138.32it/s]"
          ],
          "name": "stderr"
        },
        {
          "output_type": "stream",
          "text": [
            "548 "
          ],
          "name": "stdout"
        },
        {
          "output_type": "stream",
          "text": [
            "100%|██████████| 695/695 [00:05<00:00, 136.40it/s]\n",
            "  2%|▏         | 14/695 [00:00<00:05, 128.83it/s]"
          ],
          "name": "stderr"
        },
        {
          "output_type": "stream",
          "text": [
            "549 "
          ],
          "name": "stdout"
        },
        {
          "output_type": "stream",
          "text": [
            "100%|██████████| 695/695 [00:05<00:00, 135.51it/s]\n",
            "  2%|▏         | 14/695 [00:00<00:05, 131.53it/s]"
          ],
          "name": "stderr"
        },
        {
          "output_type": "stream",
          "text": [
            "550 "
          ],
          "name": "stdout"
        },
        {
          "output_type": "stream",
          "text": [
            "100%|██████████| 695/695 [00:05<00:00, 135.29it/s]\n",
            "  2%|▏         | 13/695 [00:00<00:05, 127.43it/s]"
          ],
          "name": "stderr"
        },
        {
          "output_type": "stream",
          "text": [
            "551 "
          ],
          "name": "stdout"
        },
        {
          "output_type": "stream",
          "text": [
            "100%|██████████| 695/695 [00:05<00:00, 135.81it/s]\n",
            "  2%|▏         | 15/695 [00:00<00:04, 141.30it/s]"
          ],
          "name": "stderr"
        },
        {
          "output_type": "stream",
          "text": [
            "552 "
          ],
          "name": "stdout"
        },
        {
          "output_type": "stream",
          "text": [
            "100%|██████████| 695/695 [00:05<00:00, 135.92it/s]\n",
            "  2%|▏         | 13/695 [00:00<00:05, 127.10it/s]"
          ],
          "name": "stderr"
        },
        {
          "output_type": "stream",
          "text": [
            "553 "
          ],
          "name": "stdout"
        },
        {
          "output_type": "stream",
          "text": [
            "100%|██████████| 695/695 [00:05<00:00, 134.33it/s]\n",
            "  2%|▏         | 12/695 [00:00<00:05, 119.23it/s]"
          ],
          "name": "stderr"
        },
        {
          "output_type": "stream",
          "text": [
            "554 "
          ],
          "name": "stdout"
        },
        {
          "output_type": "stream",
          "text": [
            "100%|██████████| 695/695 [00:05<00:00, 135.36it/s]\n",
            "  2%|▏         | 14/695 [00:00<00:04, 136.51it/s]"
          ],
          "name": "stderr"
        },
        {
          "output_type": "stream",
          "text": [
            "555 "
          ],
          "name": "stdout"
        },
        {
          "output_type": "stream",
          "text": [
            "100%|██████████| 695/695 [00:05<00:00, 135.57it/s]\n",
            "  2%|▏         | 14/695 [00:00<00:04, 136.27it/s]"
          ],
          "name": "stderr"
        },
        {
          "output_type": "stream",
          "text": [
            "556 "
          ],
          "name": "stdout"
        },
        {
          "output_type": "stream",
          "text": [
            "100%|██████████| 695/695 [00:05<00:00, 135.40it/s]\n",
            "  2%|▏         | 14/695 [00:00<00:04, 137.75it/s]"
          ],
          "name": "stderr"
        },
        {
          "output_type": "stream",
          "text": [
            "557 "
          ],
          "name": "stdout"
        },
        {
          "output_type": "stream",
          "text": [
            "100%|██████████| 695/695 [00:05<00:00, 135.44it/s]\n",
            "  2%|▏         | 14/695 [00:00<00:05, 131.98it/s]"
          ],
          "name": "stderr"
        },
        {
          "output_type": "stream",
          "text": [
            "558 "
          ],
          "name": "stdout"
        },
        {
          "output_type": "stream",
          "text": [
            "100%|██████████| 695/695 [00:05<00:00, 135.50it/s]\n",
            "  2%|▏         | 14/695 [00:00<00:05, 132.57it/s]"
          ],
          "name": "stderr"
        },
        {
          "output_type": "stream",
          "text": [
            "559 "
          ],
          "name": "stdout"
        },
        {
          "output_type": "stream",
          "text": [
            "100%|██████████| 695/695 [00:05<00:00, 135.71it/s]\n",
            "  2%|▏         | 14/695 [00:00<00:05, 134.19it/s]"
          ],
          "name": "stderr"
        },
        {
          "output_type": "stream",
          "text": [
            "560 "
          ],
          "name": "stdout"
        },
        {
          "output_type": "stream",
          "text": [
            "100%|██████████| 695/695 [00:05<00:00, 134.13it/s]\n",
            "  2%|▏         | 14/695 [00:00<00:05, 135.34it/s]"
          ],
          "name": "stderr"
        },
        {
          "output_type": "stream",
          "text": [
            "561 "
          ],
          "name": "stdout"
        },
        {
          "output_type": "stream",
          "text": [
            "100%|██████████| 695/695 [00:05<00:00, 134.14it/s]\n",
            "  2%|▏         | 14/695 [00:00<00:04, 139.01it/s]"
          ],
          "name": "stderr"
        },
        {
          "output_type": "stream",
          "text": [
            "562 "
          ],
          "name": "stdout"
        },
        {
          "output_type": "stream",
          "text": [
            "100%|██████████| 695/695 [00:05<00:00, 135.90it/s]\n",
            "  2%|▏         | 14/695 [00:00<00:05, 135.36it/s]"
          ],
          "name": "stderr"
        },
        {
          "output_type": "stream",
          "text": [
            "563 "
          ],
          "name": "stdout"
        },
        {
          "output_type": "stream",
          "text": [
            "100%|██████████| 695/695 [00:05<00:00, 134.00it/s]\n",
            "  2%|▏         | 14/695 [00:00<00:05, 133.97it/s]"
          ],
          "name": "stderr"
        },
        {
          "output_type": "stream",
          "text": [
            "564 "
          ],
          "name": "stdout"
        },
        {
          "output_type": "stream",
          "text": [
            "100%|██████████| 695/695 [00:05<00:00, 136.23it/s]\n",
            "  2%|▏         | 14/695 [00:00<00:04, 137.81it/s]"
          ],
          "name": "stderr"
        },
        {
          "output_type": "stream",
          "text": [
            "565 "
          ],
          "name": "stdout"
        },
        {
          "output_type": "stream",
          "text": [
            "100%|██████████| 695/695 [00:05<00:00, 136.16it/s]\n",
            "  2%|▏         | 14/695 [00:00<00:05, 131.37it/s]"
          ],
          "name": "stderr"
        },
        {
          "output_type": "stream",
          "text": [
            "566 "
          ],
          "name": "stdout"
        },
        {
          "output_type": "stream",
          "text": [
            "100%|██████████| 695/695 [00:05<00:00, 136.53it/s]\n",
            "  2%|▏         | 14/695 [00:00<00:05, 134.62it/s]"
          ],
          "name": "stderr"
        },
        {
          "output_type": "stream",
          "text": [
            "567 "
          ],
          "name": "stdout"
        },
        {
          "output_type": "stream",
          "text": [
            "100%|██████████| 695/695 [00:05<00:00, 134.72it/s]\n",
            "  2%|▏         | 14/695 [00:00<00:04, 139.15it/s]"
          ],
          "name": "stderr"
        },
        {
          "output_type": "stream",
          "text": [
            "568 "
          ],
          "name": "stdout"
        },
        {
          "output_type": "stream",
          "text": [
            "100%|██████████| 695/695 [00:05<00:00, 134.92it/s]\n",
            "  2%|▏         | 14/695 [00:00<00:05, 131.77it/s]"
          ],
          "name": "stderr"
        },
        {
          "output_type": "stream",
          "text": [
            "569 "
          ],
          "name": "stdout"
        },
        {
          "output_type": "stream",
          "text": [
            "100%|██████████| 695/695 [00:05<00:00, 134.62it/s]\n",
            "  2%|▏         | 14/695 [00:00<00:05, 132.76it/s]"
          ],
          "name": "stderr"
        },
        {
          "output_type": "stream",
          "text": [
            "570 "
          ],
          "name": "stdout"
        },
        {
          "output_type": "stream",
          "text": [
            "100%|██████████| 695/695 [00:05<00:00, 134.87it/s]\n",
            "  2%|▏         | 14/695 [00:00<00:05, 135.37it/s]"
          ],
          "name": "stderr"
        },
        {
          "output_type": "stream",
          "text": [
            "571 "
          ],
          "name": "stdout"
        },
        {
          "output_type": "stream",
          "text": [
            "100%|██████████| 695/695 [00:05<00:00, 135.45it/s]\n",
            "  2%|▏         | 14/695 [00:00<00:05, 134.28it/s]"
          ],
          "name": "stderr"
        },
        {
          "output_type": "stream",
          "text": [
            "572 "
          ],
          "name": "stdout"
        },
        {
          "output_type": "stream",
          "text": [
            "100%|██████████| 695/695 [00:05<00:00, 135.08it/s]\n",
            "  2%|▏         | 14/695 [00:00<00:05, 132.28it/s]"
          ],
          "name": "stderr"
        },
        {
          "output_type": "stream",
          "text": [
            "573 "
          ],
          "name": "stdout"
        },
        {
          "output_type": "stream",
          "text": [
            "100%|██████████| 695/695 [00:05<00:00, 135.15it/s]\n",
            "  2%|▏         | 14/695 [00:00<00:04, 138.41it/s]"
          ],
          "name": "stderr"
        },
        {
          "output_type": "stream",
          "text": [
            "574 "
          ],
          "name": "stdout"
        },
        {
          "output_type": "stream",
          "text": [
            "100%|██████████| 695/695 [00:05<00:00, 136.02it/s]\n",
            "  2%|▏         | 14/695 [00:00<00:04, 139.91it/s]"
          ],
          "name": "stderr"
        },
        {
          "output_type": "stream",
          "text": [
            "575 "
          ],
          "name": "stdout"
        },
        {
          "output_type": "stream",
          "text": [
            "100%|██████████| 695/695 [00:05<00:00, 134.02it/s]\n",
            "  2%|▏         | 14/695 [00:00<00:05, 135.10it/s]"
          ],
          "name": "stderr"
        },
        {
          "output_type": "stream",
          "text": [
            "576 "
          ],
          "name": "stdout"
        },
        {
          "output_type": "stream",
          "text": [
            "100%|██████████| 695/695 [00:05<00:00, 133.91it/s]\n",
            "  2%|▏         | 13/695 [00:00<00:05, 126.64it/s]"
          ],
          "name": "stderr"
        },
        {
          "output_type": "stream",
          "text": [
            "577 "
          ],
          "name": "stdout"
        },
        {
          "output_type": "stream",
          "text": [
            "100%|██████████| 695/695 [00:05<00:00, 134.57it/s]\n",
            "  2%|▏         | 14/695 [00:00<00:04, 136.81it/s]"
          ],
          "name": "stderr"
        },
        {
          "output_type": "stream",
          "text": [
            "578 "
          ],
          "name": "stdout"
        },
        {
          "output_type": "stream",
          "text": [
            "100%|██████████| 695/695 [00:05<00:00, 133.21it/s]\n",
            "  2%|▏         | 14/695 [00:00<00:04, 139.55it/s]"
          ],
          "name": "stderr"
        },
        {
          "output_type": "stream",
          "text": [
            "579 "
          ],
          "name": "stdout"
        },
        {
          "output_type": "stream",
          "text": [
            "100%|██████████| 695/695 [00:05<00:00, 135.85it/s]\n",
            "  2%|▏         | 14/695 [00:00<00:05, 135.90it/s]"
          ],
          "name": "stderr"
        },
        {
          "output_type": "stream",
          "text": [
            "580 "
          ],
          "name": "stdout"
        },
        {
          "output_type": "stream",
          "text": [
            "100%|██████████| 695/695 [00:05<00:00, 135.30it/s]\n"
          ],
          "name": "stderr"
        }
      ]
    },
    {
      "cell_type": "markdown",
      "metadata": {
        "id": "XqZqQrzWlhcB"
      },
      "source": [
        "## Preditions"
      ]
    },
    {
      "cell_type": "code",
      "metadata": {
        "id": "5cetQf76lg2h",
        "colab": {
          "base_uri": "https://localhost:8080/",
          "height": 402
        },
        "outputId": "d6db77c1-d4f1-41dd-dc2c-5200e093f06f"
      },
      "source": [
        "qa_latest_result = sorted([\n",
        "    (int(ckpt.group(1)), os.path.join(qa_output_path, ckpt.group(0)))\n",
        "    for ckpt in map(lambda f:re.match(r'decision_(\\d+).csv', f), os.listdir(qa_output_path))\n",
        "    if ckpt is not None\n",
        "], key=lambda x: x[0])[-1]\n",
        "\n",
        "pd.read_csv(open(qa_latest_result[1]))"
      ],
      "execution_count": null,
      "outputs": [
        {
          "output_type": "execute_result",
          "data": {
            "text/html": [
              "<div>\n",
              "<style scoped>\n",
              "    .dataframe tbody tr th:only-of-type {\n",
              "        vertical-align: middle;\n",
              "    }\n",
              "\n",
              "    .dataframe tbody tr th {\n",
              "        vertical-align: top;\n",
              "    }\n",
              "\n",
              "    .dataframe thead th {\n",
              "        text-align: right;\n",
              "    }\n",
              "</style>\n",
              "<table border=\"1\" class=\"dataframe\">\n",
              "  <thead>\n",
              "    <tr style=\"text-align: right;\">\n",
              "      <th></th>\n",
              "      <th>id</th>\n",
              "      <th>label</th>\n",
              "    </tr>\n",
              "  </thead>\n",
              "  <tbody>\n",
              "    <tr>\n",
              "      <th>0</th>\n",
              "      <td>1</td>\n",
              "      <td>C</td>\n",
              "    </tr>\n",
              "    <tr>\n",
              "      <th>1</th>\n",
              "      <td>2</td>\n",
              "      <td>A</td>\n",
              "    </tr>\n",
              "    <tr>\n",
              "      <th>2</th>\n",
              "      <td>3</td>\n",
              "      <td>C</td>\n",
              "    </tr>\n",
              "    <tr>\n",
              "      <th>3</th>\n",
              "      <td>4</td>\n",
              "      <td>C</td>\n",
              "    </tr>\n",
              "    <tr>\n",
              "      <th>4</th>\n",
              "      <td>5</td>\n",
              "      <td>C</td>\n",
              "    </tr>\n",
              "    <tr>\n",
              "      <th>...</th>\n",
              "      <td>...</td>\n",
              "      <td>...</td>\n",
              "    </tr>\n",
              "    <tr>\n",
              "      <th>690</th>\n",
              "      <td>691</td>\n",
              "      <td>B</td>\n",
              "    </tr>\n",
              "    <tr>\n",
              "      <th>691</th>\n",
              "      <td>692</td>\n",
              "      <td>C</td>\n",
              "    </tr>\n",
              "    <tr>\n",
              "      <th>692</th>\n",
              "      <td>693</td>\n",
              "      <td>B</td>\n",
              "    </tr>\n",
              "    <tr>\n",
              "      <th>693</th>\n",
              "      <td>694</td>\n",
              "      <td>C</td>\n",
              "    </tr>\n",
              "    <tr>\n",
              "      <th>694</th>\n",
              "      <td>695</td>\n",
              "      <td>A</td>\n",
              "    </tr>\n",
              "  </tbody>\n",
              "</table>\n",
              "<p>695 rows × 2 columns</p>\n",
              "</div>"
            ],
            "text/plain": [
              "      id label\n",
              "0      1     C\n",
              "1      2     A\n",
              "2      3     C\n",
              "3      4     C\n",
              "4      5     C\n",
              "..   ...   ...\n",
              "690  691     B\n",
              "691  692     C\n",
              "692  693     B\n",
              "693  694     C\n",
              "694  695     A\n",
              "\n",
              "[695 rows x 2 columns]"
            ]
          },
          "metadata": {
            "tags": []
          },
          "execution_count": 68
        }
      ]
    },
    {
      "cell_type": "code",
      "metadata": {
        "id": "yJkE38gMcAYd"
      },
      "source": [
        "dff = pd.read_json(r'/content/data/Train_qa_ans.json')\n",
        "dff.to_csv (r'output/decision.csv', index = None)"
      ],
      "execution_count": null,
      "outputs": []
    },
    {
      "cell_type": "code",
      "metadata": {
        "colab": {
          "base_uri": "https://localhost:8080/"
        },
        "id": "s2fcgoTwcz_v",
        "outputId": "418dfd48-73b6-4f48-d448-e89cff2bd1f5"
      },
      "source": [
        "with open('output/decision_10440.csv') as csvfile:\n",
        "    rows = csv.reader(csvfile)\n",
        "    i=0\n",
        "    for row in rows:\n",
        "        i=i+1\n",
        "        print(row[1].strip(),i)"
      ],
      "execution_count": null,
      "outputs": [
        {
          "output_type": "stream",
          "text": [
            "label 1\n",
            "C 2\n",
            "A 3\n",
            "C 4\n",
            "C 5\n",
            "C 6\n",
            "B 7\n",
            "C 8\n",
            "C 9\n",
            "B 10\n",
            "C 11\n",
            "C 12\n",
            "A 13\n",
            "C 14\n",
            "A 15\n",
            "A 16\n",
            "C 17\n",
            "B 18\n",
            "A 19\n",
            "A 20\n",
            "A 21\n",
            "B 22\n",
            "A 23\n",
            "C 24\n",
            "C 25\n",
            "B 26\n",
            "C 27\n",
            "B 28\n",
            "B 29\n",
            "B 30\n",
            "A 31\n",
            "C 32\n",
            "A 33\n",
            "C 34\n",
            "C 35\n",
            "C 36\n",
            "C 37\n",
            "B 38\n",
            "B 39\n",
            "A 40\n",
            "C 41\n",
            "C 42\n",
            "B 43\n",
            "A 44\n",
            "C 45\n",
            "A 46\n",
            "C 47\n",
            "C 48\n",
            "C 49\n",
            "A 50\n",
            "A 51\n",
            "B 52\n",
            "C 53\n",
            "A 54\n",
            "C 55\n",
            "C 56\n",
            "C 57\n",
            "A 58\n",
            "A 59\n",
            "B 60\n",
            "A 61\n",
            "A 62\n",
            "B 63\n",
            "A 64\n",
            "B 65\n",
            "C 66\n",
            "A 67\n",
            "B 68\n",
            "C 69\n",
            "B 70\n",
            "A 71\n",
            "B 72\n",
            "B 73\n",
            "C 74\n",
            "C 75\n",
            "B 76\n",
            "A 77\n",
            "B 78\n",
            "B 79\n",
            "A 80\n",
            "A 81\n",
            "C 82\n",
            "A 83\n",
            "A 84\n",
            "A 85\n",
            "A 86\n",
            "B 87\n",
            "C 88\n",
            "A 89\n",
            "A 90\n",
            "C 91\n",
            "A 92\n",
            "A 93\n",
            "C 94\n",
            "C 95\n",
            "C 96\n",
            "A 97\n",
            "C 98\n",
            "A 99\n",
            "C 100\n",
            "C 101\n",
            "B 102\n",
            "B 103\n",
            "B 104\n",
            "C 105\n",
            "A 106\n",
            "C 107\n",
            "B 108\n",
            "B 109\n",
            "A 110\n",
            "C 111\n",
            "B 112\n",
            "B 113\n",
            "A 114\n",
            "C 115\n",
            "A 116\n",
            "C 117\n",
            "A 118\n",
            "A 119\n",
            "C 120\n",
            "C 121\n",
            "A 122\n",
            "B 123\n",
            "C 124\n",
            "B 125\n",
            "C 126\n",
            "C 127\n",
            "A 128\n",
            "C 129\n",
            "C 130\n",
            "C 131\n",
            "B 132\n",
            "C 133\n",
            "B 134\n",
            "A 135\n",
            "C 136\n",
            "A 137\n",
            "C 138\n",
            "A 139\n",
            "B 140\n",
            "C 141\n",
            "A 142\n",
            "A 143\n",
            "B 144\n",
            "C 145\n",
            "B 146\n",
            "B 147\n",
            "A 148\n",
            "A 149\n",
            "C 150\n",
            "C 151\n",
            "B 152\n",
            "A 153\n",
            "A 154\n",
            "A 155\n",
            "B 156\n",
            "A 157\n",
            "A 158\n",
            "B 159\n",
            "A 160\n",
            "C 161\n",
            "B 162\n",
            "B 163\n",
            "C 164\n",
            "C 165\n",
            "A 166\n",
            "A 167\n",
            "C 168\n",
            "C 169\n",
            "C 170\n",
            "C 171\n",
            "C 172\n",
            "A 173\n",
            "A 174\n",
            "A 175\n",
            "C 176\n",
            "B 177\n",
            "C 178\n",
            "A 179\n",
            "C 180\n",
            "C 181\n",
            "C 182\n",
            "C 183\n",
            "C 184\n",
            "B 185\n",
            "C 186\n",
            "C 187\n",
            "B 188\n",
            "C 189\n",
            "C 190\n",
            "B 191\n",
            "C 192\n",
            "A 193\n",
            "C 194\n",
            "C 195\n",
            "C 196\n",
            "B 197\n",
            "C 198\n",
            "C 199\n",
            "C 200\n",
            "C 201\n",
            "C 202\n",
            "A 203\n",
            "C 204\n",
            "A 205\n",
            "B 206\n",
            "A 207\n",
            "C 208\n",
            "C 209\n",
            "B 210\n",
            "C 211\n",
            "A 212\n",
            "A 213\n",
            "C 214\n",
            "C 215\n",
            "C 216\n",
            "C 217\n",
            "B 218\n",
            "B 219\n",
            "A 220\n",
            "A 221\n",
            "B 222\n",
            "C 223\n",
            "A 224\n",
            "C 225\n",
            "A 226\n",
            "B 227\n",
            "B 228\n",
            "A 229\n",
            "A 230\n",
            "B 231\n",
            "C 232\n",
            "C 233\n",
            "B 234\n",
            "A 235\n",
            "A 236\n",
            "A 237\n",
            "C 238\n",
            "C 239\n",
            "A 240\n",
            "C 241\n",
            "B 242\n",
            "B 243\n",
            "A 244\n",
            "B 245\n",
            "A 246\n",
            "C 247\n",
            "A 248\n",
            "B 249\n",
            "C 250\n",
            "A 251\n",
            "C 252\n",
            "C 253\n",
            "B 254\n",
            "B 255\n",
            "A 256\n",
            "A 257\n",
            "C 258\n",
            "C 259\n",
            "A 260\n",
            "A 261\n",
            "C 262\n",
            "B 263\n",
            "B 264\n",
            "A 265\n",
            "C 266\n",
            "A 267\n",
            "C 268\n",
            "B 269\n",
            "A 270\n",
            "C 271\n",
            "A 272\n",
            "C 273\n",
            "A 274\n",
            "B 275\n",
            "C 276\n",
            "C 277\n",
            "A 278\n",
            "A 279\n",
            "B 280\n",
            "A 281\n",
            "C 282\n",
            "A 283\n",
            "A 284\n",
            "A 285\n",
            "C 286\n",
            "C 287\n",
            "C 288\n",
            "B 289\n",
            "B 290\n",
            "A 291\n",
            "A 292\n",
            "A 293\n",
            "C 294\n",
            "C 295\n",
            "B 296\n",
            "A 297\n",
            "A 298\n",
            "A 299\n",
            "C 300\n",
            "B 301\n",
            "B 302\n",
            "A 303\n",
            "C 304\n",
            "C 305\n",
            "A 306\n",
            "C 307\n",
            "B 308\n",
            "C 309\n",
            "A 310\n",
            "A 311\n",
            "A 312\n",
            "C 313\n",
            "B 314\n",
            "A 315\n",
            "C 316\n",
            "B 317\n",
            "B 318\n",
            "B 319\n",
            "A 320\n",
            "C 321\n",
            "B 322\n",
            "B 323\n",
            "A 324\n",
            "C 325\n",
            "C 326\n",
            "A 327\n",
            "B 328\n",
            "B 329\n",
            "A 330\n",
            "A 331\n",
            "B 332\n",
            "A 333\n",
            "B 334\n",
            "A 335\n",
            "B 336\n",
            "C 337\n",
            "A 338\n",
            "A 339\n",
            "B 340\n",
            "A 341\n",
            "A 342\n",
            "B 343\n",
            "B 344\n",
            "B 345\n",
            "C 346\n",
            "A 347\n",
            "C 348\n",
            "B 349\n",
            "C 350\n",
            "B 351\n",
            "A 352\n",
            "B 353\n",
            "A 354\n",
            "C 355\n",
            "C 356\n",
            "C 357\n",
            "B 358\n",
            "A 359\n",
            "C 360\n",
            "C 361\n",
            "B 362\n",
            "A 363\n",
            "B 364\n",
            "B 365\n",
            "A 366\n",
            "C 367\n",
            "C 368\n",
            "B 369\n",
            "C 370\n",
            "C 371\n",
            "A 372\n",
            "C 373\n",
            "B 374\n",
            "B 375\n",
            "C 376\n",
            "A 377\n",
            "C 378\n",
            "B 379\n",
            "A 380\n",
            "C 381\n",
            "B 382\n",
            "B 383\n",
            "C 384\n",
            "C 385\n",
            "A 386\n",
            "A 387\n",
            "B 388\n",
            "B 389\n",
            "C 390\n",
            "C 391\n",
            "A 392\n",
            "A 393\n",
            "B 394\n",
            "A 395\n",
            "A 396\n",
            "A 397\n",
            "B 398\n",
            "C 399\n",
            "A 400\n",
            "C 401\n",
            "A 402\n",
            "C 403\n",
            "A 404\n",
            "A 405\n",
            "C 406\n",
            "A 407\n",
            "C 408\n",
            "C 409\n",
            "A 410\n",
            "C 411\n",
            "C 412\n",
            "B 413\n",
            "B 414\n",
            "A 415\n",
            "C 416\n",
            "A 417\n",
            "B 418\n",
            "A 419\n",
            "B 420\n",
            "C 421\n",
            "B 422\n",
            "A 423\n",
            "C 424\n",
            "C 425\n",
            "A 426\n",
            "A 427\n",
            "A 428\n",
            "A 429\n",
            "A 430\n",
            "B 431\n",
            "C 432\n",
            "C 433\n",
            "C 434\n",
            "A 435\n",
            "B 436\n",
            "A 437\n",
            "B 438\n",
            "A 439\n",
            "C 440\n",
            "C 441\n",
            "C 442\n",
            "B 443\n",
            "A 444\n",
            "B 445\n",
            "A 446\n",
            "B 447\n",
            "C 448\n",
            "B 449\n",
            "B 450\n",
            "C 451\n",
            "C 452\n",
            "B 453\n",
            "C 454\n",
            "C 455\n",
            "C 456\n",
            "A 457\n",
            "C 458\n",
            "C 459\n",
            "B 460\n",
            "A 461\n",
            "A 462\n",
            "A 463\n",
            "C 464\n",
            "A 465\n",
            "C 466\n",
            "A 467\n",
            "B 468\n",
            "A 469\n",
            "B 470\n",
            "B 471\n",
            "C 472\n",
            "B 473\n",
            "C 474\n",
            "B 475\n",
            "C 476\n",
            "B 477\n",
            "C 478\n",
            "B 479\n",
            "B 480\n",
            "A 481\n",
            "A 482\n",
            "C 483\n",
            "C 484\n",
            "B 485\n",
            "C 486\n",
            "C 487\n",
            "C 488\n",
            "C 489\n",
            "C 490\n",
            "C 491\n",
            "C 492\n",
            "C 493\n",
            "C 494\n",
            "B 495\n",
            "B 496\n",
            "C 497\n",
            "C 498\n",
            "C 499\n",
            "B 500\n",
            "C 501\n",
            "C 502\n",
            "A 503\n",
            "A 504\n",
            "C 505\n",
            "B 506\n",
            "C 507\n",
            "A 508\n",
            "C 509\n",
            "B 510\n",
            "A 511\n",
            "C 512\n",
            "B 513\n",
            "A 514\n",
            "B 515\n",
            "C 516\n",
            "C 517\n",
            "B 518\n",
            "C 519\n",
            "A 520\n",
            "B 521\n",
            "C 522\n",
            "C 523\n",
            "B 524\n",
            "C 525\n",
            "C 526\n",
            "A 527\n",
            "A 528\n",
            "A 529\n",
            "C 530\n",
            "C 531\n",
            "C 532\n",
            "A 533\n",
            "A 534\n",
            "C 535\n",
            "B 536\n",
            "A 537\n",
            "A 538\n",
            "A 539\n",
            "C 540\n",
            "A 541\n",
            "C 542\n",
            "A 543\n",
            "A 544\n",
            "C 545\n",
            "C 546\n",
            "A 547\n",
            "C 548\n",
            "C 549\n",
            "A 550\n",
            "B 551\n",
            "A 552\n",
            "B 553\n",
            "A 554\n",
            "A 555\n",
            "B 556\n",
            "A 557\n",
            "A 558\n",
            "A 559\n",
            "C 560\n",
            "A 561\n",
            "A 562\n",
            "A 563\n",
            "C 564\n",
            "C 565\n",
            "C 566\n",
            "A 567\n",
            "C 568\n",
            "C 569\n",
            "B 570\n",
            "B 571\n",
            "C 572\n",
            "A 573\n",
            "B 574\n",
            "A 575\n",
            "C 576\n",
            "A 577\n",
            "A 578\n",
            "A 579\n",
            "A 580\n",
            "C 581\n",
            "A 582\n",
            "B 583\n",
            "C 584\n",
            "A 585\n",
            "B 586\n",
            "C 587\n",
            "A 588\n",
            "A 589\n",
            "B 590\n",
            "A 591\n",
            "B 592\n",
            "C 593\n",
            "C 594\n",
            "B 595\n",
            "C 596\n",
            "A 597\n",
            "B 598\n",
            "A 599\n",
            "C 600\n",
            "B 601\n",
            "A 602\n",
            "A 603\n",
            "C 604\n",
            "A 605\n",
            "B 606\n",
            "A 607\n",
            "A 608\n",
            "A 609\n",
            "C 610\n",
            "B 611\n",
            "C 612\n",
            "A 613\n",
            "B 614\n",
            "C 615\n",
            "B 616\n",
            "A 617\n",
            "B 618\n",
            "C 619\n",
            "A 620\n",
            "A 621\n",
            "C 622\n",
            "B 623\n",
            "C 624\n",
            "A 625\n",
            "C 626\n",
            "C 627\n",
            "B 628\n",
            "B 629\n",
            "C 630\n",
            "A 631\n",
            "C 632\n",
            "C 633\n",
            "B 634\n",
            "A 635\n",
            "C 636\n",
            "B 637\n",
            "A 638\n",
            "C 639\n",
            "C 640\n",
            "C 641\n",
            "B 642\n",
            "A 643\n",
            "B 644\n",
            "C 645\n",
            "C 646\n",
            "C 647\n",
            "C 648\n",
            "C 649\n",
            "A 650\n",
            "B 651\n",
            "C 652\n",
            "A 653\n",
            "C 654\n",
            "A 655\n",
            "B 656\n",
            "A 657\n",
            "A 658\n",
            "C 659\n",
            "A 660\n",
            "B 661\n",
            "B 662\n",
            "A 663\n",
            "C 664\n",
            "C 665\n",
            "C 666\n",
            "C 667\n",
            "A 668\n",
            "B 669\n",
            "A 670\n",
            "B 671\n",
            "C 672\n",
            "B 673\n",
            "A 674\n",
            "A 675\n",
            "B 676\n",
            "A 677\n",
            "A 678\n",
            "C 679\n",
            "A 680\n",
            "B 681\n",
            "B 682\n",
            "B 683\n",
            "A 684\n",
            "C 685\n",
            "B 686\n",
            "C 687\n",
            "A 688\n",
            "A 689\n",
            "C 690\n",
            "A 691\n",
            "B 692\n",
            "C 693\n",
            "B 694\n",
            "C 695\n",
            "A 696\n"
          ],
          "name": "stdout"
        }
      ]
    },
    {
      "cell_type": "code",
      "metadata": {
        "colab": {
          "base_uri": "https://localhost:8080/"
        },
        "id": "r8aLG4kIhfR-",
        "outputId": "2552b729-6a3e-4bbc-971d-2b06c775a891"
      },
      "source": [
        "import csv\n",
        "ans_file = open('output/decision.csv')\n",
        "decision_file = open('output/decision_10440.csv')\n",
        "rows1 = csv.reader(ans_file)\n",
        "rows2 = csv.reader(decision_file)\n",
        "i1=0\n",
        "i2=0\n",
        "for row1,row2 in zip(rows1,rows2):\n",
        "    print(\"正解:\",row1[4].strip(),\"算出:\",row2[1].strip())\n",
        "    if row1[4].strip()==row2[1].strip():\n",
        "        i2=i2+1\n",
        "    else:\n",
        "        print(\"============Error item============\",sep='')\n",
        "    i1=i1+1\n",
        "print(i1,i2,i2/i1)"
      ],
      "execution_count": null,
      "outputs": [
        {
          "output_type": "stream",
          "text": [
            "正解: answer 算出: label\n",
            "============Error item============\n",
            "正解: C 算出: C\n",
            "正解: A 算出: A\n",
            "正解: C 算出: C\n",
            "正解: C 算出: C\n",
            "正解: C 算出: C\n",
            "正解: B 算出: B\n",
            "正解: C 算出: C\n",
            "正解: C 算出: C\n",
            "正解: B 算出: B\n",
            "正解: C 算出: C\n",
            "正解: Ｃ 算出: C\n",
            "============Error item============\n",
            "正解: Ａ 算出: A\n",
            "============Error item============\n",
            "正解: C 算出: C\n",
            "正解: Ａ 算出: A\n",
            "============Error item============\n",
            "正解: A 算出: A\n",
            "正解: Ｃ 算出: C\n",
            "============Error item============\n",
            "正解: Ｂ 算出: B\n",
            "============Error item============\n",
            "正解: A 算出: A\n",
            "正解: A 算出: A\n",
            "正解: A 算出: A\n",
            "正解: B 算出: B\n",
            "正解: Ａ 算出: A\n",
            "============Error item============\n",
            "正解: C 算出: C\n",
            "正解: C 算出: C\n",
            "正解: B 算出: B\n",
            "正解: C 算出: C\n",
            "正解: B 算出: B\n",
            "正解: B 算出: B\n",
            "正解: B 算出: B\n",
            "正解: Ａ 算出: A\n",
            "============Error item============\n",
            "正解: C 算出: C\n",
            "正解: Ａ 算出: A\n",
            "============Error item============\n",
            "正解: C 算出: C\n",
            "正解: C 算出: C\n",
            "正解: C 算出: C\n",
            "正解: C 算出: C\n",
            "正解: B 算出: B\n",
            "正解: B 算出: B\n",
            "正解: A 算出: A\n",
            "正解: C 算出: C\n",
            "正解: C 算出: C\n",
            "正解: B 算出: B\n",
            "正解: A 算出: A\n",
            "正解: C 算出: C\n",
            "正解: Ａ 算出: A\n",
            "============Error item============\n",
            "正解: C 算出: C\n",
            "正解: C 算出: C\n",
            "正解: C 算出: C\n",
            "正解: A 算出: A\n",
            "正解: A 算出: A\n",
            "正解: Ｂ 算出: B\n",
            "============Error item============\n",
            "正解: C 算出: C\n",
            "正解: A 算出: A\n",
            "正解: C 算出: C\n",
            "正解: C 算出: C\n",
            "正解: C 算出: C\n",
            "正解: Ａ 算出: A\n",
            "============Error item============\n",
            "正解: Ａ 算出: A\n",
            "============Error item============\n",
            "正解: B 算出: B\n",
            "正解: A 算出: A\n",
            "正解: A 算出: A\n",
            "正解: Ｂ 算出: B\n",
            "============Error item============\n",
            "正解: Ａ 算出: A\n",
            "============Error item============\n",
            "正解: Ｂ 算出: B\n",
            "============Error item============\n",
            "正解: C 算出: C\n",
            "正解: Ａ 算出: A\n",
            "============Error item============\n",
            "正解: Ｂ 算出: B\n",
            "============Error item============\n",
            "正解: C 算出: C\n",
            "正解: B 算出: B\n",
            "正解: Ａ 算出: A\n",
            "============Error item============\n",
            "正解: Ｂ 算出: B\n",
            "============Error item============\n",
            "正解: B 算出: B\n",
            "正解: C 算出: C\n",
            "正解: Ｃ 算出: C\n",
            "============Error item============\n",
            "正解: Ｂ 算出: B\n",
            "============Error item============\n",
            "正解: Ａ 算出: A\n",
            "============Error item============\n",
            "正解: Ｂ 算出: B\n",
            "============Error item============\n",
            "正解: B 算出: B\n",
            "正解: A 算出: A\n",
            "正解: A 算出: A\n",
            "正解: C 算出: C\n",
            "正解: A 算出: A\n",
            "正解: A 算出: A\n",
            "正解: A 算出: A\n",
            "正解: Ａ 算出: A\n",
            "============Error item============\n",
            "正解: Ｂ 算出: B\n",
            "============Error item============\n",
            "正解: C 算出: C\n",
            "正解: A 算出: A\n",
            "正解: A 算出: A\n",
            "正解: C 算出: C\n",
            "正解: 菜花 算出: A\n",
            "============Error item============\n",
            "正解: A 算出: A\n",
            "正解: Ｃ 算出: C\n",
            "============Error item============\n",
            "正解: C 算出: C\n",
            "正解: Ｃ 算出: C\n",
            "============Error item============\n",
            "正解: Ａ 算出: A\n",
            "============Error item============\n",
            "正解: C 算出: C\n",
            "正解: A 算出: A\n",
            "正解: C 算出: C\n",
            "正解: C 算出: C\n",
            "正解: B 算出: B\n",
            "正解: B 算出: B\n",
            "正解: Ｂ 算出: B\n",
            "============Error item============\n",
            "正解: C 算出: C\n",
            "正解: Ａ 算出: A\n",
            "============Error item============\n",
            "正解: C 算出: C\n",
            "正解: B 算出: B\n",
            "正解: Ｂ 算出: B\n",
            "============Error item============\n",
            "正解: A 算出: A\n",
            "正解: C 算出: C\n",
            "正解: B 算出: B\n",
            "正解: B 算出: B\n",
            "正解: Ａ 算出: A\n",
            "============Error item============\n",
            "正解: Ｃ 算出: C\n",
            "============Error item============\n",
            "正解: A 算出: A\n",
            "正解: C 算出: C\n",
            "正解: Ａ 算出: A\n",
            "============Error item============\n",
            "正解: Ａ 算出: A\n",
            "============Error item============\n",
            "正解: C 算出: C\n",
            "正解: C 算出: C\n",
            "正解: Ａ 算出: A\n",
            "============Error item============\n",
            "正解: Ｂ 算出: B\n",
            "============Error item============\n",
            "正解: C 算出: C\n",
            "正解: B 算出: B\n",
            "正解: C 算出: C\n",
            "正解: C 算出: C\n",
            "正解: A 算出: A\n",
            "正解: C 算出: C\n",
            "正解: C 算出: C\n",
            "正解: C 算出: C\n",
            "正解: Ｂ 算出: B\n",
            "============Error item============\n",
            "正解: C 算出: C\n",
            "正解: B 算出: B\n",
            "正解: Ａ 算出: A\n",
            "============Error item============\n",
            "正解: Ｃ 算出: C\n",
            "============Error item============\n",
            "正解: Ａ 算出: A\n",
            "============Error item============\n",
            "正解: C 算出: C\n",
            "正解: A 算出: A\n",
            "正解: Ｂ 算出: B\n",
            "============Error item============\n",
            "正解: C 算出: C\n",
            "正解: A 算出: A\n",
            "正解: Ａ 算出: A\n",
            "============Error item============\n",
            "正解: Ｂ 算出: B\n",
            "============Error item============\n",
            "正解: Ｃ 算出: C\n",
            "============Error item============\n",
            "正解: Ｂ 算出: B\n",
            "============Error item============\n",
            "正解: B 算出: B\n",
            "正解: A 算出: A\n",
            "正解: A 算出: A\n",
            "正解: C 算出: C\n",
            "正解: Ｃ 算出: C\n",
            "============Error item============\n",
            "正解: B 算出: B\n",
            "正解: Ａ 算出: A\n",
            "============Error item============\n",
            "正解: A 算出: A\n",
            "正解: A 算出: A\n",
            "正解: B 算出: B\n",
            "正解: A 算出: A\n",
            "正解: A 算出: A\n",
            "正解: B 算出: B\n",
            "正解: A 算出: A\n",
            "正解: C 算出: C\n",
            "正解: B 算出: B\n",
            "正解: B 算出: B\n",
            "正解: C 算出: C\n",
            "正解: Ｃ 算出: C\n",
            "============Error item============\n",
            "正解: Ａ 算出: A\n",
            "============Error item============\n",
            "正解: Ａ 算出: A\n",
            "============Error item============\n",
            "正解: C 算出: C\n",
            "正解: C 算出: C\n",
            "正解: Ｃ 算出: C\n",
            "============Error item============\n",
            "正解: C 算出: C\n",
            "正解: C 算出: C\n",
            "正解: A 算出: A\n",
            "正解: Ａ 算出: A\n",
            "============Error item============\n",
            "正解: A 算出: A\n",
            "正解: C 算出: C\n",
            "正解: B 算出: B\n",
            "正解: C 算出: C\n",
            "正解: A 算出: A\n",
            "正解: Ｃ 算出: C\n",
            "============Error item============\n",
            "正解: C 算出: C\n",
            "正解: C 算出: C\n",
            "正解: C 算出: C\n",
            "正解: C 算出: C\n",
            "正解: B 算出: B\n",
            "正解: Ｃ 算出: C\n",
            "============Error item============\n",
            "正解: C 算出: C\n",
            "正解: B 算出: B\n",
            "正解: C 算出: C\n",
            "正解: C 算出: C\n",
            "正解: B 算出: B\n",
            "正解: Ｃ 算出: C\n",
            "============Error item============\n",
            "正解: Ａ 算出: A\n",
            "============Error item============\n",
            "正解: C 算出: C\n",
            "正解: C 算出: C\n",
            "正解: Ｃ 算出: C\n",
            "============Error item============\n",
            "正解: Ｂ 算出: B\n",
            "============Error item============\n",
            "正解: Ｃ 算出: C\n",
            "============Error item============\n",
            "正解: C 算出: C\n",
            "正解: C 算出: C\n",
            "正解: C 算出: C\n",
            "正解: C 算出: C\n",
            "正解: A 算出: A\n",
            "正解: C 算出: C\n",
            "正解: A 算出: A\n",
            "正解: Ｂ 算出: B\n",
            "============Error item============\n",
            "正解: Ａ 算出: A\n",
            "============Error item============\n",
            "正解: C 算出: C\n",
            "正解: C 算出: C\n",
            "正解: B 算出: B\n",
            "正解: C 算出: C\n",
            "正解: A 算出: A\n",
            "正解: A 算出: A\n",
            "正解: C 算出: C\n",
            "正解: Ｃ 算出: C\n",
            "============Error item============\n",
            "正解: C 算出: C\n",
            "正解: C 算出: C\n",
            "正解: B 算出: B\n",
            "正解: B 算出: B\n",
            "正解: A 算出: A\n",
            "正解: Ａ 算出: A\n",
            "============Error item============\n",
            "正解: Ｂ 算出: B\n",
            "============Error item============\n",
            "正解: Ｃ 算出: C\n",
            "============Error item============\n",
            "正解: Ａ 算出: A\n",
            "============Error item============\n",
            "正解: Ｃ 算出: C\n",
            "============Error item============\n",
            "正解: Ａ 算出: A\n",
            "============Error item============\n",
            "正解: Ｂ 算出: B\n",
            "============Error item============\n",
            "正解: B 算出: B\n",
            "正解: A 算出: A\n",
            "正解: Ａ 算出: A\n",
            "============Error item============\n",
            "正解: Ｂ 算出: B\n",
            "============Error item============\n",
            "正解: Ｃ 算出: C\n",
            "============Error item============\n",
            "正解: Ｃ 算出: C\n",
            "============Error item============\n",
            "正解: Ｂ 算出: B\n",
            "============Error item============\n",
            "正解: Ａ 算出: A\n",
            "============Error item============\n",
            "正解: Ａ 算出: A\n",
            "============Error item============\n",
            "正解: Ａ 算出: A\n",
            "============Error item============\n",
            "正解: Ｃ 算出: C\n",
            "============Error item============\n",
            "正解: Ｃ 算出: C\n",
            "============Error item============\n",
            "正解: Ａ 算出: A\n",
            "============Error item============\n",
            "正解: Ｃ 算出: C\n",
            "============Error item============\n",
            "正解: B 算出: B\n",
            "正解: B 算出: B\n",
            "正解: Ａ 算出: A\n",
            "============Error item============\n",
            "正解: Ｂ 算出: B\n",
            "============Error item============\n",
            "正解: A 算出: A\n",
            "正解: C 算出: C\n",
            "正解: A 算出: A\n",
            "正解: B 算出: B\n",
            "正解: C 算出: C\n",
            "正解: Ａ 算出: A\n",
            "============Error item============\n",
            "正解: C 算出: C\n",
            "正解: C 算出: C\n",
            "正解: B 算出: B\n",
            "正解: B 算出: B\n",
            "正解: A 算出: A\n",
            "正解: Ａ 算出: A\n",
            "============Error item============\n",
            "正解: Ｃ 算出: C\n",
            "============Error item============\n",
            "正解: C 算出: C\n",
            "正解: Ａ 算出: A\n",
            "============Error item============\n",
            "正解: Ａ 算出: A\n",
            "============Error item============\n",
            "正解: C 算出: C\n",
            "正解: B 算出: B\n",
            "正解: Ｂ 算出: B\n",
            "============Error item============\n",
            "正解: A 算出: A\n",
            "正解: C 算出: C\n",
            "正解: A 算出: A\n",
            "正解: C 算出: C\n",
            "正解: B 算出: B\n",
            "正解: A 算出: A\n",
            "正解: C 算出: C\n",
            "正解: Ａ 算出: A\n",
            "============Error item============\n",
            "正解: Ｃ 算出: C\n",
            "============Error item============\n",
            "正解: Ａ 算出: A\n",
            "============Error item============\n",
            "正解: B 算出: B\n",
            "正解: C 算出: C\n",
            "正解: Ｃ 算出: C\n",
            "============Error item============\n",
            "正解: Ａ 算出: A\n",
            "============Error item============\n",
            "正解: Ａ 算出: A\n",
            "============Error item============\n",
            "正解: Ｂ 算出: B\n",
            "============Error item============\n",
            "正解: Ａ 算出: A\n",
            "============Error item============\n",
            "正解: C 算出: C\n",
            "正解: Ａ 算出: A\n",
            "============Error item============\n",
            "正解: Ａ 算出: A\n",
            "============Error item============\n",
            "正解: Ａ 算出: A\n",
            "============Error item============\n",
            "正解: C 算出: C\n",
            "正解: C 算出: C\n",
            "正解: C 算出: C\n",
            "正解: B 算出: B\n",
            "正解: B 算出: B\n",
            "正解: Ａ 算出: A\n",
            "============Error item============\n",
            "正解: A 算出: A\n",
            "正解: Ａ 算出: A\n",
            "============Error item============\n",
            "正解: C 算出: C\n",
            "正解: C 算出: C\n",
            "正解: B 算出: B\n",
            "正解: Ａ 算出: A\n",
            "============Error item============\n",
            "正解: Ａ 算出: A\n",
            "============Error item============\n",
            "正解: Ａ 算出: A\n",
            "============Error item============\n",
            "正解: Ｃ 算出: C\n",
            "============Error item============\n",
            "正解: B 算出: B\n",
            "正解: B 算出: B\n",
            "正解: Ａ 算出: A\n",
            "============Error item============\n",
            "正解: C 算出: C\n",
            "正解: C 算出: C\n",
            "正解: A 算出: A\n",
            "正解: C 算出: C\n",
            "正解: B 算出: B\n",
            "正解: C 算出: C\n",
            "正解: A 算出: A\n",
            "正解: A 算出: A\n",
            "正解: A 算出: A\n",
            "正解: C 算出: C\n",
            "正解: B 算出: B\n",
            "正解: Ａ 算出: A\n",
            "============Error item============\n",
            "正解: C 算出: C\n",
            "正解: B 算出: B\n",
            "正解: B 算出: B\n",
            "正解: B 算出: B\n",
            "正解: Ａ 算出: A\n",
            "============Error item============\n",
            "正解: Ｃ 算出: C\n",
            "============Error item============\n",
            "正解: B 算出: B\n",
            "正解: Ｂ 算出: B\n",
            "============Error item============\n",
            "正解: A 算出: A\n",
            "正解: C 算出: C\n",
            "正解: Ｃ 算出: C\n",
            "============Error item============\n",
            "正解: Ａ 算出: A\n",
            "============Error item============\n",
            "正解: B 算出: B\n",
            "正解: B 算出: B\n",
            "正解: Ａ 算出: A\n",
            "============Error item============\n",
            "正解: Ａ 算出: A\n",
            "============Error item============\n",
            "正解: Ｂ 算出: B\n",
            "============Error item============\n",
            "正解: Ａ 算出: A\n",
            "============Error item============\n",
            "正解: Ｂ 算出: B\n",
            "============Error item============\n",
            "正解: A 算出: A\n",
            "正解: B 算出: B\n",
            "正解: Ｃ 算出: C\n",
            "============Error item============\n",
            "正解: Ａ 算出: A\n",
            "============Error item============\n",
            "正解: Ａ 算出: A\n",
            "============Error item============\n",
            "正解: Ｂ 算出: B\n",
            "============Error item============\n",
            "正解: Ａ 算出: A\n",
            "============Error item============\n",
            "正解: Ａ 算出: A\n",
            "============Error item============\n",
            "正解: Ｂ 算出: B\n",
            "============Error item============\n",
            "正解: Ｂ 算出: B\n",
            "============Error item============\n",
            "正解: B 算出: B\n",
            "正解: C 算出: C\n",
            "正解: A 算出: A\n",
            "正解: C 算出: C\n",
            "正解: B 算出: B\n",
            "正解: C 算出: C\n",
            "正解: B 算出: B\n",
            "正解: A 算出: A\n",
            "正解: B 算出: B\n",
            "正解: A 算出: A\n",
            "正解: C 算出: C\n",
            "正解: Ｃ 算出: C\n",
            "============Error item============\n",
            "正解: C 算出: C\n",
            "正解: B 算出: B\n",
            "正解: A 算出: A\n",
            "正解: C 算出: C\n",
            "正解: Ｃ 算出: C\n",
            "============Error item============\n",
            "正解: Ｂ 算出: B\n",
            "============Error item============\n",
            "正解: Ａ 算出: A\n",
            "============Error item============\n",
            "正解: B 算出: B\n",
            "正解: B 算出: B\n",
            "正解: Ａ 算出: A\n",
            "============Error item============\n",
            "正解: C 算出: C\n",
            "正解: Ｃ 算出: C\n",
            "============Error item============\n",
            "正解: Ｂ 算出: B\n",
            "============Error item============\n",
            "正解: Ｃ 算出: C\n",
            "============Error item============\n",
            "正解: C 算出: C\n",
            "正解: A 算出: A\n",
            "正解: C 算出: C\n",
            "正解: B 算出: B\n",
            "正解: B 算出: B\n",
            "正解: C 算出: C\n",
            "正解: A 算出: A\n",
            "正解: C 算出: C\n",
            "正解: B 算出: B\n",
            "正解: Ａ 算出: A\n",
            "============Error item============\n",
            "正解: C 算出: C\n",
            "正解: B 算出: B\n",
            "正解: Ｂ 算出: B\n",
            "============Error item============\n",
            "正解: C 算出: C\n",
            "正解: C 算出: C\n",
            "正解: A 算出: A\n",
            "正解: Ａ 算出: A\n",
            "============Error item============\n",
            "正解: Ｂ 算出: B\n",
            "============Error item============\n",
            "正解: B 算出: B\n",
            "正解: C 算出: C\n",
            "正解: C 算出: C\n",
            "正解: Ａ 算出: A\n",
            "============Error item============\n",
            "正解: Ａ 算出: A\n",
            "============Error item============\n",
            "正解: B 算出: B\n",
            "正解: A 算出: A\n",
            "正解: A 算出: A\n",
            "正解: A 算出: A\n",
            "正解: B 算出: B\n",
            "正解: C 算出: C\n",
            "正解: Ａ 算出: A\n",
            "============Error item============\n",
            "正解: C 算出: C\n",
            "正解: A 算出: A\n",
            "正解: Ｃ 算出: C\n",
            "============Error item============\n",
            "正解: Ａ 算出: A\n",
            "============Error item============\n",
            "正解: Ａ 算出: A\n",
            "============Error item============\n",
            "正解: C 算出: C\n",
            "正解: A 算出: A\n",
            "正解: C 算出: C\n",
            "正解: C 算出: C\n",
            "正解: A 算出: A\n",
            "正解: C 算出: C\n",
            "正解: C 算出: C\n",
            "正解: B 算出: B\n",
            "正解: B 算出: B\n",
            "正解: A 算出: A\n",
            "正解: Ｃ 算出: C\n",
            "============Error item============\n",
            "正解: Ａ 算出: A\n",
            "============Error item============\n",
            "正解: B 算出: B\n",
            "正解: C 算出: A\n",
            "============Error item============\n",
            "正解: B 算出: B\n",
            "正解: C 算出: C\n",
            "正解: B 算出: B\n",
            "正解: Ａ 算出: A\n",
            "============Error item============\n",
            "正解: C 算出: C\n",
            "正解: C 算出: C\n",
            "正解: Ａ 算出: A\n",
            "============Error item============\n",
            "正解: Ａ 算出: A\n",
            "============Error item============\n",
            "正解: Ａ 算出: A\n",
            "============Error item============\n",
            "正解: Ａ 算出: A\n",
            "============Error item============\n",
            "正解: Ａ 算出: A\n",
            "============Error item============\n",
            "正解: B 算出: B\n",
            "正解: C 算出: C\n",
            "正解: C 算出: C\n",
            "正解: C 算出: C\n",
            "正解: A 算出: A\n",
            "正解: B 算出: B\n",
            "正解: Ａ 算出: A\n",
            "============Error item============\n",
            "正解: B 算出: B\n",
            "正解: A 算出: A\n",
            "正解: C 算出: C\n",
            "正解: C 算出: C\n",
            "正解: C 算出: C\n",
            "正解: B 算出: B\n",
            "正解: Ａ 算出: A\n",
            "============Error item============\n",
            "正解: B 算出: B\n",
            "正解: Ａ 算出: A\n",
            "============Error item============\n",
            "正解: Ｂ 算出: B\n",
            "============Error item============\n",
            "正解: Ｃ 算出: C\n",
            "============Error item============\n",
            "正解: Ｂ 算出: B\n",
            "============Error item============\n",
            "正解: B 算出: B\n",
            "正解: C 算出: C\n",
            "正解: Ｃ 算出: C\n",
            "============Error item============\n",
            "正解: Ｂ 算出: B\n",
            "============Error item============\n",
            "正解: C 算出: C\n",
            "正解: C 算出: C\n",
            "正解: C 算出: C\n",
            "正解: Ａ 算出: A\n",
            "============Error item============\n",
            "正解: C 算出: C\n",
            "正解: C 算出: C\n",
            "正解: B 算出: B\n",
            "正解: A 算出: A\n",
            "正解: A 算出: A\n",
            "正解: A 算出: A\n",
            "正解: C 算出: C\n",
            "正解: Ａ 算出: A\n",
            "============Error item============\n",
            "正解: C 算出: C\n",
            "正解: A 算出: A\n",
            "正解: Ｂ 算出: B\n",
            "============Error item============\n",
            "正解: A 算出: A\n",
            "正解: B 算出: B\n",
            "正解: B 算出: B\n",
            "正解: C 算出: C\n",
            "正解: B 算出: B\n",
            "正解: C 算出: C\n",
            "正解: B 算出: B\n",
            "正解: C 算出: C\n",
            "正解: B 算出: B\n",
            "正解: C 算出: C\n",
            "正解: B 算出: B\n",
            "正解: B 算出: B\n",
            "正解: Ａ 算出: A\n",
            "============Error item============\n",
            "正解: Ａ 算出: A\n",
            "============Error item============\n",
            "正解: C 算出: C\n",
            "正解: C 算出: C\n",
            "正解: B 算出: B\n",
            "正解: C 算出: C\n",
            "正解: C 算出: C\n",
            "正解: Ｃ 算出: C\n",
            "============Error item============\n",
            "正解: C 算出: C\n",
            "正解: C 算出: C\n",
            "正解: C 算出: C\n",
            "正解: C 算出: C\n",
            "正解: C 算出: C\n",
            "正解: C 算出: C\n",
            "正解: B 算出: B\n",
            "正解: B 算出: B\n",
            "正解: C 算出: C\n",
            "正解: C 算出: C\n",
            "正解: C 算出: C\n",
            "正解: B 算出: B\n",
            "正解: C 算出: C\n",
            "正解: Ｃ 算出: C\n",
            "============Error item============\n",
            "正解: Ａ 算出: A\n",
            "============Error item============\n",
            "正解: A 算出: A\n",
            "正解: C 算出: C\n",
            "正解: B 算出: B\n",
            "正解: C 算出: C\n",
            "正解: Ａ 算出: A\n",
            "============Error item============\n",
            "正解: Ｃ 算出: C\n",
            "============Error item============\n",
            "正解: B 算出: B\n",
            "正解: A 算出: A\n",
            "正解: C 算出: C\n",
            "正解: B 算出: B\n",
            "正解: Ａ 算出: A\n",
            "============Error item============\n",
            "正解: Ｂ 算出: B\n",
            "============Error item============\n",
            "正解: Ｃ 算出: C\n",
            "============Error item============\n",
            "正解: C 算出: C\n",
            "正解: B 算出: B\n",
            "正解: C 算出: C\n",
            "正解: Ａ 算出: A\n",
            "============Error item============\n",
            "正解: Ｂ 算出: B\n",
            "============Error item============\n",
            "正解: Ｃ 算出: C\n",
            "============Error item============\n",
            "正解: C 算出: C\n",
            "正解: B 算出: B\n",
            "正解: C 算出: C\n",
            "正解: C 算出: C\n",
            "正解: A 算出: A\n",
            "正解: A 算出: A\n",
            "正解: Ａ 算出: A\n",
            "============Error item============\n",
            "正解: C 算出: C\n",
            "正解: C 算出: C\n",
            "正解: C 算出: C\n",
            "正解: A 算出: A\n",
            "正解: A 算出: A\n",
            "正解: C 算出: C\n",
            "正解: B 算出: B\n",
            "正解: Ａ 算出: A\n",
            "============Error item============\n",
            "正解: Ａ 算出: A\n",
            "============Error item============\n",
            "正解: Ａ 算出: A\n",
            "============Error item============\n",
            "正解: C 算出: C\n",
            "正解: A 算出: A\n",
            "正解: C 算出: C\n",
            "正解: A 算出: A\n",
            "正解: Ａ 算出: A\n",
            "============Error item============\n",
            "正解: C 算出: C\n",
            "正解: C 算出: C\n",
            "正解: A 算出: A\n",
            "正解: C 算出: C\n",
            "正解: C 算出: C\n",
            "正解: A 算出: A\n",
            "正解: B 算出: B\n",
            "正解: A 算出: A\n",
            "正解: Ｂ 算出: B\n",
            "============Error item============\n",
            "正解: Ａ 算出: A\n",
            "============Error item============\n",
            "正解: Ａ 算出: A\n",
            "============Error item============\n",
            "正解: B 算出: B\n",
            "正解: A 算出: A\n",
            "正解: A 算出: A\n",
            "正解: A 算出: A\n",
            "正解: C 算出: C\n",
            "正解: A 算出: A\n",
            "正解: A 算出: A\n",
            "正解: A 算出: A\n",
            "正解: C 算出: C\n",
            "正解: C 算出: C\n",
            "正解: C 算出: C\n",
            "正解: A 算出: A\n",
            "正解: C 算出: C\n",
            "正解: C 算出: C\n",
            "正解: B 算出: B\n",
            "正解: C 算出: B\n",
            "============Error item============\n",
            "正解: C 算出: C\n",
            "正解: Ａ 算出: A\n",
            "============Error item============\n",
            "正解: Ｂ 算出: B\n",
            "============Error item============\n",
            "正解: Ａ 算出: A\n",
            "============Error item============\n",
            "正解: C 算出: C\n",
            "正解: Ａ 算出: A\n",
            "============Error item============\n",
            "正解: Ａ 算出: A\n",
            "============Error item============\n",
            "正解: Ａ 算出: A\n",
            "============Error item============\n",
            "正解: Ａ 算出: A\n",
            "============Error item============\n",
            "正解: C 算出: C\n",
            "正解: Ａ 算出: A\n",
            "============Error item============\n",
            "正解: B 算出: B\n",
            "正解: C 算出: C\n",
            "正解: Ａ 算出: A\n",
            "============Error item============\n",
            "正解: Ｂ 算出: B\n",
            "============Error item============\n",
            "正解: C 算出: C\n",
            "正解: A 算出: A\n",
            "正解: Ａ 算出: A\n",
            "============Error item============\n",
            "正解: B 算出: B\n",
            "正解: A 算出: A\n",
            "正解: B 算出: B\n",
            "正解: C 算出: C\n",
            "正解: C 算出: C\n",
            "正解: B 算出: B\n",
            "正解: C 算出: C\n",
            "正解: A 算出: A\n",
            "正解: B 算出: B\n",
            "正解: Ａ 算出: A\n",
            "============Error item============\n",
            "正解: Ｃ 算出: C\n",
            "============Error item============\n",
            "正解: B 算出: B\n",
            "正解: Ａ 算出: A\n",
            "============Error item============\n",
            "正解: A 算出: A\n",
            "正解: C 算出: C\n",
            "正解: A 算出: A\n",
            "正解: B 算出: B\n",
            "正解: A 算出: A\n",
            "正解: A 算出: A\n",
            "正解: A 算出: A\n",
            "正解: C 算出: C\n",
            "正解: B 算出: B\n",
            "正解: C 算出: C\n",
            "正解: A 算出: A\n",
            "正解: B 算出: B\n",
            "正解: Ｃ 算出: C\n",
            "============Error item============\n",
            "正解: Ｂ 算出: B\n",
            "============Error item============\n",
            "正解: Ａ 算出: A\n",
            "============Error item============\n",
            "正解: B 算出: B\n",
            "正解: Ｃ 算出: C\n",
            "============Error item============\n",
            "正解: Ａ 算出: A\n",
            "============Error item============\n",
            "正解: A 算出: A\n",
            "正解: C 算出: C\n",
            "正解: Ｂ 算出: B\n",
            "============Error item============\n",
            "正解: Ｃ 算出: C\n",
            "============Error item============\n",
            "正解: Ａ 算出: A\n",
            "============Error item============\n",
            "正解: Ｃ 算出: C\n",
            "============Error item============\n",
            "正解: C 算出: C\n",
            "正解: B 算出: B\n",
            "正解: B 算出: B\n",
            "正解: C 算出: C\n",
            "正解: A 算出: A\n",
            "正解: C 算出: C\n",
            "正解: Ｃ 算出: C\n",
            "============Error item============\n",
            "正解: Ｂ 算出: B\n",
            "============Error item============\n",
            "正解: Ａ 算出: A\n",
            "============Error item============\n",
            "正解: C 算出: C\n",
            "正解: B 算出: B\n",
            "正解: Ａ 算出: A\n",
            "============Error item============\n",
            "正解: C 算出: C\n",
            "正解: C 算出: C\n",
            "正解: C 算出: C\n",
            "正解: B 算出: B\n",
            "正解: Ａ 算出: A\n",
            "============Error item============\n",
            "正解: B 算出: B\n",
            "正解: C 算出: C\n",
            "正解: Ｃ 算出: C\n",
            "============Error item============\n",
            "正解: Ｃ 算出: C\n",
            "============Error item============\n",
            "正解: C 算出: C\n",
            "正解: Ｃ 算出: C\n",
            "============Error item============\n",
            "正解: Ａ 算出: A\n",
            "============Error item============\n",
            "正解: B 算出: B\n",
            "正解: C 算出: C\n",
            "正解: Ａ 算出: A\n",
            "============Error item============\n",
            "正解: C 算出: C\n",
            "正解: Ａ 算出: A\n",
            "============Error item============\n",
            "正解: B 算出: B\n",
            "正解: A 算出: A\n",
            "正解: Ａ 算出: A\n",
            "============Error item============\n",
            "正解: C 算出: C\n",
            "正解: A 算出: A\n",
            "正解: B 算出: B\n",
            "正解: B 算出: B\n",
            "正解: A 算出: A\n",
            "正解: C 算出: C\n",
            "正解: Ｃ 算出: C\n",
            "============Error item============\n",
            "正解: C 算出: C\n",
            "正解: Ｃ 算出: C\n",
            "============Error item============\n",
            "正解: Ａ 算出: A\n",
            "============Error item============\n",
            "正解: B 算出: B\n",
            "正解: A 算出: A\n",
            "正解: B 算出: B\n",
            "正解: C 算出: C\n",
            "正解: B 算出: B\n",
            "正解: A 算出: A\n",
            "正解: A 算出: A\n",
            "正解: B 算出: B\n",
            "正解: A 算出: A\n",
            "正解: A 算出: A\n",
            "正解: C 算出: C\n",
            "正解: Ａ 算出: A\n",
            "============Error item============\n",
            "正解: Ｂ 算出: B\n",
            "============Error item============\n",
            "正解: B 算出: B\n",
            "正解: Ｂ 算出: B\n",
            "============Error item============\n",
            "正解: Ａ 算出: A\n",
            "============Error item============\n",
            "正解: Ｃ 算出: C\n",
            "============Error item============\n",
            "正解: Ｂ 算出: B\n",
            "============Error item============\n",
            "正解: C 算出: C\n",
            "正解: A 算出: A\n",
            "正解: Ａ 算出: A\n",
            "============Error item============\n",
            "正解: C 算出: C\n",
            "正解: Ａ 算出: A\n",
            "============Error item============\n",
            "正解: Ｂ 算出: B\n",
            "============Error item============\n",
            "正解: C 算出: C\n",
            "正解: B 算出: B\n",
            "正解: Ｃ 算出: C\n",
            "============Error item============\n",
            "正解: A 算出: A\n",
            "696 459 0.6594827586206896\n"
          ],
          "name": "stdout"
        }
      ]
    }
  ]
}
